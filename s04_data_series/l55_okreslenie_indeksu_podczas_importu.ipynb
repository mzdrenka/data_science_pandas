{
 "cells": [
  {
   "cell_type": "markdown",
   "id": "fd8b8321-b824-4ba4-8888-c2deffc5146c",
   "metadata": {},
   "source": [
    "LAB - S02-L015 - Określanie indeksu podczas\n",
    "wczytywania pliku CSV\n",
    "1. Zaimportuj moduł pandas i nadaj mu standardowy alias.\n",
    "2. Do zmiennej fortune500 wczytaj dane z pliku Fortune_500_2017.csv. Wczytaj kolumny Rank i\n",
    "Title. Kolumna Rank powinna stać się indeksem. Wyświetl nagłówek otrzymanej serii danych.\n",
    "3. Wyświetl 10 pierwszych firm znajdujących się najwyżej w klasyfikacji Fortune 500\n",
    "4. Wyświetl 20 ostatnich firm znajdujących się w klasyfikacji Fortune 500\n",
    "5. Wczytaj jeszcze raz plik, ale tym razem indeksem ma być kolumna Title, a wartościami\n",
    "kolumna Employees opisująca ilość pracowników w każdej firmie.\n",
    "6. Sprawdź ilu pracowników pracuje dla IBM, Alphabet (Google), Facebook i Apple\n",
    "7. Wyświetl infromacje o ilości pracowników dla firm od IBM do Intel"
   ]
  },
  {
   "cell_type": "code",
   "execution_count": 8,
   "id": "75980f64-f9c2-4fa7-a7cc-b3d74aca66ab",
   "metadata": {},
   "outputs": [],
   "source": [
    "import pandas as pd"
   ]
  },
  {
   "cell_type": "code",
   "execution_count": 9,
   "id": "1f771e04-93d4-44cc-b02d-27b1e6f1bcbf",
   "metadata": {},
   "outputs": [],
   "source": [
    "fortune500 = pd.read_csv('../zasoby/Fortune_500_2017.csv', usecols=['Rank', 'Title'], index_col='Rank').squeeze()"
   ]
  },
  {
   "cell_type": "code",
   "execution_count": 10,
   "id": "61b66068-497b-498b-bdf6-409e5d41b911",
   "metadata": {},
   "outputs": [
    {
     "data": {
      "text/plain": [
       "Rank\n",
       "1               Walmart\n",
       "2    Berkshire Hathaway\n",
       "3                 Apple\n",
       "4           Exxon Mobil\n",
       "5              McKesson\n",
       "Name: Title, dtype: object"
      ]
     },
     "execution_count": 10,
     "metadata": {},
     "output_type": "execute_result"
    }
   ],
   "source": [
    "fortune500.head()"
   ]
  },
  {
   "cell_type": "code",
   "execution_count": 11,
   "id": "63a57c3f-ff7f-4892-b8b9-8d39d5f76a31",
   "metadata": {},
   "outputs": [
    {
     "data": {
      "text/plain": [
       "Rank\n",
       "1                Walmart\n",
       "2     Berkshire Hathaway\n",
       "3                  Apple\n",
       "4            Exxon Mobil\n",
       "5               McKesson\n",
       "6     UnitedHealth Group\n",
       "7             CVS Health\n",
       "8         General Motors\n",
       "9                   AT&T\n",
       "10            Ford Motor\n",
       "Name: Title, dtype: object"
      ]
     },
     "execution_count": 11,
     "metadata": {},
     "output_type": "execute_result"
    }
   ],
   "source": [
    "fortune500.head(10)"
   ]
  },
  {
   "cell_type": "code",
   "execution_count": 12,
   "id": "55107c35-25ae-48ad-ab74-579b64c8e46f",
   "metadata": {},
   "outputs": [
    {
     "data": {
      "text/plain": [
       "Rank\n",
       "481           Booz Allen Hamilton Holding\n",
       "482                              Chemours\n",
       "483    Western & Southern Financial Group\n",
       "484                              Celanese\n",
       "485                   Windstream Holdings\n",
       "486                              Seaboard\n",
       "487                             Essendant\n",
       "488                                Apache\n",
       "489                                Airgas\n",
       "490                        Kelly Services\n",
       "491                         Liberty Media\n",
       "492                      Rockwell Collins\n",
       "493             Robert Half International\n",
       "494                             CH2M Hill\n",
       "495                              Big Lots\n",
       "496                         Michaels Cos.\n",
       "497                         Toll Brothers\n",
       "498                                 Yahoo\n",
       "499                         Vistra Energy\n",
       "500                        ABM Industries\n",
       "Name: Title, dtype: object"
      ]
     },
     "execution_count": 12,
     "metadata": {},
     "output_type": "execute_result"
    }
   ],
   "source": [
    "fortune500.tail(20)"
   ]
  },
  {
   "cell_type": "code",
   "execution_count": 13,
   "id": "fc69bb3e-211a-479f-8112-ba3e6e448975",
   "metadata": {},
   "outputs": [],
   "source": [
    "fortune500 = pd.read_csv('../zasoby/Fortune_500_2017.csv', usecols=['Employees', 'Title'], index_col='Title').squeeze()"
   ]
  },
  {
   "cell_type": "code",
   "execution_count": 19,
   "id": "db2e99bf-7b78-4e42-91a8-1143f7a6b033",
   "metadata": {},
   "outputs": [
    {
     "data": {
      "text/plain": [
       "Title\n",
       "Apple       116000\n",
       "Alphabet     72053\n",
       "IBM         414400\n",
       "Facebook     17048\n",
       "Name: Employees, dtype: int64"
      ]
     },
     "execution_count": 19,
     "metadata": {},
     "output_type": "execute_result"
    }
   ],
   "source": [
    "companies=['IBM', 'Alphabet', 'Facebook', 'Apple']\n",
    "#fortune500.loc[companies]\n",
    "fortune500.loc[fortune500.index.intersection(companies)]"
   ]
  },
  {
   "cell_type": "code",
   "execution_count": 22,
   "id": "ebe5154a-c8c8-470e-ba64-3b56c29cd7c8",
   "metadata": {},
   "outputs": [
    {
     "data": {
      "text/plain": [
       "Title\n",
       "IBM                          414400\n",
       "State Farm Insurance Cos.     68234\n",
       "Phillips 66                   14800\n",
       "Johnson & Johnson            126400\n",
       "Procter & Gamble             105000\n",
       "Valero Energy                  9996\n",
       "Target                       323000\n",
       "Freddie Mac                    5982\n",
       "Lowe’s                       240000\n",
       "Dell Technologies            138000\n",
       "MetLife                       58000\n",
       "Aetna                         49500\n",
       "PepsiCo                      264000\n",
       "Archer Daniels Midland        31800\n",
       "UPS                          335520\n",
       "Intel                        106000\n",
       "Name: Employees, dtype: int64"
      ]
     },
     "execution_count": 22,
     "metadata": {},
     "output_type": "execute_result"
    }
   ],
   "source": [
    "fortune500['IBM':'Intel']"
   ]
  }
 ],
 "metadata": {
  "kernelspec": {
   "display_name": "Python 3 (ipykernel)",
   "language": "python",
   "name": "python3"
  },
  "language_info": {
   "codemirror_mode": {
    "name": "ipython",
    "version": 3
   },
   "file_extension": ".py",
   "mimetype": "text/x-python",
   "name": "python",
   "nbconvert_exporter": "python",
   "pygments_lexer": "ipython3",
   "version": "3.11.7"
  }
 },
 "nbformat": 4,
 "nbformat_minor": 5
}
