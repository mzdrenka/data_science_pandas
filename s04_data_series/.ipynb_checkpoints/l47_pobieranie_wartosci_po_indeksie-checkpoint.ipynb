{
 "cells": [
  {
   "cell_type": "markdown",
   "id": "637408dd-9657-4ef0-981a-d9ac7c2ee95d",
   "metadata": {},
   "source": [
    "LAB - S02-L012 - Pobieranie wartości po indeksie\n",
    "1. Zaimportuj moduł pandas i nadaj mu standardowy alias. Do zmiennej surveys zapisz data series pobierając wartości z pliku StackOverflowDeveloperSurvey.csv kolumnę CompanySize. Wyświetl pięć pierwszych pozycji tej serii.\n",
    "2. Wyświetl wartość z pozycji 3 (indeks 3)\n",
    "3. Wyświetl elementy z pozycji 1-10 włącznie. Czy wartość na trzeciej pozycji jest zgodna z\n",
    "wynikiem z poprzedniego punktu?\n",
    "4. Wyświetl wartość z pozycji 12345 (indeks 12345)\n",
    "5. Wyświetl elementy z pozycji 12341 - 12350 włącznie. Czy wartość na pozycji 12345 jest\n",
    "zgodna z wynikiem z poprzedniego punktu?\n",
    "6. Posortuj serię surveys korzystając z parametru inplace=True\n",
    "7. Wyświetl wartość z pozycji 3 (indeks 3), czy to nadal ta sama wartość co poprzednio?\n",
    "8. Wyświetl elementy z pozycji 1-10 włącznie. Czy wartość na trzeciej pozycji jest zgodna z\n",
    "wynikiem z poprzedniego punktu? Czy ten wynik nie jest dziwny??\n",
    "9. Wyświetl wartość z pozycji 12345 (indeks 12345), czy to nadal ta sama wartość co\n",
    "poprzednio?\n",
    "10. Wyświetl elementy z pozycji 12341 - 12350 włącznie. Czy wartość na trzeciej pozycji jest\n",
    "zgodna z wynikiem z poprzedniego punktu? Czy ten wynik nie jest dziwny??\n",
    "11. Wykonaj polecenie resetujące indeks (będzie o nim mowa w dalszej części kursu, na razie\n",
    "weź to \"na wiarę\"): surveys.reset_index(drop=True,inplace=True)\n",
    "12. Wykonaj ponownie polecenia z pkt 7 - 10. Czy teraz wyniki bardziej pasują?"
   ]
  },
  {
   "cell_type": "code",
   "execution_count": 1,
   "id": "7f1bb2af-0f9f-44e3-9f40-341bb3e9884a",
   "metadata": {},
   "outputs": [],
   "source": [
    "import pandas as pd\n",
    "import numpy as np\n",
    "import matplotlib.pyplot as plt\n",
    "import math as math"
   ]
  },
  {
   "cell_type": "code",
   "execution_count": 2,
   "id": "b9dc335d-38b8-4152-a607-eef22b971174",
   "metadata": {},
   "outputs": [],
   "source": [
    "surveys =  pd.read_csv('../zasoby/StackOverflowDeveloperSurvey.csv', usecols=['CompanySize']).squeeze().dropna()"
   ]
  },
  {
   "cell_type": "code",
   "execution_count": 3,
   "id": "d3f29471-0b58-4862-983e-880813f8210f",
   "metadata": {},
   "outputs": [
    {
     "data": {
      "text/plain": [
       "'10,000 or more employees'"
      ]
     },
     "execution_count": 3,
     "metadata": {},
     "output_type": "execute_result"
    }
   ],
   "source": [
    "surveys[3]"
   ]
  },
  {
   "cell_type": "code",
   "execution_count": 4,
   "id": "8751b466-435d-4dd7-8f31-c46e458da238",
   "metadata": {},
   "outputs": [
    {
     "data": {
      "text/plain": [
       "2     10,000 or more employees\n",
       "3     10,000 or more employees\n",
       "4           10 to 19 employees\n",
       "6           20 to 99 employees\n",
       "7      Fewer than 10 employees\n",
       "8     5,000 to 9,999 employees\n",
       "10        100 to 499 employees\n",
       "11        100 to 499 employees\n",
       "13     Fewer than 10 employees\n",
       "14    5,000 to 9,999 employees\n",
       "Name: CompanySize, dtype: object"
      ]
     },
     "execution_count": 4,
     "metadata": {},
     "output_type": "execute_result"
    }
   ],
   "source": [
    "surveys[1:11]"
   ]
  },
  {
   "cell_type": "code",
   "execution_count": 5,
   "id": "22619479-f2bc-4cd6-8780-bf83befbcb1b",
   "metadata": {},
   "outputs": [
    {
     "data": {
      "text/plain": [
       "'20 to 99 employees'"
      ]
     },
     "execution_count": 5,
     "metadata": {},
     "output_type": "execute_result"
    }
   ],
   "source": [
    "surveys[12345]"
   ]
  },
  {
   "cell_type": "code",
   "execution_count": 6,
   "id": "59a3e1cd-2fda-4a04-834e-a1adcb87a420",
   "metadata": {},
   "outputs": [
    {
     "data": {
      "text/plain": [
       "15989    1,000 to 4,999 employees\n",
       "15991          20 to 99 employees\n",
       "15992          10 to 19 employees\n",
       "15993    1,000 to 4,999 employees\n",
       "15994          20 to 99 employees\n",
       "15995        100 to 499 employees\n",
       "15996          10 to 19 employees\n",
       "15997                I don't know\n",
       "15998          20 to 99 employees\n",
       "15999        100 to 499 employees\n",
       "Name: CompanySize, dtype: object"
      ]
     },
     "execution_count": 6,
     "metadata": {},
     "output_type": "execute_result"
    }
   ],
   "source": [
    "surveys[12341:12351]"
   ]
  },
  {
   "cell_type": "code",
   "execution_count": 7,
   "id": "b33d3f40-4d3b-4d0f-818c-9c6539209727",
   "metadata": {},
   "outputs": [],
   "source": [
    "surveys.sort_values(inplace=True)"
   ]
  },
  {
   "cell_type": "code",
   "execution_count": 8,
   "id": "8d64e419-1ce9-429c-9be4-a3ca86919685",
   "metadata": {},
   "outputs": [
    {
     "data": {
      "text/plain": [
       "'10,000 or more employees'"
      ]
     },
     "execution_count": 8,
     "metadata": {},
     "output_type": "execute_result"
    }
   ],
   "source": [
    "surveys[3]"
   ]
  },
  {
   "cell_type": "code",
   "execution_count": 9,
   "id": "3d3325ad-698f-465d-8c6c-5b5aebda6380",
   "metadata": {},
   "outputs": [
    {
     "data": {
      "text/plain": [
       "36683    1,000 to 4,999 employees\n",
       "43105    1,000 to 4,999 employees\n",
       "43102    1,000 to 4,999 employees\n",
       "30582    1,000 to 4,999 employees\n",
       "43072    1,000 to 4,999 employees\n",
       "43063    1,000 to 4,999 employees\n",
       "23955    1,000 to 4,999 employees\n",
       "43060    1,000 to 4,999 employees\n",
       "43056    1,000 to 4,999 employees\n",
       "30558    1,000 to 4,999 employees\n",
       "Name: CompanySize, dtype: object"
      ]
     },
     "execution_count": 9,
     "metadata": {},
     "output_type": "execute_result"
    }
   ],
   "source": [
    "surveys[1:11]"
   ]
  },
  {
   "cell_type": "code",
   "execution_count": 10,
   "id": "4f31b655-2b2d-4e42-bece-071848d7c6f6",
   "metadata": {},
   "outputs": [
    {
     "data": {
      "text/plain": [
       "'20 to 99 employees'"
      ]
     },
     "execution_count": 10,
     "metadata": {},
     "output_type": "execute_result"
    }
   ],
   "source": [
    "surveys[12345]"
   ]
  },
  {
   "cell_type": "code",
   "execution_count": 12,
   "id": "3844b6d5-bed7-4731-b749-42e0b551aa24",
   "metadata": {},
   "outputs": [
    {
     "data": {
      "text/plain": [
       "14554    10,000 or more employees\n",
       "9429     10,000 or more employees\n",
       "6384     10,000 or more employees\n",
       "1102     10,000 or more employees\n",
       "14549    10,000 or more employees\n",
       "14547    10,000 or more employees\n",
       "14570    10,000 or more employees\n",
       "14575    10,000 or more employees\n",
       "6410     10,000 or more employees\n",
       "14576    10,000 or more employees\n",
       "Name: CompanySize, dtype: object"
      ]
     },
     "execution_count": 12,
     "metadata": {},
     "output_type": "execute_result"
    }
   ],
   "source": [
    "surveys[12341:12351]"
   ]
  },
  {
   "cell_type": "code",
   "execution_count": 13,
   "id": "daa6750b-5b8b-4ded-982d-48aceaec4fdd",
   "metadata": {},
   "outputs": [],
   "source": [
    "surveys.reset_index(drop=True,inplace=True)"
   ]
  },
  {
   "cell_type": "code",
   "execution_count": 14,
   "id": "16df2621-a1c0-42cc-8829-9bdc6757df5f",
   "metadata": {},
   "outputs": [
    {
     "data": {
      "text/plain": [
       "'1,000 to 4,999 employees'"
      ]
     },
     "execution_count": 14,
     "metadata": {},
     "output_type": "execute_result"
    }
   ],
   "source": [
    "surveys[3]"
   ]
  },
  {
   "cell_type": "code",
   "execution_count": 15,
   "id": "9923a2f7-cd5d-442a-be16-d2dfa04c2f39",
   "metadata": {},
   "outputs": [
    {
     "data": {
      "text/plain": [
       "1     1,000 to 4,999 employees\n",
       "2     1,000 to 4,999 employees\n",
       "3     1,000 to 4,999 employees\n",
       "4     1,000 to 4,999 employees\n",
       "5     1,000 to 4,999 employees\n",
       "6     1,000 to 4,999 employees\n",
       "7     1,000 to 4,999 employees\n",
       "8     1,000 to 4,999 employees\n",
       "9     1,000 to 4,999 employees\n",
       "10    1,000 to 4,999 employees\n",
       "Name: CompanySize, dtype: object"
      ]
     },
     "execution_count": 15,
     "metadata": {},
     "output_type": "execute_result"
    }
   ],
   "source": [
    "surveys[1:11]"
   ]
  },
  {
   "cell_type": "code",
   "execution_count": 16,
   "id": "8f0f0159-d941-44b8-85b0-9cc265110f7e",
   "metadata": {},
   "outputs": [
    {
     "data": {
      "text/plain": [
       "'10,000 or more employees'"
      ]
     },
     "execution_count": 16,
     "metadata": {},
     "output_type": "execute_result"
    }
   ],
   "source": [
    "surveys[12345]"
   ]
  },
  {
   "cell_type": "code",
   "execution_count": 17,
   "id": "001e6d64-d757-47fa-afb9-6080ea85b3f3",
   "metadata": {},
   "outputs": [
    {
     "data": {
      "text/plain": [
       "12341    10,000 or more employees\n",
       "12342    10,000 or more employees\n",
       "12343    10,000 or more employees\n",
       "12344    10,000 or more employees\n",
       "12345    10,000 or more employees\n",
       "12346    10,000 or more employees\n",
       "12347    10,000 or more employees\n",
       "12348    10,000 or more employees\n",
       "12349    10,000 or more employees\n",
       "12350    10,000 or more employees\n",
       "Name: CompanySize, dtype: object"
      ]
     },
     "execution_count": 17,
     "metadata": {},
     "output_type": "execute_result"
    }
   ],
   "source": [
    "surveys[12341:12351]"
   ]
  },
  {
   "cell_type": "code",
   "execution_count": null,
   "id": "9ec62a9b-1599-49d3-82b2-2daeb95280d4",
   "metadata": {},
   "outputs": [],
   "source": []
  }
 ],
 "metadata": {
  "kernelspec": {
   "display_name": "Python 3 (ipykernel)",
   "language": "python",
   "name": "python3"
  },
  "language_info": {
   "codemirror_mode": {
    "name": "ipython",
    "version": 3
   },
   "file_extension": ".py",
   "mimetype": "text/x-python",
   "name": "python",
   "nbconvert_exporter": "python",
   "pygments_lexer": "ipython3",
   "version": "3.11.7"
  }
 },
 "nbformat": 4,
 "nbformat_minor": 5
}
