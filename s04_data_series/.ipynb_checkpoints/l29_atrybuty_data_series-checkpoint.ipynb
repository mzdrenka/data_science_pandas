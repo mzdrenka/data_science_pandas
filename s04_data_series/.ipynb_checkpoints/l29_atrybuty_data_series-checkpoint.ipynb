{
 "cells": [
  {
   "cell_type": "markdown",
   "id": "305b2511-fde8-4637-a25b-79217e869675",
   "metadata": {},
   "source": [
    "S02-L004 - LAB - Atrybuty Data Series\n",
    "1. Zaimportuj moduły: pandas, numpy, matplotlib (tylko pyplot), math i nadaj im standardowe aliasy\n",
    "2. Zaimportuj moduł random z aliasem rnd, a potem:\n",
    "Zadeklaruj zmieną dataAsFloatList jako listę.\n",
    "Napisz pętlę, która 100000 doda do listy element wyliczony wzorem i*rnd.random() gdzie i to kolejny numer pętli\n",
    "Następnie w oparciu o listę dataAsFloatList utwórz obiekt series i zapisz go w zmiennej dataAsFloatSeries.\n",
    "3. Wyświetl następujące atrybuty dataAsFloatSeries: size\n",
    "nbytes shape\n",
    "axes\n",
    "dtype\n",
    "index is_unique is_monotonic\n",
    "4. Powtórz kroki z punktu (2) z drobnymi zmianami:\n",
    "Zadeklaruj zmieną dataAsStringList jako listę.\n",
    "Napisz pętlę, która 100000 doda do listy element wyliczony wzorem str(i*rnd.random()) gdzie i to kolejny numer pętli\n",
    "Następnie w oparciu o listę dataAsStringList utwórz obiekt series i zapisz go w zmiennej dataAsStringSeries.\n",
    "5. Podobnie jak poprzednio wyświetl atrybuty dataAsStringSeries: size\n",
    "nbytes dtype\n",
    "6. Czy Twoim zdaniem nbytes dla obu obiektów Data Series powinny być takie same czy inne? A jakie są?\n",
    "7. Wyjaśnienie dla punktu (6). Atrybut nbytes \"szacuje zajętość pamięci bardzo z grubsza\". Ta metoda jest szybka ale niedokładna. Jeśli chcesz dokładnie policzyć ilość zajmowanej pamięci skorzystaj z metody (metody dokładnie omawiamy w kolejnej lekcji):\n",
    "dataAsFloatSeries.memory_usage(deep=True) dataAsStringSeries.memory_usage(deep=True)"
   ]
  },
  {
   "cell_type": "code",
   "execution_count": 11,
   "id": "a77e2ecb-f507-473f-b8e8-601fa4eb9977",
   "metadata": {},
   "outputs": [],
   "source": [
    "import pandas as pd\n",
    "import numpy as np\n",
    "import matplotlib\n",
    "import random as rnd"
   ]
  },
  {
   "cell_type": "code",
   "execution_count": 12,
   "id": "5d341c21-8291-4c7d-8291-864043e2c567",
   "metadata": {},
   "outputs": [],
   "source": [
    "data_as_float_list = [x * rnd.random() for x in range(100000)]\n",
    "data_as_float_list_series = pd.Series(data_as_float_list)"
   ]
  },
  {
   "cell_type": "code",
   "execution_count": 13,
   "id": "ce8d71e7-8603-436e-87a0-1962703010db",
   "metadata": {},
   "outputs": [
    {
     "name": "stdout",
     "output_type": "stream",
     "text": [
      "Size: 100000\n",
      "Nbytes: 800000\n",
      "Shape: (100000,)\n",
      "Axes: [RangeIndex(start=0, stop=100000, step=1)]\n",
      "Dtype: float64\n",
      "Index: RangeIndex(start=0, stop=100000, step=1)\n",
      "Is unique: True\n",
      "Is meonotonic decreasing: False\n",
      "Is meonotonic increasing: False\n"
     ]
    }
   ],
   "source": [
    "print(f'Size: {data_as_float_list_series.size}') \n",
    "print(f'Nbytes: {data_as_float_list_series.nbytes}') \n",
    "print(f'Shape: {data_as_float_list_series.shape}')\n",
    "print(f'Axes: {data_as_float_list_series.axes}')\n",
    "print(f'Dtype: {data_as_float_list_series.dtype}')\n",
    "print(f'Index: {data_as_float_list_series.index}')\n",
    "print(f'Is unique: {data_as_float_list_series.is_unique}')\n",
    "print(f'Is meonotonic decreasing: {data_as_float_list_series.is_monotonic_decreasing}')\n",
    "print(f'Is meonotonic increasing: {data_as_float_list_series.is_monotonic_increasing}')"
   ]
  },
  {
   "cell_type": "code",
   "execution_count": 18,
   "id": "c160a6b5-af54-4448-8e94-03d57ff1fb27",
   "metadata": {},
   "outputs": [],
   "source": [
    "data_as_string_list = [str(x * rnd.random()) for x in range(100000)]\n",
    "data_as_string_list_series = pd.Series(data_as_string_list)"
   ]
  },
  {
   "cell_type": "code",
   "execution_count": 19,
   "id": "c8a29cf0-62e3-4c1b-9e0c-34a8a2e5dae1",
   "metadata": {},
   "outputs": [
    {
     "name": "stdout",
     "output_type": "stream",
     "text": [
      "Size: 100000\n",
      "Nbytes: 800000\n",
      "Dtype: object\n"
     ]
    }
   ],
   "source": [
    "print(f'Size: {data_as_string_list_series.size}') \n",
    "print(f'Nbytes: {data_as_string_list_series.nbytes}') \n",
    "print(f'Dtype: {data_as_string_list_series.dtype}') "
   ]
  },
  {
   "cell_type": "code",
   "execution_count": 21,
   "id": "65f92fb8-34f0-41c5-9853-cd1bbdcbd7d9",
   "metadata": {},
   "outputs": [
    {
     "data": {
      "text/plain": [
       "800132"
      ]
     },
     "execution_count": 21,
     "metadata": {},
     "output_type": "execute_result"
    }
   ],
   "source": [
    "data_as_float_list_series.memory_usage(deep=True)"
   ]
  },
  {
   "cell_type": "code",
   "execution_count": 22,
   "id": "32803905-1f8f-457f-82be-95f7c2cd6742",
   "metadata": {},
   "outputs": [
    {
     "data": {
      "text/plain": [
       "7434801"
      ]
     },
     "execution_count": 22,
     "metadata": {},
     "output_type": "execute_result"
    }
   ],
   "source": [
    "data_as_string_list_series.memory_usage(deep=True)"
   ]
  }
 ],
 "metadata": {
  "kernelspec": {
   "display_name": "Python 3 (ipykernel)",
   "language": "python",
   "name": "python3"
  },
  "language_info": {
   "codemirror_mode": {
    "name": "ipython",
    "version": 3
   },
   "file_extension": ".py",
   "mimetype": "text/x-python",
   "name": "python",
   "nbconvert_exporter": "python",
   "pygments_lexer": "ipython3",
   "version": "3.11.7"
  }
 },
 "nbformat": 4,
 "nbformat_minor": 5
}
