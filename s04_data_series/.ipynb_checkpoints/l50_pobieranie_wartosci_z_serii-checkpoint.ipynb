{
 "cells": [
  {
   "cell_type": "markdown",
   "id": "22568e77-ac98-486c-b94b-a0415be56dda",
   "metadata": {},
   "source": [
    "LAB - S02-L013 - Porównanie metod wyszukiwania danych po indeksie\n",
    "1. Zaimportuj moduł pandas i nadaj mu standardowy alias.\n",
    "2. Utwórz serię countries importując z pliku countries.csv kolumny Symbol i Name. Kolumna Symbol powinna\n",
    "stać sie indeksem serii. Skorzystaj z polecenia:\n",
    "countries = pd.read_csv(\"countries.csv\", usecols=['Symbol','Name'],index_col='Symbol',squeeze=True)\n",
    "3. Wyświetl 20 pierwszych wierszy tej serii.\n",
    "4. Znanymi Ci metodami wyświetl z serii wiersz odpowiadający Symbolowi \"FR\"\n",
    "5. Znanymi Ci metodami wyświetl z serii wiersz znajdujący się na pozycji 13.\n",
    "6. Utwórz listę nordic i wpisz do niej 3 elementy: \"FI\", \"SE\", \"NO\".\n",
    "7. Znanymi Ci metodami wyświetl wiersze odpowiadające symbolom znajdującym się na liście nordic"
   ]
  },
  {
   "cell_type": "code",
   "execution_count": 2,
   "id": "b9daca8e-4f25-44c2-832c-891adccb5c23",
   "metadata": {},
   "outputs": [],
   "source": [
    "import pandas as pd"
   ]
  },
  {
   "cell_type": "code",
   "execution_count": 4,
   "id": "f80e6385-d1a7-41c2-948c-88007788d212",
   "metadata": {},
   "outputs": [],
   "source": [
    "countries = pd.read_csv(\"../zasoby/countries.csv\", usecols=['Symbol','Name'],index_col='Symbol').squeeze()"
   ]
  },
  {
   "cell_type": "code",
   "execution_count": 13,
   "id": "980371e9-63da-4ddd-a3d5-507fb5366ed3",
   "metadata": {},
   "outputs": [
    {
     "data": {
      "text/plain": [
       "Symbol\n",
       "AF            Afghanistan\n",
       "AL                Albania\n",
       "DZ                Algeria\n",
       "AD                Andorra\n",
       "AO                 Angola\n",
       "AI               Anguilla\n",
       "AQ             Antarctica\n",
       "AG    Antigua and Barbuda\n",
       "SA           Saudi Arabia\n",
       "AR              Argentina\n",
       "AM                Armenia\n",
       "AW                  Aruba\n",
       "AU              Australia\n",
       "AT                Austria\n",
       "AZ             Azerbaijan\n",
       "BS                Bahamas\n",
       "BH                Bahrain\n",
       "BD             Bangladesh\n",
       "BB               Barbados\n",
       "BE                Belgium\n",
       "Name: Name, dtype: object"
      ]
     },
     "execution_count": 13,
     "metadata": {},
     "output_type": "execute_result"
    }
   ],
   "source": [
    "countries.head(20)"
   ]
  },
  {
   "cell_type": "code",
   "execution_count": 9,
   "id": "321abff4-1af6-4b83-b22d-1b2972d529da",
   "metadata": {},
   "outputs": [
    {
     "data": {
      "text/plain": [
       "'France'"
      ]
     },
     "execution_count": 9,
     "metadata": {},
     "output_type": "execute_result"
    }
   ],
   "source": [
    "countries['FR']"
   ]
  },
  {
   "cell_type": "code",
   "execution_count": 10,
   "id": "d4c66259-dac6-451e-b817-cd583b559a59",
   "metadata": {},
   "outputs": [
    {
     "data": {
      "text/plain": [
       "'France'"
      ]
     },
     "execution_count": 10,
     "metadata": {},
     "output_type": "execute_result"
    }
   ],
   "source": [
    "countries.get('FR')"
   ]
  },
  {
   "cell_type": "code",
   "execution_count": 11,
   "id": "8d0dfa46-162f-4187-8b76-57b369677752",
   "metadata": {},
   "outputs": [
    {
     "data": {
      "text/plain": [
       "'France'"
      ]
     },
     "execution_count": 11,
     "metadata": {},
     "output_type": "execute_result"
    }
   ],
   "source": [
    "countries.loc['FR']"
   ]
  },
  {
   "cell_type": "code",
   "execution_count": 12,
   "id": "7a531655-4e40-4cbf-8a09-9b7788bb1f05",
   "metadata": {},
   "outputs": [
    {
     "data": {
      "text/plain": [
       "'France'"
      ]
     },
     "execution_count": 12,
     "metadata": {},
     "output_type": "execute_result"
    }
   ],
   "source": [
    "countries.at['FR']"
   ]
  },
  {
   "cell_type": "code",
   "execution_count": 15,
   "id": "10b72361-357b-448f-8651-a3a41fa1258c",
   "metadata": {},
   "outputs": [
    {
     "data": {
      "text/plain": [
       "'Austria'"
      ]
     },
     "execution_count": 15,
     "metadata": {},
     "output_type": "execute_result"
    }
   ],
   "source": [
    "countries.iloc[13]"
   ]
  },
  {
   "cell_type": "code",
   "execution_count": 16,
   "id": "302f4d83-0873-49f8-b108-61998af3cd43",
   "metadata": {},
   "outputs": [
    {
     "data": {
      "text/plain": [
       "'Austria'"
      ]
     },
     "execution_count": 16,
     "metadata": {},
     "output_type": "execute_result"
    }
   ],
   "source": [
    "countries.iat[13]"
   ]
  },
  {
   "cell_type": "code",
   "execution_count": 17,
   "id": "511e1345-508e-4458-9498-98728b282059",
   "metadata": {},
   "outputs": [],
   "source": [
    "nordic = [\"FI\", \"SE\", \"NO\"]"
   ]
  },
  {
   "cell_type": "code",
   "execution_count": 18,
   "id": "5c1055f3-e07b-4042-9249-8cbce9fc3c17",
   "metadata": {},
   "outputs": [
    {
     "data": {
      "text/plain": [
       "Symbol\n",
       "FI    Finland\n",
       "SE     Sweden\n",
       "NO     Norway\n",
       "Name: Name, dtype: object"
      ]
     },
     "execution_count": 18,
     "metadata": {},
     "output_type": "execute_result"
    }
   ],
   "source": [
    "countries[nordic]"
   ]
  },
  {
   "cell_type": "code",
   "execution_count": 19,
   "id": "1b5ad516-88ec-43f6-a4b9-476d5965d9da",
   "metadata": {},
   "outputs": [
    {
     "data": {
      "text/plain": [
       "Symbol\n",
       "FI    Finland\n",
       "SE     Sweden\n",
       "NO     Norway\n",
       "Name: Name, dtype: object"
      ]
     },
     "execution_count": 19,
     "metadata": {},
     "output_type": "execute_result"
    }
   ],
   "source": [
    "countries.loc[nordic]"
   ]
  },
  {
   "cell_type": "code",
   "execution_count": null,
   "id": "2f6a13b5-8903-41ed-a03d-3f440269f0dc",
   "metadata": {},
   "outputs": [],
   "source": [
    "countries.at[nordic"
   ]
  }
 ],
 "metadata": {
  "kernelspec": {
   "display_name": "Python 3 (ipykernel)",
   "language": "python",
   "name": "python3"
  },
  "language_info": {
   "codemirror_mode": {
    "name": "ipython",
    "version": 3
   },
   "file_extension": ".py",
   "mimetype": "text/x-python",
   "name": "python",
   "nbconvert_exporter": "python",
   "pygments_lexer": "ipython3",
   "version": "3.11.7"
  }
 },
 "nbformat": 4,
 "nbformat_minor": 5
}
