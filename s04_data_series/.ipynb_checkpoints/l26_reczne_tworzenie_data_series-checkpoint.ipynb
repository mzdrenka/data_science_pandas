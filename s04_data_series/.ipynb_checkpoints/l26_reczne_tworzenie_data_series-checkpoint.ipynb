{
 "cells": [
  {
   "cell_type": "markdown",
   "id": "1f21e351-2ad4-4e73-82ed-2cc3e7c55d10",
   "metadata": {},
   "source": [
    "S02-L003 - LAB - Ręczne tworzenie Data Series\n",
    "1. Zaimportuj moduły: pandas, numpy, matplotlib (tylko pyplot), math i nadaj im standardowe aliasy\n",
    "2. Utwórz listę dni tygodnia i nazwij ją weekdays\n",
    "3. W oparciu o tą listę utwórz obiekt Data Series. Zapisz go w zmiennej weekdaysSeries i wyświetl tą zmienną.\n",
    "4. Utwórz listę freeDays, która bedzie zawierała tyle samo elementów co lista weekdays. W kolejnych pozycjach\n",
    "tej listy zapisuj informację True/False oznaczającą, czy dany dzień tygodnia jest wolny czy nie.\n",
    "5. W oparciu o listę freeDays utwórz obiekt Data Series. Zapisz go w zmiennej freeDaysSeries i wyświetl tą\n",
    "zmienną. Zwróć uwagę na typ listy\n",
    "6. Utwórz hash table (dictionary) o nazwie holidays, gdzie kluczem jest nazwa święta, a wartością data, (bez\n",
    "przesady - do ćwiczenia 3 święta wystarczą), np.\n",
    "New Year - 2018-01-01 Epiphany - 2018-01-06 Easter - 2018-04-01\n",
    "7. W oparciu o hash table holidays utwórz Data Series i zapisz go w zmiennej holidaysSeries i wyświetl tą zmienną."
   ]
  },
  {
   "cell_type": "code",
   "execution_count": 1,
   "id": "e377fd37-ee84-475e-bfd6-177b54c95f6f",
   "metadata": {},
   "outputs": [],
   "source": [
    "import pandas as pd\n",
    "import numpy as np\n",
    "import matplotlib.pyplot as plt\n",
    "import math as math"
   ]
  },
  {
   "cell_type": "code",
   "execution_count": 3,
   "id": "0e801d53-7754-459c-9e6c-66693c020a90",
   "metadata": {},
   "outputs": [
    {
     "data": {
      "text/plain": [
       "0       Monday\n",
       "1      Tuesday\n",
       "2    Wednesday\n",
       "3     Thursday\n",
       "4       Friday\n",
       "5     Saturday\n",
       "6       Sunday\n",
       "dtype: object"
      ]
     },
     "execution_count": 3,
     "metadata": {},
     "output_type": "execute_result"
    }
   ],
   "source": [
    "weekdays = [\"Monday\",'Tuesday','Wednesday','Thursday','Friday','Saturday','Sunday']\n",
    "weekdays_series = pd.Series(weekdays)\n",
    "weekdays_series"
   ]
  },
  {
   "cell_type": "code",
   "execution_count": 4,
   "id": "9d8d300d-1b84-482d-b435-db991caf6b53",
   "metadata": {},
   "outputs": [
    {
     "data": {
      "text/plain": [
       "0    False\n",
       "1    False\n",
       "2    False\n",
       "3    False\n",
       "4    False\n",
       "5    False\n",
       "6     True\n",
       "7     True\n",
       "dtype: bool"
      ]
     },
     "execution_count": 4,
     "metadata": {},
     "output_type": "execute_result"
    }
   ],
   "source": [
    "free_days = [False, False, False, False, False, False, True, True]\n",
    "free_days_series = pd.Series(free_days)\n",
    "free_days_series"
   ]
  },
  {
   "cell_type": "code",
   "execution_count": 7,
   "id": "ebe0869b-d579-41ff-bcc1-94bf692e5acf",
   "metadata": {},
   "outputs": [
    {
     "data": {
      "text/plain": [
       "New Year    2024-01-01\n",
       "Epiphany    2018-01-06\n",
       "Easter      2018-04-01\n",
       "dtype: object"
      ]
     },
     "execution_count": 7,
     "metadata": {},
     "output_type": "execute_result"
    }
   ],
   "source": [
    "holidays = {\"New Year\": \"2024-01-01\",\n",
    "            \"Epiphany\": \"2018-01-06\",\n",
    "            \"Easter\": \"2018-04-01\"\n",
    "}\n",
    "holidays_series = pd.Series(holidays)\n",
    "holidays_series"
   ]
  },
  {
   "cell_type": "code",
   "execution_count": null,
   "id": "70ce7555-6f51-4c86-996d-1b19cf90e5ec",
   "metadata": {},
   "outputs": [],
   "source": []
  }
 ],
 "metadata": {
  "kernelspec": {
   "display_name": "Python 3 (ipykernel)",
   "language": "python",
   "name": "python3"
  },
  "language_info": {
   "codemirror_mode": {
    "name": "ipython",
    "version": 3
   },
   "file_extension": ".py",
   "mimetype": "text/x-python",
   "name": "python",
   "nbconvert_exporter": "python",
   "pygments_lexer": "ipython3",
   "version": "3.11.7"
  }
 },
 "nbformat": 4,
 "nbformat_minor": 5
}
