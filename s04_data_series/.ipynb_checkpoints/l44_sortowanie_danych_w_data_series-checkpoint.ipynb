{
 "cells": [
  {
   "cell_type": "markdown",
   "id": "3a7c3dab-6258-4428-8951-5591a97b6858",
   "metadata": {},
   "source": [
    "LAB - S02-L010 - Sortowanie danych data series\n",
    "1. Zaimportuj moduły: pandas, numpy, matplotlib (tylko pyplot), math i nadaj im standardowe aliasy\n",
    "2. Z pliku StackOverflowDeveloperSurvey.csv wczytaj kolumnę Salary jako Data Series i zapisz ją w zmiennej salary. Wczytując elementy pomiń te ankiety, w których respondenci nie podali kwoty wynagrodzenia (użyj dropna()). Wyświetl 5 pierwszych elementów serii\n",
    "3. Posortuj dane wg wynagrodzenia malejąco (wyświetl tylko 5 pierwszych pozycji).\n",
    "4. Posortuj dane wg wynagrodzenia rosnąco (wyświetl tylko 5 pierwszych pozycji).\n",
    "5. Zmień parametry sortowania tak, aby lista została posortowana wewnętrznie na stałe wg\n",
    "wynagrodzenia malejąco. Wyświetl kilka początkowych elementów, aby przekonać się że\n",
    "obiekt jest teraz posortowany jak należy.\n",
    "6. Posortuj dane wg indeksu malejąco\n",
    "7. Zapisz w zmiennej maxSalaries 100 największych wynagrodzeń z serii Salary\n",
    "8. Zapisz w zmiennej minSalaries 100 najniższych wynagrodzeń z serii Salary\n",
    "9. Wyznacz średnią wartość z wynagrodzeń znajdujących się w serii maxSalaries\n",
    "10. Wyznacz średnią wartiść z wynagrodzeń znajdujących się w serii minSalaries"
   ]
  },
  {
   "cell_type": "code",
   "execution_count": 1,
   "id": "00d8503b-ff0a-474c-ba8e-bf41c04d5c37",
   "metadata": {},
   "outputs": [],
   "source": [
    "import pandas as pd\n",
    "import numpy as np\n",
    "import matplotlib.pyplot as plt\n",
    "import math as math"
   ]
  },
  {
   "cell_type": "code",
   "execution_count": 2,
   "id": "5f4ea0b5-b154-49e3-af29-c764b8c9d7c8",
   "metadata": {},
   "outputs": [],
   "source": [
    "salary = pd.read_csv('../zasoby/StackOverflowDeveloperSurvey.csv', usecols=['Salary']).squeeze().dropna()"
   ]
  },
  {
   "cell_type": "code",
   "execution_count": 3,
   "id": "0599577d-84a8-4e0e-854a-8ba645fb6da7",
   "metadata": {},
   "outputs": [
    {
     "data": {
      "text/plain": [
       "31600    197000.0\n",
       "27943    195000.0\n",
       "6743     195000.0\n",
       "18237    195000.0\n",
       "41398    195000.0\n",
       "Name: Salary, dtype: float64"
      ]
     },
     "execution_count": 3,
     "metadata": {},
     "output_type": "execute_result"
    }
   ],
   "source": [
    "salary.sort_values(ascending=False).head()"
   ]
  },
  {
   "cell_type": "code",
   "execution_count": 4,
   "id": "69d1897c-9663-4cfb-ba29-fe3ffbad06dc",
   "metadata": {},
   "outputs": [
    {
     "data": {
      "text/plain": [
       "51144    0.0\n",
       "23953    0.0\n",
       "23907    0.0\n",
       "44841    0.0\n",
       "2951     0.0\n",
       "Name: Salary, dtype: float64"
      ]
     },
     "execution_count": 4,
     "metadata": {},
     "output_type": "execute_result"
    }
   ],
   "source": [
    "salary.sort_values(ascending=True).head()"
   ]
  },
  {
   "cell_type": "code",
   "execution_count": 7,
   "id": "808d2666-4c53-4d19-9b3d-628f118116db",
   "metadata": {},
   "outputs": [],
   "source": [
    "salary.sort_values(ascending=False, inplace=True)"
   ]
  },
  {
   "cell_type": "code",
   "execution_count": 8,
   "id": "b1d98881-82e2-4ce4-8dc2-26cf79a936e4",
   "metadata": {},
   "outputs": [
    {
     "data": {
      "text/plain": [
       "31600    197000.0\n",
       "27943    195000.0\n",
       "6743     195000.0\n",
       "41398    195000.0\n",
       "1696     195000.0\n",
       "Name: Salary, dtype: float64"
      ]
     },
     "execution_count": 8,
     "metadata": {},
     "output_type": "execute_result"
    }
   ],
   "source": [
    "salary.head()"
   ]
  },
  {
   "cell_type": "code",
   "execution_count": 9,
   "id": "90249ea2-d2a6-4a2b-ba16-18d42041eb01",
   "metadata": {},
   "outputs": [
    {
     "data": {
      "text/plain": [
       "51390     40000.000000\n",
       "51387     58000.000000\n",
       "51382     32258.064516\n",
       "51378    107526.881720\n",
       "51371     74193.548387\n",
       "             ...      \n",
       "22       100764.000000\n",
       "18        82500.000000\n",
       "17       130000.000000\n",
       "14       100000.000000\n",
       "2        113750.000000\n",
       "Name: Salary, Length: 12891, dtype: float64"
      ]
     },
     "execution_count": 9,
     "metadata": {},
     "output_type": "execute_result"
    }
   ],
   "source": [
    "salary.sort_index(ascending=False)"
   ]
  },
  {
   "cell_type": "code",
   "execution_count": 10,
   "id": "55015e93-a6f2-46ba-bb43-e3daebc4ff47",
   "metadata": {},
   "outputs": [],
   "source": [
    "max_salaries = salary.sort_values(ascending=False).head(100)"
   ]
  },
  {
   "cell_type": "code",
   "execution_count": 11,
   "id": "2e9f6525-aca5-436c-a00c-d825de619f57",
   "metadata": {},
   "outputs": [
    {
     "data": {
      "text/plain": [
       "31600    197000.0\n",
       "27943    195000.0\n",
       "6743     195000.0\n",
       "41398    195000.0\n",
       "1696     195000.0\n",
       "           ...   \n",
       "41861    170000.0\n",
       "29662    170000.0\n",
       "29971    170000.0\n",
       "14805    170000.0\n",
       "1115     170000.0\n",
       "Name: Salary, Length: 100, dtype: float64"
      ]
     },
     "execution_count": 11,
     "metadata": {},
     "output_type": "execute_result"
    }
   ],
   "source": [
    "max_salaries"
   ]
  },
  {
   "cell_type": "code",
   "execution_count": 12,
   "id": "c0f0e25b-2515-4e7c-839c-7286fe2425ce",
   "metadata": {},
   "outputs": [
    {
     "data": {
      "text/plain": [
       "51144      0.000000\n",
       "44841      0.000000\n",
       "23907      0.000000\n",
       "4517       0.000000\n",
       "2951       0.000000\n",
       "            ...    \n",
       "15179    176.185582\n",
       "33212    178.784267\n",
       "50569    198.208780\n",
       "48674    198.649186\n",
       "1077     200.000000\n",
       "Name: Salary, Length: 100, dtype: float64"
      ]
     },
     "execution_count": 12,
     "metadata": {},
     "output_type": "execute_result"
    }
   ],
   "source": [
    "min_salaries = salary.sort_values(ascending=True).head(100)\n",
    "min_salaries"
   ]
  },
  {
   "cell_type": "code",
   "execution_count": 13,
   "id": "45040a5b-bffc-4c31-9241-5d8a437729e2",
   "metadata": {},
   "outputs": [
    {
     "data": {
      "text/plain": [
       "180198.1045586777"
      ]
     },
     "execution_count": 13,
     "metadata": {},
     "output_type": "execute_result"
    }
   ],
   "source": [
    "max_salaries.mean()"
   ]
  },
  {
   "cell_type": "code",
   "execution_count": 14,
   "id": "ec886f54-ea6f-44b2-b065-111bef5c0e21",
   "metadata": {},
   "outputs": [
    {
     "data": {
      "text/plain": [
       "67.08388907133794"
      ]
     },
     "execution_count": 14,
     "metadata": {},
     "output_type": "execute_result"
    }
   ],
   "source": [
    "min_salaries.mean()"
   ]
  },
  {
   "cell_type": "code",
   "execution_count": null,
   "id": "ab3f5789-478c-4de5-8cb7-56f661094977",
   "metadata": {},
   "outputs": [],
   "source": []
  }
 ],
 "metadata": {
  "kernelspec": {
   "display_name": "Python 3 (ipykernel)",
   "language": "python",
   "name": "python3"
  },
  "language_info": {
   "codemirror_mode": {
    "name": "ipython",
    "version": 3
   },
   "file_extension": ".py",
   "mimetype": "text/x-python",
   "name": "python",
   "nbconvert_exporter": "python",
   "pygments_lexer": "ipython3",
   "version": "3.11.7"
  }
 },
 "nbformat": 4,
 "nbformat_minor": 5
}
