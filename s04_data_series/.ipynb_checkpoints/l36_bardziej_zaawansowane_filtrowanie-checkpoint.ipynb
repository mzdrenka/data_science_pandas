{
 "cells": [
  {
   "cell_type": "markdown",
   "id": "f8415374-40d5-4775-b96e-b898e2dcdb34",
   "metadata": {},
   "source": [
    "S02-L007 - LAS02-L007B - Bardziej zaawansowane filtrowanie\n",
    "1. Zaimportuj moduły: pandas, numpy, matplotlib (tylko pyplot), math i nadaj im standardowe aliasy\n",
    "2. Na stronie https://en.wikipedia.org/wiki/European_countries_by_electricity_consumption_per_person\n",
    "(https://en.wikipedia.org/wiki/European_countries_by_electricity_consumption_per_person) znajduje się informacja o zużyciu energii elektrycznej na osobę w Europie. Utwórz następujące zmienne:\n",
    "namesList (nazwy krajów) o wartościach: ['Albania','Austria','Belarus', 'Belgium','Bulgaria','Croatia','Cyprus','Czech Republic','Denmark','Estonia', 'Finland','France','Germany','Greece','Hungary','Iceland','Ireland','Italy', 'Latvia','Lithuania','Luxembourg','Macedonia','Malta','Montenegro','Netherlands', 'Norway','Poland','Portugal','Romania','Russia','Serbia','Slovenia','Spain', 'Sweden','Switzerland','United Kingdom','Turkey','Ukraine']\n",
    "energy2010List (zużycie energii na osobę w 2010 roku) o wartościach: [1947,8347,3564,8369,4560,3814,4623,6348,6328,6506,16483,7736,7264,5318,3876, 51440,5911,5494,3230,3471,16830,3521,4171,5420,7010,24891,3797,4959,2551, 6410,4359,6521,5707,14934,8175,2498,3550,5701]\n",
    "energy2012List (zużycie energii na osobę w 2012 roku) o wartościach: [2118,8507,3698,7987,4762,3819,4057,6305,6039,6689,15687,7344,7270,5511,3919, 53203,5665,5398,3588,3608,14696,3626,4761,5416,6871,23658,3899,4736,2604, 6617,4387,6778,5573,14290,7886,2794,3641,5452]\n",
    "3. Dla każdej z tych zmiennych utwórz obiekt serii o nazwach jak niżej, a potem wyświetl je:\n",
    "namesSeries energy2010Series energy2012Series\n",
    "4. W zmiennej mean2010 zapisz średnią wartość zużycia prądu w całej Europie w 2010 roku. Wyświetl tą wartość\n",
    "5. W zmiennej mean2012 zapisz średnią wartość zużycia prądu w całej Europie w 2012 roku. Wyświetl tą wartość\n",
    "6. W zmiennej filterAboveMean2010 zapisz wynik porównania wartości serii energy2010Series z wartością średnią mean2010. W porównaniu badaj, czy wartość zużycia prądu w danym kraju jest większa od wartości średniej za rok 2010\n",
    "7. W zmiennej filterAboveMean2012 zapisz wynik porównania wartości serii energy2012Series z wartością średnią mean2012. W wyniku porównania badaj, czy wartość zużycia prądu w danym kraju jest większa od wartości średniej za rok 2012\n",
    "8. Wyświetl kraje z serii namesSeries, które w roku 2010 i w roku 2012 zużywały prąd w ilości powyżej średniej za dany rok\n",
    "9. W zmiennej filterBelowMean2010 zapisz wynik porównania wartości serii energy2010Series z wartością średnią mean2010. W porównaniu badaj, czy wartość zużycia prądu w danym kraju jest mniejsza od wartości średniej za rok 2010\n",
    "10. Sprawdź czy są kraje, które w 2010 roku zużywały mniej prądu niż średnia za 2010, ale w 2012 znalazły się powyżej tej średniej\n",
    "11. Czy z tej analizy można wyciągnąć jakieś wnioski (nawet dość oczywiste)?"
   ]
  },
  {
   "cell_type": "markdown",
   "id": "250e2531-c1f6-41cd-a246-1e49917e8c99",
   "metadata": {},
   "source": [
    "# Import modules"
   ]
  },
  {
   "cell_type": "code",
   "execution_count": 2,
   "id": "ebb4ab50-ef3a-4476-8065-a3cc581a89eb",
   "metadata": {},
   "outputs": [],
   "source": [
    "import pandas as pd\n",
    "import numpy as np\n",
    "import matplotlib.pyplot as plt\n",
    "import math as math"
   ]
  },
  {
   "cell_type": "markdown",
   "id": "9e239f83-4e32-4320-86c1-22950dcb3c8b",
   "metadata": {},
   "source": [
    "# Create lists"
   ]
  },
  {
   "cell_type": "code",
   "execution_count": 3,
   "id": "72dfe72c-8757-4d28-97fd-18700b10a9d5",
   "metadata": {},
   "outputs": [],
   "source": [
    "names_list =  ['Albania','Austria','Belarus',\n",
    "'Belgium','Bulgaria','Croatia','Cyprus','Czech Republic','Denmark','Estonia',\n",
    "'Finland','France','Germany','Greece','Hungary','Iceland','Ireland','Italy',\n",
    "'Latvia','Lithuania','Luxembourg','Macedonia','Malta','Montenegro','Netherlands',\n",
    "'Norway','Poland','Portugal','Romania','Russia','Serbia','Slovenia','Spain', 'Sweden','Switzerland','United Kingdom','Turkey','Ukraine']\n",
    "\n",
    "energy_2010_list = [1947,8347,3564,8369,4560,3814,4623,6348,6328,6506,16483,7736,7264,5318,3876,\n",
    "51440,5911,5494,3230,3471,16830,3521,4171,5420,7010,24891,3797,4959,2551,\n",
    "6410,4359,6521,5707,14934,8175,2498,3550,5701]\n",
    "\n",
    "energy_2012_list = [2118,8507,3698,7987,4762,3819,4057,6305,6039,6689,15687,7344,7270,5511,3919,\n",
    "53203,5665,5398,3588,3608,14696,3626,4761,5416,6871,23658,3899,4736,2604,\n",
    "6617,4387,6778,5573,14290,7886,2794,3641,5452]\n"
   ]
  },
  {
   "cell_type": "markdown",
   "id": "cf4e7065-ffb8-4060-bd34-4ddd15f2e5f0",
   "metadata": {},
   "source": [
    "# Create data series"
   ]
  },
  {
   "cell_type": "code",
   "execution_count": 9,
   "id": "9cb07c28-e5a1-4ae0-b361-c3278b106512",
   "metadata": {},
   "outputs": [],
   "source": [
    "names_series = pd.Series(names_list)\n",
    "energy_2010_series = pd.Series(energy_2010_list)\n",
    "energy_2012_series = pd.Series(energy_2012_list)"
   ]
  },
  {
   "cell_type": "markdown",
   "id": "056a3e89-5ec5-4375-aa81-c6c33451317b",
   "metadata": {},
   "source": [
    "# Calculete average energy use"
   ]
  },
  {
   "cell_type": "code",
   "execution_count": 15,
   "id": "12e496f8-b4c0-43c4-89c6-5a2b0cbb20b3",
   "metadata": {},
   "outputs": [
    {
     "name": "stdout",
     "output_type": "stream",
     "text": [
      "Average energy use in 2010 was: 7779.8421052631575\n",
      "Average energy use in 2012 was: 7706.815789473684\n"
     ]
    }
   ],
   "source": [
    "mean_2010 = energy_2010_series.mean()\n",
    "mean_2012 = energy_2012_series.mean()\n",
    "print(f'Average energy use in 2010 was: {mean_2010}')\n",
    "print(f'Average energy use in 2012 was: {mean_2012}')"
   ]
  },
  {
   "cell_type": "markdown",
   "id": "74c05554-439d-459a-9829-e986dd3dfbc2",
   "metadata": {},
   "source": [
    "# Filter energy use"
   ]
  },
  {
   "cell_type": "code",
   "execution_count": 19,
   "id": "bc7db544-7ca4-4cd5-ba21-3b7b8c48769e",
   "metadata": {},
   "outputs": [],
   "source": [
    "filter_above_mean_2010 = energy_2010_series > mean_2010\n",
    "filter_above_mean_2012 = energy_2012_series > mean_2012"
   ]
  },
  {
   "cell_type": "markdown",
   "id": "80571301-0acc-473e-80d2-4bfff2b1bafc",
   "metadata": {},
   "source": [
    "# Show only countries with energy use above average"
   ]
  },
  {
   "cell_type": "code",
   "execution_count": 21,
   "id": "5171ef9c-1009-422d-8bc4-b282fa36712e",
   "metadata": {},
   "outputs": [
    {
     "data": {
      "text/plain": [
       "1         Austria\n",
       "3         Belgium\n",
       "10        Finland\n",
       "15        Iceland\n",
       "20     Luxembourg\n",
       "25         Norway\n",
       "33         Sweden\n",
       "34    Switzerland\n",
       "dtype: object"
      ]
     },
     "execution_count": 21,
     "metadata": {},
     "output_type": "execute_result"
    }
   ],
   "source": [
    "names_series.where(filter_above_mean_2010 & filter_above_mean_2012).dropna()"
   ]
  },
  {
   "cell_type": "markdown",
   "id": "b3b1cb02-ef45-4822-83db-41aa105b1d72",
   "metadata": {},
   "source": [
    "# Show countries with energy use below average in 2010 and 2012"
   ]
  },
  {
   "cell_type": "code",
   "execution_count": 27,
   "id": "ce3a69cd-ad04-4c2d-9775-d63da2aebad0",
   "metadata": {},
   "outputs": [],
   "source": [
    "filter_below_mean_2010 = energy_2010_series < mean_2010\n",
    "filter_below_mean_2012 = energy_2012_series < mean_2012"
   ]
  },
  {
   "cell_type": "markdown",
   "id": "01fcbabc-e1d4-49c6-8242-e357ab9e10c5",
   "metadata": {},
   "source": [
    "# Show countries with energy use below average in 2010 and above average in 2012 "
   ]
  },
  {
   "cell_type": "code",
   "execution_count": 28,
   "id": "65543e8b-6a5c-461c-81c4-9f32c21ae83a",
   "metadata": {},
   "outputs": [
    {
     "data": {
      "text/plain": [
       "Series([], dtype: object)"
      ]
     },
     "execution_count": 28,
     "metadata": {},
     "output_type": "execute_result"
    }
   ],
   "source": [
    "names_series.where(filter_below_mean_2010 & filter_above_mean_2012).dropna()"
   ]
  },
  {
   "cell_type": "markdown",
   "id": "fca90f17-fbf1-4996-9b31-4be15c3fd062",
   "metadata": {},
   "source": [
    "# Compare Poland to the European average"
   ]
  },
  {
   "cell_type": "code",
   "execution_count": 92,
   "id": "628be446-de14-4bfa-b68c-6e8835d75ac6",
   "metadata": {},
   "outputs": [],
   "source": [
    "poland = names_series == 'Poland'"
   ]
  },
  {
   "cell_type": "code",
   "execution_count": 93,
   "id": "3b2aacd6-5bad-4280-9182-15244efb59cb",
   "metadata": {},
   "outputs": [],
   "source": [
    "poland_in_2010 = energy_2010_series.where(poland).dropna().values[0]\n",
    "poland_in_2012 = energy_2012_series.where(poland).dropna().values[0]"
   ]
  },
  {
   "cell_type": "code",
   "execution_count": 54,
   "id": "247b4837-2905-4817-8693-267e2e467ae4",
   "metadata": {},
   "outputs": [
    {
     "name": "stdout",
     "output_type": "stream",
     "text": [
      "Different between Poland and average in 2010 is: 3983\n",
      "Poland used 51.2 % of Europe average in 2012\n"
     ]
    }
   ],
   "source": [
    "print(f'Different between Poland and average in 2010 is: {round(mean_2010 - poland_in_2010)}')\n",
    "print(f'Poland used { round((round(mean_2010 - poland_in_2010)/mean_2010) * 100,2) } % of Europe average in 2010')"
   ]
  },
  {
   "cell_type": "code",
   "execution_count": 55,
   "id": "b469c5f3-11dd-4a31-b2bf-31c451d51e97",
   "metadata": {},
   "outputs": [
    {
     "name": "stdout",
     "output_type": "stream",
     "text": [
      "Different between Poland and average in 2012 is: 3808\n",
      "Poland used 49.41 % of Europe average in 2012\n"
     ]
    }
   ],
   "source": [
    "print(f'Different between Poland and average in 2012 is: {round(mean_2012 - poland_in_2012)}')\n",
    "print(f'Poland used { round((round(mean_2012 - poland_in_2012)/mean_2012) * 100,2) } % of Europe average in 2012')"
   ]
  },
  {
   "cell_type": "markdown",
   "id": "060b2b7c-f89d-4f65-8d84-745330e46d3b",
   "metadata": {},
   "source": [
    "# Check European countries with max and min energy use"
   ]
  },
  {
   "cell_type": "code",
   "execution_count": 80,
   "id": "f0addcc8-d328-46ac-ba42-ad8d08a784b2",
   "metadata": {},
   "outputs": [],
   "source": [
    "energy_2010_max = energy_2010_series >= energy_2010_series.max()\n",
    "energy_2012_max = energy_2012_series >= energy_2012_series.max()\n",
    "\n",
    "energy_2010_min = energy_2010_series >= energy_2010_series.min()\n",
    "energy_2012_min = energy_2012_series >= energy_2012_series.min()"
   ]
  },
  {
   "cell_type": "code",
   "execution_count": 81,
   "id": "dce5f8ac-61ed-439d-9e26-9f41409a22ee",
   "metadata": {},
   "outputs": [],
   "source": [
    "energy_2010_max_country = names_series.where(energy_2010_max).dropna()\n",
    "energy_2010_min_country = names_series.where(energy_2010_min).dropna()"
   ]
  },
  {
   "cell_type": "code",
   "execution_count": 89,
   "id": "ca7f7a2f-4321-421c-a5bb-b90ba8212e71",
   "metadata": {},
   "outputs": [
    {
     "name": "stdout",
     "output_type": "stream",
     "text": [
      "Max energy use in 2010: Iceland with: 51440\n",
      "Min energy use in 2010: Albania with: 1947\n",
      "Albania used 3.78% energy of Iceland used in 2010\n"
     ]
    }
   ],
   "source": [
    "print(f'Max energy use in 2010: {energy_2010_max_country.values[0]} with: {energy_2010_series.max()}')\n",
    "print(f'Min energy use in 2010: {energy_2010_min_country.values[0]} with: {energy_2010_series.min()}')\n",
    "print(f'{energy_2010_min_country.values[0]} used {round((energy_2010_series.min() / energy_2010_series.max()) * 100, 2)}% energy of {energy_2010_max_country.values[0]} used in 2010')"
   ]
  },
  {
   "cell_type": "code",
   "execution_count": 84,
   "id": "f994655d-a4a4-40f3-be62-89dff5eb2a83",
   "metadata": {},
   "outputs": [],
   "source": [
    "energy_2012_max_country = names_series.where(energy_2012_max).dropna()\n",
    "energy_2012_min_country = names_series.where(energy_2012_max).dropna()"
   ]
  },
  {
   "cell_type": "code",
   "execution_count": 90,
   "id": "51388ac7-555c-48cb-8684-19a434e43fe9",
   "metadata": {},
   "outputs": [
    {
     "name": "stdout",
     "output_type": "stream",
     "text": [
      "Max energy use in 2012: Iceland with: 53203\n",
      "Min energy use in 2012: Albania with: 2118\n",
      "Albania used 3.98% energy of Iceland used in 2012\n"
     ]
    }
   ],
   "source": [
    "print(f'Max energy use in 2012: {energy_2012_max_country.values[0]} with: {energy_2012_series.max()}')\n",
    "print(f'Min energy use in 2012: {energy_2012_min_country.values[0]} with: {energy_2012_series.min()}')\n",
    "print(f'{energy_2012_min_country.values[0]} used {round((energy_2012_series.min() / energy_2012_series.max()) * 100, 2)}% energy of {energy_2012_max_country.values[0]} used in 2012')"
   ]
  }
 ],
 "metadata": {
  "kernelspec": {
   "display_name": "Python 3 (ipykernel)",
   "language": "python",
   "name": "python3"
  },
  "language_info": {
   "codemirror_mode": {
    "name": "ipython",
    "version": 3
   },
   "file_extension": ".py",
   "mimetype": "text/x-python",
   "name": "python",
   "nbconvert_exporter": "python",
   "pygments_lexer": "ipython3",
   "version": "3.11.7"
  }
 },
 "nbformat": 4,
 "nbformat_minor": 5
}
