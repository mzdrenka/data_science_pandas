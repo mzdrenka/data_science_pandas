{
 "cells": [
  {
   "cell_type": "markdown",
   "id": "456a645d-60d8-457f-b747-ecb120c58254",
   "metadata": {},
   "source": [
    "### 1. Zaimportuj moduł pandas i nadaj mu standardowy alias."
   ]
  },
  {
   "cell_type": "code",
   "execution_count": 1,
   "id": "26a05e60-5aff-40ec-9678-ff7e7c06c5a7",
   "metadata": {},
   "outputs": [],
   "source": [
    "import pandas as pd"
   ]
  },
  {
   "cell_type": "markdown",
   "id": "4d28563c-8eca-485f-aea9-6f92a2493ec6",
   "metadata": {},
   "source": [
    "### 2. Utwórz serię countries importując z pliku countries.csv kolumny Symbol i Name. Kolumna Symbol powinnastać sie indeksem serii. Skorzystaj z polecenia: countries = pd.read_csv(\"countries.csv\", usecols=['Symbol','Name'],index_col='Symbol',squeeze=True)\n",
    "### 3. Usuń niekopmpletne dane korzystając z polecenia: countries.dropna(inplace=True)"
   ]
  },
  {
   "cell_type": "code",
   "execution_count": 2,
   "id": "0ce3858e-99c1-4c16-b6aa-33739f960578",
   "metadata": {},
   "outputs": [],
   "source": [
    "countries = pd.read_csv(\"../zasoby/countries.csv\", usecols=['Symbol','Name'],index_col='Symbol').squeeze().dropna()"
   ]
  },
  {
   "cell_type": "code",
   "execution_count": 3,
   "id": "10c10586-c15e-46bd-831d-d9b6227be0b7",
   "metadata": {},
   "outputs": [
    {
     "data": {
      "text/plain": [
       "Symbol\n",
       "AF                                          Afghanistan\n",
       "AL                                              Albania\n",
       "DZ                                              Algeria\n",
       "AD                                              Andorra\n",
       "AO                                               Angola\n",
       "                            ...                        \n",
       "ZM                                               Zambia\n",
       "QR    Stores and provisions within the framework of ...\n",
       "CV                                           Cape Verde\n",
       "ZW                                             Zimbabwe\n",
       "AE                                 United Arab Emirates\n",
       "Name: Name, Length: 242, dtype: object"
      ]
     },
     "execution_count": 3,
     "metadata": {},
     "output_type": "execute_result"
    }
   ],
   "source": [
    "countries"
   ]
  },
  {
   "cell_type": "markdown",
   "id": "7ea1229c-0f95-49ce-99c1-a4eae71d33d3",
   "metadata": {},
   "source": [
    "### 4. Wyświetl 20 pierwszych wierszy tej serii."
   ]
  },
  {
   "cell_type": "code",
   "execution_count": 6,
   "id": "e194f433-b646-4422-9c6a-e9d3ecadb885",
   "metadata": {},
   "outputs": [
    {
     "data": {
      "text/plain": [
       "Symbol\n",
       "AF            Afghanistan\n",
       "AL                Albania\n",
       "DZ                Algeria\n",
       "AD                Andorra\n",
       "AO                 Angola\n",
       "AI               Anguilla\n",
       "AQ             Antarctica\n",
       "AG    Antigua and Barbuda\n",
       "SA           Saudi Arabia\n",
       "AR              Argentina\n",
       "AM                Armenia\n",
       "AW                  Aruba\n",
       "AU              Australia\n",
       "AT                Austria\n",
       "AZ             Azerbaijan\n",
       "BS                Bahamas\n",
       "BH                Bahrain\n",
       "BD             Bangladesh\n",
       "BB               Barbados\n",
       "BE                Belgium\n",
       "Name: Name, dtype: object"
      ]
     },
     "execution_count": 6,
     "metadata": {},
     "output_type": "execute_result"
    }
   ],
   "source": [
    "countries.head(20)"
   ]
  },
  {
   "cell_type": "markdown",
   "id": "ca771fea-af32-4fbe-a8a9-70dd0b192519",
   "metadata": {},
   "source": [
    "### 5. Utwórz listę toFind zawierającą symbole krajów: BB, AA, BS (kraju AA nie ma w wykazie państw, bo to ... Atalantyda..."
   ]
  },
  {
   "cell_type": "code",
   "execution_count": 7,
   "id": "8e4e5926-7bcc-4cfc-b040-200da4e7443e",
   "metadata": {},
   "outputs": [],
   "source": [
    "to_find = ['BB', 'AA', 'BS']"
   ]
  },
  {
   "cell_type": "markdown",
   "id": "c4c50e20-59b5-413b-a8b4-2a0056ceb35e",
   "metadata": {},
   "source": [
    "### 6. Korzystając z metody loc i zmiennej wyświetl wynik poszukiwania krajów o symbolach z listy toFind. (Oprócz wyniku powinno zostać wyświetlone ostrzeżenie)"
   ]
  },
  {
   "cell_type": "code",
   "execution_count": 18,
   "id": "398dd38d-bdbf-4bdf-8af1-782afb8e4435",
   "metadata": {},
   "outputs": [],
   "source": [
    "#countries.loc[to_find] # nie działa"
   ]
  },
  {
   "cell_type": "markdown",
   "id": "bded3018-4763-4095-841c-a525be604035",
   "metadata": {},
   "source": [
    "### 7. Wyszukaj krajów toFind korzystając z metody reindex"
   ]
  },
  {
   "cell_type": "code",
   "execution_count": 13,
   "id": "5bceb19f-c92d-48b5-8676-40e468664c6f",
   "metadata": {},
   "outputs": [
    {
     "data": {
      "text/plain": [
       "Symbol\n",
       "BB    Barbados\n",
       "AA         NaN\n",
       "BS     Bahamas\n",
       "Name: Name, dtype: object"
      ]
     },
     "execution_count": 13,
     "metadata": {},
     "output_type": "execute_result"
    }
   ],
   "source": [
    "countries.reindex(to_find)"
   ]
  },
  {
   "cell_type": "markdown",
   "id": "55be3fc1-d3d0-4824-a7a4-f0b62d99670e",
   "metadata": {},
   "source": [
    "### 8. Wyświetl listę będącą częścią wspólną indeksu serii countries oraz listy toFind."
   ]
  },
  {
   "cell_type": "code",
   "execution_count": 14,
   "id": "a7ae295e-64fd-4aab-93e2-c7d582cf22a8",
   "metadata": {},
   "outputs": [
    {
     "data": {
      "text/plain": [
       "Index(['BS', 'BB'], dtype='object', name='Symbol')"
      ]
     },
     "execution_count": 14,
     "metadata": {},
     "output_type": "execute_result"
    }
   ],
   "source": [
    "countries.index.intersection(to_find)"
   ]
  },
  {
   "cell_type": "markdown",
   "id": "d41970b0-0009-4720-badd-cccea36361b3",
   "metadata": {},
   "source": [
    "### 9. Korzystając z metody loc oraz listy wygenerowanej w poprzednim punkcie wyświetl kraje o symbolach z listy toFind"
   ]
  },
  {
   "cell_type": "code",
   "execution_count": 16,
   "id": "620b7045-268d-4904-bdea-44c2167483e2",
   "metadata": {},
   "outputs": [
    {
     "data": {
      "text/plain": [
       "Symbol\n",
       "BS     Bahamas\n",
       "BB    Barbados\n",
       "Name: Name, dtype: object"
      ]
     },
     "execution_count": 16,
     "metadata": {},
     "output_type": "execute_result"
    }
   ],
   "source": [
    "countries.loc[countries.index.intersection(to_find)]"
   ]
  }
 ],
 "metadata": {
  "kernelspec": {
   "display_name": "Python 3 (ipykernel)",
   "language": "python",
   "name": "python3"
  },
  "language_info": {
   "codemirror_mode": {
    "name": "ipython",
    "version": 3
   },
   "file_extension": ".py",
   "mimetype": "text/x-python",
   "name": "python",
   "nbconvert_exporter": "python",
   "pygments_lexer": "ipython3",
   "version": "3.11.7"
  }
 },
 "nbformat": 4,
 "nbformat_minor": 5
}
