{
 "cells": [
  {
   "cell_type": "markdown",
   "id": "00a04e1f-12b8-4c54-8d43-76bf54bdcd10",
   "metadata": {},
   "source": [
    "LAB - S02-L008 - Import danych do obiektu series\n",
    "1. Zaimportuj moduły: pandas, numpy, matplotlib (tylko pyplot), math i nadaj im standardowe aliasy\n",
    "2. Korzystając z pliku StackOverflowDeveloperSurvey.csv zaimportuj do zmiennej education kolumnę o nazwie \"FormalEducation\" jako jednokolumnowy obiekt Data Frame\n",
    "3. Sprawdź typ otrzymanej zmiennej.\n",
    "4. Wyświetl tylko 5 pierwszych wierszy z education.\n",
    "5. Powtórz akcję tak jak w pkt. 2, ale tym razem zadbaj o to , aby education było typu data\n",
    "series.\n",
    "6. Sprawdź typ otrzymanej zmiennej.\n",
    "7. Wyświetl 10 ostatnich wierszy z educatoin\n",
    "8. Do zmiennej allInfo zaimportuj cały plik danych (wszystkie kolumny), jako Data Frame\n",
    "9. Zainicjuj obiekt country typu data series, pobierając dane z kolumny \"Country\" obiektu\n",
    "allInfo.\n",
    "10. Wyświetl 5 pierwszych wierszy obiektu country\n",
    "11. (zastosowanie i mała powtórka z poprzednich lekcji) Utwórz serię filterOnlyUSA, która\n",
    "będzie inicjowana w oparciu o serię countries. filterOnlyUSA ma zawierać w wierszu\n",
    "wartość True , jeżeli w serii counties wartość to \"United States\"\n",
    "12. Wyświetl 5 pierwszych pozycji z serii filterOnlyUSA\n",
    "13. Wyświetl dane z serii education w taki sposób, że:\n",
    "pokazywane będą tylko informacje o ukończonej szkole tylko dla osób z country = \"United States\"\n",
    "wartości NaN mają być usunięte\n",
    "należy pokazać tylko 10 górnych wierszy\n",
    "wszystko to powinno być zrobione w jednym poleceniu (method chaining)\n"
   ]
  },
  {
   "cell_type": "markdown",
   "id": "ec405ab3-53f0-424b-baf7-e8907cc2e0e0",
   "metadata": {},
   "source": [
    "# Import modules"
   ]
  },
  {
   "cell_type": "code",
   "execution_count": 1,
   "id": "eaf17a68-11ff-4651-b45e-7e7ed0f8a33a",
   "metadata": {},
   "outputs": [],
   "source": [
    "import pandas as pd\n",
    "import numpy as np\n",
    "import matplotlib.pyplot as plt\n",
    "import math as math"
   ]
  },
  {
   "cell_type": "code",
   "execution_count": 2,
   "id": "725a1446-1f4f-40b3-ab6d-4f890e721b0d",
   "metadata": {},
   "outputs": [],
   "source": [
    "education = pd.read_csv('../zasoby/StackOverflowDeveloperSurvey.csv', usecols=['FormalEducation'])"
   ]
  },
  {
   "cell_type": "code",
   "execution_count": 4,
   "id": "43c4d3da-4f00-467e-ba9b-ba26cb441e85",
   "metadata": {},
   "outputs": [
    {
     "data": {
      "text/plain": [
       "pandas.core.frame.DataFrame"
      ]
     },
     "execution_count": 4,
     "metadata": {},
     "output_type": "execute_result"
    }
   ],
   "source": [
    "type(education)"
   ]
  },
  {
   "cell_type": "code",
   "execution_count": 5,
   "id": "ca1dba74-cf6e-4ae0-8ad4-deb960bd6d73",
   "metadata": {},
   "outputs": [
    {
     "data": {
      "text/html": [
       "<div>\n",
       "<style scoped>\n",
       "    .dataframe tbody tr th:only-of-type {\n",
       "        vertical-align: middle;\n",
       "    }\n",
       "\n",
       "    .dataframe tbody tr th {\n",
       "        vertical-align: top;\n",
       "    }\n",
       "\n",
       "    .dataframe thead th {\n",
       "        text-align: right;\n",
       "    }\n",
       "</style>\n",
       "<table border=\"1\" class=\"dataframe\">\n",
       "  <thead>\n",
       "    <tr style=\"text-align: right;\">\n",
       "      <th></th>\n",
       "      <th>FormalEducation</th>\n",
       "    </tr>\n",
       "  </thead>\n",
       "  <tbody>\n",
       "    <tr>\n",
       "      <th>0</th>\n",
       "      <td>Secondary school</td>\n",
       "    </tr>\n",
       "    <tr>\n",
       "      <th>1</th>\n",
       "      <td>Some college/university study without earning ...</td>\n",
       "    </tr>\n",
       "    <tr>\n",
       "      <th>2</th>\n",
       "      <td>Bachelor's degree</td>\n",
       "    </tr>\n",
       "    <tr>\n",
       "      <th>3</th>\n",
       "      <td>Doctoral degree</td>\n",
       "    </tr>\n",
       "    <tr>\n",
       "      <th>4</th>\n",
       "      <td>Master's degree</td>\n",
       "    </tr>\n",
       "  </tbody>\n",
       "</table>\n",
       "</div>"
      ],
      "text/plain": [
       "                                     FormalEducation\n",
       "0                                   Secondary school\n",
       "1  Some college/university study without earning ...\n",
       "2                                  Bachelor's degree\n",
       "3                                    Doctoral degree\n",
       "4                                    Master's degree"
      ]
     },
     "execution_count": 5,
     "metadata": {},
     "output_type": "execute_result"
    }
   ],
   "source": [
    "education.head()"
   ]
  },
  {
   "cell_type": "code",
   "execution_count": 7,
   "id": "b59d6b2b-a26b-4839-b656-9b3e7441f015",
   "metadata": {},
   "outputs": [],
   "source": [
    "education = pd.read_csv('../zasoby/StackOverflowDeveloperSurvey.csv', usecols=['FormalEducation']).squeeze()"
   ]
  },
  {
   "cell_type": "code",
   "execution_count": 8,
   "id": "213b4d77-d6e2-4a91-b21f-5561bf0a126a",
   "metadata": {},
   "outputs": [
    {
     "data": {
      "text/plain": [
       "pandas.core.series.Series"
      ]
     },
     "execution_count": 8,
     "metadata": {},
     "output_type": "execute_result"
    }
   ],
   "source": [
    "type(education)"
   ]
  },
  {
   "cell_type": "code",
   "execution_count": 9,
   "id": "65ad01f5-457b-42dd-9950-fc7ae6e11633",
   "metadata": {},
   "outputs": [
    {
     "data": {
      "text/plain": [
       "51382                                      Master's degree\n",
       "51383               I never completed any formal education\n",
       "51384                                    Bachelor's degree\n",
       "51385                                      Master's degree\n",
       "51386    Some college/university study without earning ...\n",
       "51387                                    Bachelor's degree\n",
       "51388                                      Master's degree\n",
       "51389    Some college/university study without earning ...\n",
       "51390                                    Bachelor's degree\n",
       "51391                                    Bachelor's degree\n",
       "Name: FormalEducation, dtype: object"
      ]
     },
     "execution_count": 9,
     "metadata": {},
     "output_type": "execute_result"
    }
   ],
   "source": [
    "education.tail(10)"
   ]
  },
  {
   "cell_type": "code",
   "execution_count": 10,
   "id": "ea28e0d0-3949-46d6-be34-1da651d6fe5c",
   "metadata": {},
   "outputs": [],
   "source": [
    "all_info = pd.read_csv('../zasoby/StackOverflowDeveloperSurvey.csv')"
   ]
  },
  {
   "cell_type": "code",
   "execution_count": 11,
   "id": "013f00e3-2005-4c28-b501-1708f5a9cc37",
   "metadata": {},
   "outputs": [],
   "source": [
    "country = all_info[\"Country\"]"
   ]
  },
  {
   "cell_type": "code",
   "execution_count": 12,
   "id": "1ae0e5be-10dc-4161-b50c-4dc726f20cfb",
   "metadata": {},
   "outputs": [
    {
     "data": {
      "text/plain": [
       "pandas.core.series.Series"
      ]
     },
     "execution_count": 12,
     "metadata": {},
     "output_type": "execute_result"
    }
   ],
   "source": [
    "type(country)"
   ]
  },
  {
   "cell_type": "code",
   "execution_count": 13,
   "id": "a51da7d9-88cd-4149-bdfa-133d358cfb4e",
   "metadata": {},
   "outputs": [
    {
     "data": {
      "text/plain": [
       "0     United States\n",
       "1    United Kingdom\n",
       "2    United Kingdom\n",
       "3     United States\n",
       "4       Switzerland\n",
       "Name: Country, dtype: object"
      ]
     },
     "execution_count": 13,
     "metadata": {},
     "output_type": "execute_result"
    }
   ],
   "source": [
    "country.head()"
   ]
  },
  {
   "cell_type": "code",
   "execution_count": 18,
   "id": "c1b71b30-7263-4a58-9f54-6bdf89b79d51",
   "metadata": {},
   "outputs": [],
   "source": [
    "filter_only_USA = country == \"United States\""
   ]
  },
  {
   "cell_type": "code",
   "execution_count": 20,
   "id": "17842be3-0c22-4dce-a00b-eff9bf4e3e26",
   "metadata": {},
   "outputs": [
    {
     "data": {
      "text/plain": [
       "0     True\n",
       "1    False\n",
       "2    False\n",
       "3     True\n",
       "4    False\n",
       "Name: Country, dtype: bool"
      ]
     },
     "execution_count": 20,
     "metadata": {},
     "output_type": "execute_result"
    }
   ],
   "source": [
    "filter_only_USA.head()"
   ]
  },
  {
   "cell_type": "code",
   "execution_count": 25,
   "id": "932c953e-d6ff-4a71-be2a-ac012f19a85b",
   "metadata": {},
   "outputs": [
    {
     "data": {
      "text/plain": [
       "0              Secondary school\n",
       "3               Doctoral degree\n",
       "6               Master's degree\n",
       "10            Bachelor's degree\n",
       "15    Primary/elementary school\n",
       "17            Bachelor's degree\n",
       "18            Bachelor's degree\n",
       "25              Master's degree\n",
       "27            Bachelor's degree\n",
       "29            Bachelor's degree\n",
       "Name: FormalEducation, dtype: object"
      ]
     },
     "execution_count": 25,
     "metadata": {},
     "output_type": "execute_result"
    }
   ],
   "source": [
    "education.where(filter_only_USA).dropna().head(10)"
   ]
  },
  {
   "cell_type": "code",
   "execution_count": null,
   "id": "9d455641-a9eb-48d1-841c-c334a88049f8",
   "metadata": {},
   "outputs": [],
   "source": []
  }
 ],
 "metadata": {
  "kernelspec": {
   "display_name": "Python 3 (ipykernel)",
   "language": "python",
   "name": "python3"
  },
  "language_info": {
   "codemirror_mode": {
    "name": "ipython",
    "version": 3
   },
   "file_extension": ".py",
   "mimetype": "text/x-python",
   "name": "python",
   "nbconvert_exporter": "python",
   "pygments_lexer": "ipython3",
   "version": "3.11.7"
  }
 },
 "nbformat": 4,
 "nbformat_minor": 5
}
