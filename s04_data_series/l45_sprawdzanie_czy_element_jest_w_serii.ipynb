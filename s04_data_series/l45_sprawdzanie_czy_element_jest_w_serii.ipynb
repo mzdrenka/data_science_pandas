{
 "cells": [
  {
   "cell_type": "markdown",
   "id": "936bf508-8f3c-4f75-98e4-4db56eced38c",
   "metadata": {},
   "source": [
    "LAB - S02-L011 - Sprawdzanie czy element jest na liście\n",
    "1. Zaimportuj moduły: pandas, numpy, matplotlib (tylko pyplot), math i nadaj im standardowe aliasy\n",
    "2. Z pliku StackOverflowDeveloperSurvey.csv wczytaj kolumnę Country jako Data Series i zapisz ją w zmiennej\n",
    "countries. Wczytując elementy pomiń te ankiety, w których respondenci nie podali kraju (użyj dropna()).\n",
    "Wyświetl 5 pierwszych elementów serii\n",
    "3. Sprawdź, czy 'Spain' jest w serii countries (tu skorzystaj tylko z nazwy serii, bez odwołania do jego\n",
    "właściwości: index ani values). Jak uzasadnić wynik?\n",
    "4. Sprawdź, czy 'Spain' jest w serii countries (teraz skorzystaj z odpowiedniej właściwości serii, tak aby\n",
    "sprawdzanie odbyło się po wartościach, a nie indeksie). Jak uzasadnić wynik?\n",
    "5. Sprawdź czy na liście krajów jest kraj \"Wonderland\" (sprawdzając odwołuj się do odpowiedniej właściwości)"
   ]
  },
  {
   "cell_type": "code",
   "execution_count": 1,
   "id": "c68570a2-004a-46a0-8e76-05891612cf49",
   "metadata": {},
   "outputs": [],
   "source": [
    "import pandas as pd\n",
    "import numpy as np\n",
    "import matplotlib.pyplot as plt\n",
    "import math as math"
   ]
  },
  {
   "cell_type": "code",
   "execution_count": 4,
   "id": "f5c1d245-7e05-4077-8322-7dc94a8b3aa5",
   "metadata": {},
   "outputs": [],
   "source": [
    "countries = pd.read_csv('../zasoby/StackOverflowDeveloperSurvey.csv', usecols=['Country']).squeeze().dropna()"
   ]
  },
  {
   "cell_type": "code",
   "execution_count": 5,
   "id": "1d724e72-30b9-452d-8d6f-478f9e3bc1e3",
   "metadata": {},
   "outputs": [
    {
     "data": {
      "text/plain": [
       "0     United States\n",
       "1    United Kingdom\n",
       "2    United Kingdom\n",
       "3     United States\n",
       "4       Switzerland\n",
       "Name: Country, dtype: object"
      ]
     },
     "execution_count": 5,
     "metadata": {},
     "output_type": "execute_result"
    }
   ],
   "source": [
    "countries.head()"
   ]
  },
  {
   "cell_type": "code",
   "execution_count": 6,
   "id": "f75b9886-0731-4f71-98b9-e87b24fd17d2",
   "metadata": {},
   "outputs": [
    {
     "data": {
      "text/plain": [
       "False"
      ]
     },
     "execution_count": 6,
     "metadata": {},
     "output_type": "execute_result"
    }
   ],
   "source": [
    "'Spain' in countries"
   ]
  },
  {
   "cell_type": "code",
   "execution_count": 8,
   "id": "47c52993-a313-4cc2-8f0a-eedcbbca99e0",
   "metadata": {},
   "outputs": [
    {
     "data": {
      "text/plain": [
       "True"
      ]
     },
     "execution_count": 8,
     "metadata": {},
     "output_type": "execute_result"
    }
   ],
   "source": [
    "'Spain' in countries.values"
   ]
  },
  {
   "cell_type": "code",
   "execution_count": 9,
   "id": "e2ae4f85-dcc3-4743-b9a6-9b4a3dc0063a",
   "metadata": {},
   "outputs": [
    {
     "data": {
      "text/plain": [
       "False"
      ]
     },
     "execution_count": 9,
     "metadata": {},
     "output_type": "execute_result"
    }
   ],
   "source": [
    "'Wonderland' in countries.values"
   ]
  },
  {
   "cell_type": "code",
   "execution_count": null,
   "id": "4eec17c2-0b61-4d57-8bc5-7c7d0d0ce488",
   "metadata": {},
   "outputs": [],
   "source": []
  }
 ],
 "metadata": {
  "kernelspec": {
   "display_name": "Python 3 (ipykernel)",
   "language": "python",
   "name": "python3"
  },
  "language_info": {
   "codemirror_mode": {
    "name": "ipython",
    "version": 3
   },
   "file_extension": ".py",
   "mimetype": "text/x-python",
   "name": "python",
   "nbconvert_exporter": "python",
   "pygments_lexer": "ipython3",
   "version": "3.11.7"
  }
 },
 "nbformat": 4,
 "nbformat_minor": 5
}
