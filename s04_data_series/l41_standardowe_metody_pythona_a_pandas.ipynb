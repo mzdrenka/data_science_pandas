{
 "cells": [
  {
   "cell_type": "markdown",
   "id": "d0c99da4-5ba4-4568-a28c-c65777b00505",
   "metadata": {},
   "source": [
    "LAB - S02-L009 - Standardowe metody Pythona a obiekty PANDAS\n",
    "1. Zaimportuj moduły: pandas, numpy, matplotlib (tylko pyplot), math i nadaj im standardowe aliasy\n",
    "2. Z pliku StackOverflowDeveloperSurvey.csv wczytaj kolumnę Salary jako Data Series i zapisz ją w zmiennej salary. Wczytując elementy pomiń te ankiety, w których respondenci nie podali kwoty wynagrodzenia (użyj dropna()). Wyświetl 5 pierwszych elementów serii\n",
    "3. Ile osób odpowiedziało w ankiecie na temat otrzymywanego wynagrodzenia?\n",
    "4. Jakie jest najmniejsze wynagrodzenie? A jakie jest największe wynagrodzenie?\n",
    "5. Pięć pierwszych elementów serii zamień na listę (nie zapisuj jej w zmiennej, po prostu\n",
    "wyświetl)\n",
    "6. Pięć pierwszych elementów serii zamień na słownik (nie zapisuj go, po prostu wyświetl)\n",
    "7. W zmiennej listSalarySorted zapisz listę powstałą z posortowania serii salary malejąco\n",
    "8. Wyświetl pięć pierwszych elementów listy listSalarySorted. (Pamiętaj że to nie seria i\n",
    "nie zadziała metoda head()\n",
    "9. Zmień nazwę atrybutu name dla serii salary na \"Salary of a person\"\n",
    "10. Wyświetl 5 pierwszych elementów serii salary\n"
   ]
  },
  {
   "cell_type": "code",
   "execution_count": 34,
   "id": "bf15feee-6730-4e9c-8594-d098d0ce561f",
   "metadata": {},
   "outputs": [],
   "source": [
    "import pandas as pd\n",
    "import numpy as np\n",
    "import matplotlib.pyplot as plt\n",
    "import math as math"
   ]
  },
  {
   "cell_type": "code",
   "execution_count": 35,
   "id": "1ccdf404-dc1e-4d67-9669-bbd6ae7c4bd8",
   "metadata": {},
   "outputs": [],
   "source": [
    "salary = pd.read_csv('../zasoby/StackOverflowDeveloperSurvey.csv', usecols=['Salary']).squeeze().dropna()"
   ]
  },
  {
   "cell_type": "code",
   "execution_count": 39,
   "id": "ea73b482-d01d-42a6-ac83-21d5610784aa",
   "metadata": {},
   "outputs": [
    {
     "name": "stdout",
     "output_type": "stream",
     "text": [
      "Number of non NaN: 12891\n",
      "Max salary: 197000.0\n",
      "Min salary: 0.0\n"
     ]
    }
   ],
   "source": [
    "print(f'Number of non NaN: {salary.count()}')\n",
    "print(f'Max salary: {salary.max()}')\n",
    "print(f'Min salary: {salary.min()}')"
   ]
  },
  {
   "cell_type": "code",
   "execution_count": 40,
   "id": "4a6b1974-7673-4518-9b67-1a83e168f582",
   "metadata": {},
   "outputs": [
    {
     "data": {
      "text/plain": [
       "[113750.0, 100000.0, 130000.0, 82500.0, 100764.0]"
      ]
     },
     "execution_count": 40,
     "metadata": {},
     "output_type": "execute_result"
    }
   ],
   "source": [
    "list(salary.head())"
   ]
  },
  {
   "cell_type": "code",
   "execution_count": 41,
   "id": "3239c06c-7b34-404a-ac3e-c1043651c1ec",
   "metadata": {},
   "outputs": [
    {
     "data": {
      "text/plain": [
       "{2: 113750.0, 14: 100000.0, 17: 130000.0, 18: 82500.0, 22: 100764.0}"
      ]
     },
     "execution_count": 41,
     "metadata": {},
     "output_type": "execute_result"
    }
   ],
   "source": [
    "dict(salary.head())"
   ]
  },
  {
   "cell_type": "code",
   "execution_count": 44,
   "id": "ac80f899-e341-4922-9e8f-cb5f4c270434",
   "metadata": {},
   "outputs": [],
   "source": [
    "list_salary_sorted = sorted(salary, reverse=True)"
   ]
  },
  {
   "cell_type": "code",
   "execution_count": 47,
   "id": "01d2233b-834c-4b8e-b03f-5184ae8b321a",
   "metadata": {},
   "outputs": [
    {
     "data": {
      "text/plain": [
       "[197000.0, 195000.0, 195000.0, 195000.0, 195000.0]"
      ]
     },
     "execution_count": 47,
     "metadata": {},
     "output_type": "execute_result"
    }
   ],
   "source": [
    "list_salary_sorted[:5]"
   ]
  },
  {
   "cell_type": "code",
   "execution_count": 48,
   "id": "efd35f76-713a-4669-ac68-6c1649025f59",
   "metadata": {},
   "outputs": [
    {
     "data": {
      "text/plain": [
       "2     113750.0\n",
       "14    100000.0\n",
       "17    130000.0\n",
       "18     82500.0\n",
       "22    100764.0\n",
       "Name: Salary of a person, dtype: float64"
      ]
     },
     "execution_count": 48,
     "metadata": {},
     "output_type": "execute_result"
    }
   ],
   "source": [
    "salary.name = 'Salary of a person'\n",
    "salary.head()"
   ]
  },
  {
   "cell_type": "code",
   "execution_count": null,
   "id": "4ac5386f-fe24-4af7-8d15-0457642790c5",
   "metadata": {},
   "outputs": [],
   "source": []
  }
 ],
 "metadata": {
  "kernelspec": {
   "display_name": "Python 3 (ipykernel)",
   "language": "python",
   "name": "python3"
  },
  "language_info": {
   "codemirror_mode": {
    "name": "ipython",
    "version": 3
   },
   "file_extension": ".py",
   "mimetype": "text/x-python",
   "name": "python",
   "nbconvert_exporter": "python",
   "pygments_lexer": "ipython3",
   "version": "3.11.7"
  }
 },
 "nbformat": 4,
 "nbformat_minor": 5
}
