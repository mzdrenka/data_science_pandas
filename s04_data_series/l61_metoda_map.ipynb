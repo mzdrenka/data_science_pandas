{
 "cells": [
  {
   "cell_type": "markdown",
   "id": "c3fb7757-6a87-4fd4-bfd3-e23e23d552f6",
   "metadata": {},
   "source": [
    "## LAB - S02-L018 - Metoda map\n",
    "\n",
    "1. Zaimportuj moduł pandas i nadaj mu standardowy alias. Zaimportuj też moduł random i nadaj mu alias rd.\n",
    "2. Pracujesz dla linii lotniczych PYTHON Express (wszelkie podobieństwa do innych linii lotniczych są\n",
    "przypadkowe). Ta linia lotnicza posiada obecnie tylko 3 samoloty:\n",
    "symbol PYT001 - Airbus 320\n",
    "symbol PYT002 - Boeing 737\n",
    "symbol PYT003 - Airbus 321\n",
    "Zadeklaruj słownik, którego indeksami są w/w symbole, a wartościami nazwy samolotów.\n",
    "3. Utwórz serię aircrafts w oparciu o dane z w/w słownika\n",
    "4. Teraz wygenerujemy losową listę przelotów. Zadeklaruj pustą listę flightsList. Korzystając z pętli for, dodaj do listy 100 losowych wartości pochodzących z indeksu serii aircrafts (elementy na tej liście powinny być symbolami samolotów). Wyświetl 5 pierwszych wartości z tej listy. (Ponieważ korzystamy z funkcji losowych wyniki mogą się różnić).\n",
    "5. W oparciu o listę flightsList, utwórz serię o nazwie flights. Wyświetl pięć pierwszych pozycji z listy.\n",
    "6. Lista 100 lotów zawiera obecnie losowe przeloty, coś w stylu 0 - PYT002 / 1 - PYT003 / 2 - PYT002 /... My\n",
    "jednak chcielibyśmy zobaczyć listę z nazwami samolotów! Utwórz nową listę o nazwie flights_aircrafts, która\n",
    "będzie zawierała informacje o lotach, ale w kolumnie wartości zamist symbolu samolotu ma się pojawić jego\n",
    "nazwa. Wyświetl z tej listy 5 pierwszych pozycji.\n"
   ]
  },
  {
   "cell_type": "code",
   "execution_count": 1,
   "id": "f2fc7a49-5670-4841-92cb-9b7669fb1b6a",
   "metadata": {},
   "outputs": [],
   "source": [
    "import pandas as pd\n",
    "import random as rd"
   ]
  },
  {
   "cell_type": "code",
   "execution_count": 2,
   "id": "552c1a69-8d52-4fa1-8aa4-3ced100c8cf2",
   "metadata": {},
   "outputs": [],
   "source": [
    "air_plains = {\n",
    "    \"PYT001\" : \"Airbus 320\",\n",
    "    \"PYT002\" : \"Boeing 737\",\n",
    "    \"PYT003\" : \"Airbus 321\"\n",
    "}"
   ]
  },
  {
   "cell_type": "code",
   "execution_count": 3,
   "id": "af862f6d-32dd-4d9c-9917-6687a4863088",
   "metadata": {},
   "outputs": [
    {
     "data": {
      "text/plain": [
       "PYT001    Airbus 320\n",
       "PYT002    Boeing 737\n",
       "PYT003    Airbus 321\n",
       "dtype: object"
      ]
     },
     "execution_count": 3,
     "metadata": {},
     "output_type": "execute_result"
    }
   ],
   "source": [
    "aircrafts = pd.Series(air_plains)\n",
    "aircrafts"
   ]
  },
  {
   "cell_type": "code",
   "execution_count": 7,
   "id": "55b1669d-9f42-4e25-bd54-668cc3946bfd",
   "metadata": {},
   "outputs": [],
   "source": [
    "flights_list = [rd.choice(aircrafts.index) for x in range(100)] "
   ]
  },
  {
   "cell_type": "code",
   "execution_count": 10,
   "id": "0133e338-fc05-4563-acfb-6ce7fd823003",
   "metadata": {},
   "outputs": [
    {
     "data": {
      "text/plain": [
       "['PYT001', 'PYT002', 'PYT003', 'PYT003', 'PYT001']"
      ]
     },
     "execution_count": 10,
     "metadata": {},
     "output_type": "execute_result"
    }
   ],
   "source": [
    "flights_list[:5]"
   ]
  },
  {
   "cell_type": "code",
   "execution_count": 11,
   "id": "a7ceae66-a032-4e4d-85cc-4b4e41ca19a9",
   "metadata": {},
   "outputs": [],
   "source": [
    "flights = pd.Series(flights_list)"
   ]
  },
  {
   "cell_type": "code",
   "execution_count": 39,
   "id": "9c670e5e-6fb5-4d74-9eef-168b81cea111",
   "metadata": {},
   "outputs": [
    {
     "data": {
      "text/plain": [
       "0     PYT001\n",
       "1     PYT002\n",
       "2     PYT003\n",
       "3     PYT003\n",
       "4     PYT001\n",
       "5     PYT002\n",
       "6     PYT003\n",
       "7     PYT002\n",
       "8     PYT003\n",
       "9     PYT003\n",
       "10    PYT003\n",
       "11    PYT001\n",
       "12    PYT003\n",
       "13    PYT003\n",
       "14    PYT001\n",
       "15    PYT002\n",
       "16    PYT003\n",
       "17    PYT003\n",
       "18    PYT003\n",
       "19    PYT002\n",
       "dtype: object"
      ]
     },
     "execution_count": 39,
     "metadata": {},
     "output_type": "execute_result"
    }
   ],
   "source": [
    "flights.head(20)"
   ]
  },
  {
   "cell_type": "code",
   "execution_count": 53,
   "id": "292d862e-f015-4169-93e6-3b88bbc806a6",
   "metadata": {},
   "outputs": [],
   "source": [
    "flights_aircrafts = flights.map(aircrafts)"
   ]
  },
  {
   "cell_type": "code",
   "execution_count": 54,
   "id": "c8bfa990-b1f1-448f-9fee-0f4159d5b5e7",
   "metadata": {},
   "outputs": [
    {
     "data": {
      "text/plain": [
       "0    Airbus 320\n",
       "1    Boeing 737\n",
       "2    Airbus 321\n",
       "3    Airbus 321\n",
       "4    Airbus 320\n",
       "dtype: object"
      ]
     },
     "execution_count": 54,
     "metadata": {},
     "output_type": "execute_result"
    }
   ],
   "source": [
    "flights_aircrafts.head()"
   ]
  },
  {
   "cell_type": "code",
   "execution_count": 55,
   "id": "a879157c-4930-470b-a884-6100f4c5281b",
   "metadata": {},
   "outputs": [],
   "source": [
    "new_flights_series = aircrafts.reindex(flights)"
   ]
  },
  {
   "cell_type": "code",
   "execution_count": 56,
   "id": "24e500be-2238-4be9-b4bc-0dcedc019783",
   "metadata": {},
   "outputs": [
    {
     "data": {
      "text/plain": [
       "PYT001    Airbus 320\n",
       "PYT002    Boeing 737\n",
       "PYT003    Airbus 321\n",
       "PYT003    Airbus 321\n",
       "PYT001    Airbus 320\n",
       "             ...    \n",
       "PYT001    Airbus 320\n",
       "PYT003    Airbus 321\n",
       "PYT003    Airbus 321\n",
       "PYT001    Airbus 320\n",
       "PYT002    Boeing 737\n",
       "Length: 100, dtype: object"
      ]
     },
     "execution_count": 56,
     "metadata": {},
     "output_type": "execute_result"
    }
   ],
   "source": [
    "new_flights_series"
   ]
  },
  {
   "cell_type": "code",
   "execution_count": null,
   "id": "87da22db-5e5e-435b-9c9c-b848f16f3ab4",
   "metadata": {},
   "outputs": [],
   "source": []
  }
 ],
 "metadata": {
  "kernelspec": {
   "display_name": "Python 3 (ipykernel)",
   "language": "python",
   "name": "python3"
  },
  "language_info": {
   "codemirror_mode": {
    "name": "ipython",
    "version": 3
   },
   "file_extension": ".py",
   "mimetype": "text/x-python",
   "name": "python",
   "nbconvert_exporter": "python",
   "pygments_lexer": "ipython3",
   "version": "3.11.7"
  }
 },
 "nbformat": 4,
 "nbformat_minor": 5
}
