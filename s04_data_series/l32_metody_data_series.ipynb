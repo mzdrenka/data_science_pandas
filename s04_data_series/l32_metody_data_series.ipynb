{
 "cells": [
  {
   "cell_type": "markdown",
   "id": "31958600-f69d-46f6-a831-a2a2388553c5",
   "metadata": {},
   "source": [
    "S02-L005 - LAB - Metody Data Series\n",
    "1. Zaimportuj moduły: pandas, numpy, matplotlib (tylko pyplot), math i nadaj im standardowe aliasy\n",
    "2. Zadeklaruj dwie listy:\n",
    "cities, których elementami są nazwy trzech największych miast świata: Shanghai, Beijing, Istanbul population, której elementami są ilości obywateli tych miast 24183300, 20794100, 15030000\n",
    "3. Utwórz zmienna citypop typu Series, która jako indeks przyjmie nazwy miast, a za wartości ich populacje. Tworząc obiekt przekaż argumenty przez pozycję. Wyświetl serię\n",
    "4. Powtórz punkt (3), ale teraz przekaż parametry z wykorzystniem argumentów nazwanych\n",
    "5. Policz ile obywateli w sumie zamieszkuje te miasta\n",
    "6. Policz ile średnio mieszkańców mieszka w każdym z tych miast\n",
    "7. Wyświetl indeks serii citypop korzystając raz z właściwości a raz z metody\n",
    "8. Wyświetl wartości serii citypop korzystająć odpowiedniej właściwości"
   ]
  },
  {
   "cell_type": "code",
   "execution_count": 3,
   "id": "7b95dfe9-7093-42d6-9bf9-f9325bde82ef",
   "metadata": {},
   "outputs": [],
   "source": [
    "import pandas as pd\n",
    "import numpy as np\n",
    "import matplotlib.pyplot as plt\n",
    "import math as math"
   ]
  },
  {
   "cell_type": "code",
   "execution_count": 4,
   "id": "f33066a0-52b6-4080-9e86-fdede442a8af",
   "metadata": {},
   "outputs": [],
   "source": [
    "cities = ['Shanghai', 'Beijing', 'Istanbul']\n",
    "population = [24183300, 20794100, 15030000]"
   ]
  },
  {
   "cell_type": "code",
   "execution_count": 5,
   "id": "75e3dd8e-8be1-411b-a041-62819d9fad3b",
   "metadata": {},
   "outputs": [
    {
     "data": {
      "text/plain": [
       "Shanghai    24183300\n",
       "Beijing     20794100\n",
       "Istanbul    15030000\n",
       "dtype: int64"
      ]
     },
     "execution_count": 5,
     "metadata": {},
     "output_type": "execute_result"
    }
   ],
   "source": [
    "citypop = pd.Series(population, cities)\n",
    "citypop"
   ]
  },
  {
   "cell_type": "code",
   "execution_count": 7,
   "id": "d62283b9-59e3-4297-8ae2-e2552d152b9e",
   "metadata": {},
   "outputs": [
    {
     "data": {
      "text/plain": [
       "Shanghai    24183300\n",
       "Beijing     20794100\n",
       "Istanbul    15030000\n",
       "dtype: int64"
      ]
     },
     "execution_count": 7,
     "metadata": {},
     "output_type": "execute_result"
    }
   ],
   "source": [
    "citypop = pd.Series(data=population, index=cities)\n",
    "citypop"
   ]
  },
  {
   "cell_type": "code",
   "execution_count": 14,
   "id": "aab2adce-2df6-4588-9af8-f89f3beedcc7",
   "metadata": {},
   "outputs": [
    {
     "name": "stdout",
     "output_type": "stream",
     "text": [
      "Total population: 60007400\n",
      "Avarage population: 20002466.666666668\n",
      "Indexes: Index(['Shanghai', 'Beijing', 'Istanbul'], dtype='object')\n",
      "Keys: Index(['Shanghai', 'Beijing', 'Istanbul'], dtype='object')\n",
      "Values: [24183300 20794100 15030000]\n",
      "2.1.4\n"
     ]
    }
   ],
   "source": [
    "print(f'Total population: {citypop.sum()}')\n",
    "print(f'Avarage population: {citypop.mean()}')\n",
    "print(f'Indexes: {citypop.index}')\n",
    "print(f'Keys: {citypop.keys()}')\n",
    "print(f'Values: {citypop.values}')\n",
    "print(pd.__version__)"
   ]
  },
  {
   "cell_type": "code",
   "execution_count": null,
   "id": "925a97be-98b8-4672-954e-fe80b722e49b",
   "metadata": {},
   "outputs": [],
   "source": []
  }
 ],
 "metadata": {
  "kernelspec": {
   "display_name": "Python 3 (ipykernel)",
   "language": "python",
   "name": "python3"
  },
  "language_info": {
   "codemirror_mode": {
    "name": "ipython",
    "version": 3
   },
   "file_extension": ".py",
   "mimetype": "text/x-python",
   "name": "python",
   "nbconvert_exporter": "python",
   "pygments_lexer": "ipython3",
   "version": "3.11.7"
  }
 },
 "nbformat": 4,
 "nbformat_minor": 5
}
