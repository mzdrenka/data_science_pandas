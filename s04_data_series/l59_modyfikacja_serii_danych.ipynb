{
 "cells": [
  {
   "cell_type": "markdown",
   "id": "c341eae7-04c7-4fb8-91a2-2aaa370c8246",
   "metadata": {},
   "source": [
    "# LAB - S02-L017 - Modyfikacja serii danych\n",
    "\n",
    "1. Zaimportuj moduł pandas i nadaj mu standardowy alias. Do zmiennej surveys zapiszdata series pobierając wartości z pliku StackOverflowDeveloperSurvey.csv kolumnęSalary. Ponieważ nie wszyscy ankietowani podali wysokość swojej pensji, usuń te wpisy,które są puste (skorzystaj z metody dropna() bez żadnych dodatkowych argumentów).Wyświetl pięć pierwszych pozycji tej serii.\n",
    "2. Interesuje Cię ile osób podało wysokość swojej wypłaty? Wyświetl informację od ilości elementów w serii surveys\n",
    "3. Symulujemy podwyżkę pensji o 3%. Utwórz nową serię surveysIncrease, której wartością będą kwoty z serii surveys pomnożone przez 0.03. Wyświetl nagłówek nowejserii.\n",
    "4. Utwórz nową serię surveysAfterIncrease, której wartością będzie suma surveys i surveysIncrease. Wyświetl nagłówek.\n",
    "5. Zmieniamy trochę temat. Do zmiennej surveysTime wczytaj kolumnę HoursOutside zpliku StackOverflowDeveloperSurvey2018.csv. Ponieważ plik jest duży, dodaj parametr low_memory=False. Również skorzystaj z metody dropna(), aby wyeliminować pustewartości. Wyświetl nagłówek.\n",
    "6. Interesuje Cię ile czasu programiści spędzają na \"świeżym powietrzu\"? Uruchom na rzecz surveysTime metodę, która dla każdej unikalnej pozycji z serii wyświetli ile razy ta pozycja występowała w serii. Do której grupy należysz ;) ?\n",
    "7.  Po zaimportowaniu danych, można je normalizować. Zmień wielkość liter na małe w całej serii surveysTime. Zmiany mają rzeczywiście być zapisane w surveysTime. Wyświetl nagłówek.\n",
    "8.  Zmieniamy zdanie. Chcemy, aby teksty były zapisane wielkimi literami. Tym razem wykorzystaj do tego wyrażenie lambda. Zmiany znowu maja być zapisane do surveysTime. Wyświetl nagłówek\n",
    "9.  Napisz funkcję ChangeDescription, która jako argument przyjmie napis. Jeżeli w tej zmiennej znajduje się tekst 'LESS THAN 30 MINUTES' to zwróć 'LESS THAN HALF HOUR', a w przeciwnym razie zwróć oryginalną wartość przekazaną w argumencie.\n",
    "10.  Przetestuj funkcję przekazując do niej różne napisy.\n",
    "11.  Zastosuj funkcję ChangeDescription do serii surveysTime. Wyświetl nagłówek\n",
    "12.  Wyciągnij wniosek na temat \"wychodzenia na świeże powietrze\""
   ]
  },
  {
   "cell_type": "code",
   "execution_count": 1,
   "id": "50389a88-8c11-469d-ade6-247bfafff423",
   "metadata": {},
   "outputs": [],
   "source": [
    "import pandas as pd"
   ]
  },
  {
   "cell_type": "code",
   "execution_count": 2,
   "id": "ab9df3ca-b691-4302-864f-2d698ba01444",
   "metadata": {},
   "outputs": [],
   "source": [
    "surveys = pd.read_csv('../zasoby/StackOverflowDeveloperSurvey.csv', usecols=['Salary']).squeeze().dropna()"
   ]
  },
  {
   "cell_type": "code",
   "execution_count": 3,
   "id": "04b8cd3f-0105-434c-908c-7fe6c4480a5b",
   "metadata": {},
   "outputs": [
    {
     "data": {
      "text/plain": [
       "2     113750.0\n",
       "14    100000.0\n",
       "17    130000.0\n",
       "18     82500.0\n",
       "22    100764.0\n",
       "Name: Salary, dtype: float64"
      ]
     },
     "execution_count": 3,
     "metadata": {},
     "output_type": "execute_result"
    }
   ],
   "source": [
    "surveys.head()"
   ]
  },
  {
   "cell_type": "code",
   "execution_count": 4,
   "id": "fc5070cd-127d-4f9e-9498-796ebfd03fe5",
   "metadata": {},
   "outputs": [
    {
     "data": {
      "text/plain": [
       "12891"
      ]
     },
     "execution_count": 4,
     "metadata": {},
     "output_type": "execute_result"
    }
   ],
   "source": [
    "surveys.count()"
   ]
  },
  {
   "cell_type": "code",
   "execution_count": 5,
   "id": "f0751c22-9ae7-4304-9bd4-8dc7e2e8aaa9",
   "metadata": {},
   "outputs": [],
   "source": [
    "surveysIncrease = surveys * 0.03"
   ]
  },
  {
   "cell_type": "code",
   "execution_count": 6,
   "id": "3a56e9fb-e926-4ce5-b27f-8c86014cdbf7",
   "metadata": {},
   "outputs": [
    {
     "data": {
      "text/plain": [
       "2     3412.50\n",
       "14    3000.00\n",
       "17    3900.00\n",
       "18    2475.00\n",
       "22    3022.92\n",
       "Name: Salary, dtype: float64"
      ]
     },
     "execution_count": 6,
     "metadata": {},
     "output_type": "execute_result"
    }
   ],
   "source": [
    "surveysIncrease.head()"
   ]
  },
  {
   "cell_type": "code",
   "execution_count": 7,
   "id": "86e8b68d-4bab-40bf-9cb9-46cf8b01f01d",
   "metadata": {},
   "outputs": [],
   "source": [
    "surveysAfterIncrease = surveys + surveysIncrease"
   ]
  },
  {
   "cell_type": "code",
   "execution_count": 8,
   "id": "b0d0cd3d-e564-4fe8-858b-93de2f662b01",
   "metadata": {},
   "outputs": [
    {
     "data": {
      "text/plain": [
       "2     117162.50\n",
       "14    103000.00\n",
       "17    133900.00\n",
       "18     84975.00\n",
       "22    103786.92\n",
       "Name: Salary, dtype: float64"
      ]
     },
     "execution_count": 8,
     "metadata": {},
     "output_type": "execute_result"
    }
   ],
   "source": [
    "surveysAfterIncrease.head()"
   ]
  },
  {
   "cell_type": "code",
   "execution_count": 10,
   "id": "5dc711e5-8309-4f15-adc1-c36a30fa60b0",
   "metadata": {},
   "outputs": [],
   "source": [
    "surveysTime = pd.read_csv('../zasoby/StackOverflowDeveloperSurvey2018.csv', low_memory=False, usecols=['HoursOutside']).squeeze().dropna()"
   ]
  },
  {
   "cell_type": "code",
   "execution_count": 11,
   "id": "8b347769-a353-4ad5-83c1-63f2b8ba0f78",
   "metadata": {},
   "outputs": [
    {
     "data": {
      "text/plain": [
       "0             1 - 2 hours\n",
       "1         30 - 59 minutes\n",
       "3    Less than 30 minutes\n",
       "4             1 - 2 hours\n",
       "5         30 - 59 minutes\n",
       "Name: HoursOutside, dtype: object"
      ]
     },
     "execution_count": 11,
     "metadata": {},
     "output_type": "execute_result"
    }
   ],
   "source": [
    "surveysTime.head()"
   ]
  },
  {
   "cell_type": "code",
   "execution_count": 12,
   "id": "759d47e4-249b-431d-bdf8-c15eefdff948",
   "metadata": {},
   "outputs": [
    {
     "data": {
      "text/plain": [
       "HoursOutside\n",
       "1 - 2 hours             27788\n",
       "30 - 59 minutes         24002\n",
       "Less than 30 minutes    11223\n",
       "3 - 4 hours              7186\n",
       "Over 4 hours             1825\n",
       "Name: count, dtype: int64"
      ]
     },
     "execution_count": 12,
     "metadata": {},
     "output_type": "execute_result"
    }
   ],
   "source": [
    "surveysTime.value_counts()"
   ]
  },
  {
   "cell_type": "code",
   "execution_count": 14,
   "id": "d52d15c6-1590-415c-b711-17c505fd582c",
   "metadata": {},
   "outputs": [],
   "source": [
    "surveysTime = surveysTime.str.lower()"
   ]
  },
  {
   "cell_type": "code",
   "execution_count": 15,
   "id": "08014b02-7963-4488-abbc-faab1289139e",
   "metadata": {},
   "outputs": [
    {
     "data": {
      "text/plain": [
       "0             1 - 2 hours\n",
       "1         30 - 59 minutes\n",
       "3    less than 30 minutes\n",
       "4             1 - 2 hours\n",
       "5         30 - 59 minutes\n",
       "Name: HoursOutside, dtype: object"
      ]
     },
     "execution_count": 15,
     "metadata": {},
     "output_type": "execute_result"
    }
   ],
   "source": [
    "surveysTime.head()"
   ]
  },
  {
   "cell_type": "code",
   "execution_count": 16,
   "id": "a5d16fd7-918f-4eed-8910-e9de4815b0e4",
   "metadata": {},
   "outputs": [],
   "source": [
    "surveysTime = surveysTime.apply(lambda strtext: strtext.upper())"
   ]
  },
  {
   "cell_type": "code",
   "execution_count": 17,
   "id": "01463bd5-8c2a-44d5-b447-0ff3be8ce559",
   "metadata": {},
   "outputs": [
    {
     "data": {
      "text/plain": [
       "0             1 - 2 HOURS\n",
       "1         30 - 59 MINUTES\n",
       "3    LESS THAN 30 MINUTES\n",
       "4             1 - 2 HOURS\n",
       "5         30 - 59 MINUTES\n",
       "Name: HoursOutside, dtype: object"
      ]
     },
     "execution_count": 17,
     "metadata": {},
     "output_type": "execute_result"
    }
   ],
   "source": [
    "surveysTime.head()"
   ]
  },
  {
   "cell_type": "code",
   "execution_count": 18,
   "id": "a039beee-afaf-4c8d-a463-710c555fafab",
   "metadata": {},
   "outputs": [],
   "source": [
    "def ChangeDescription(text):\n",
    "    if text.upper() == 'LESS THAN 30 MINUTES':\n",
    "        return 'LESS THAN HALF HOUR'\n",
    "    else:\n",
    "        return text"
   ]
  },
  {
   "cell_type": "code",
   "execution_count": 19,
   "id": "13700cff-8336-4c5a-a136-9140ccf878c3",
   "metadata": {},
   "outputs": [
    {
     "data": {
      "text/plain": [
       "'LESS THAN HALF HOUR'"
      ]
     },
     "execution_count": 19,
     "metadata": {},
     "output_type": "execute_result"
    }
   ],
   "source": [
    "ChangeDescription('LESS THAN 30 MINUTES')"
   ]
  },
  {
   "cell_type": "code",
   "execution_count": 21,
   "id": "4687b38e-dba2-446d-a138-fd110ed930b6",
   "metadata": {},
   "outputs": [
    {
     "data": {
      "text/plain": [
       "'jakis tekst'"
      ]
     },
     "execution_count": 21,
     "metadata": {},
     "output_type": "execute_result"
    }
   ],
   "source": [
    "ChangeDescription('jakis tekst')"
   ]
  },
  {
   "cell_type": "code",
   "execution_count": 22,
   "id": "f94f9d0c-f2f8-402b-9337-362edfec54b4",
   "metadata": {},
   "outputs": [],
   "source": [
    "surveysTime = surveysTime.apply(ChangeDescription)"
   ]
  },
  {
   "cell_type": "code",
   "execution_count": 23,
   "id": "315776e6-b88b-4af8-937b-b4aa1c701fa5",
   "metadata": {},
   "outputs": [
    {
     "data": {
      "text/plain": [
       "0            1 - 2 HOURS\n",
       "1        30 - 59 MINUTES\n",
       "3    LESS THAN HALF HOUR\n",
       "4            1 - 2 HOURS\n",
       "5        30 - 59 MINUTES\n",
       "Name: HoursOutside, dtype: object"
      ]
     },
     "execution_count": 23,
     "metadata": {},
     "output_type": "execute_result"
    }
   ],
   "source": [
    "surveysTime.head()"
   ]
  },
  {
   "cell_type": "code",
   "execution_count": null,
   "id": "4969968e-5b09-4004-ae84-6fd721306de1",
   "metadata": {},
   "outputs": [],
   "source": []
  }
 ],
 "metadata": {
  "kernelspec": {
   "display_name": "Python 3 (ipykernel)",
   "language": "python",
   "name": "python3"
  },
  "language_info": {
   "codemirror_mode": {
    "name": "ipython",
    "version": 3
   },
   "file_extension": ".py",
   "mimetype": "text/x-python",
   "name": "python",
   "nbconvert_exporter": "python",
   "pygments_lexer": "ipython3",
   "version": "3.11.7"
  }
 },
 "nbformat": 4,
 "nbformat_minor": 5
}
