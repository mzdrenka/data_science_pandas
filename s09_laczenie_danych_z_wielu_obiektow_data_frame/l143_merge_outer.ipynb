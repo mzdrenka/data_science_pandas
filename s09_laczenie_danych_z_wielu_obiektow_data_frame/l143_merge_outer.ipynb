{
 "cells": [
  {
   "cell_type": "markdown",
   "id": "436c6928-dfa0-40ff-a422-8ac6205e1ee6",
   "metadata": {},
   "source": [
    "## LAB - S07-L005 - merge outer\n",
    "\n",
    "1. Zaimportuj moduł pandas i numpy nadaj im standardowe aliasy\n",
    "2. Do zmiennej suppliers zaimportuj zawartość pliku suppliers_del_1.csv. Pobierz tylko kolumny SupplierID, CompanyName, City\n",
    "3. Do zmiennej products zaimportuj zawartość pliku products_del_1.csv\". Pobierz tylko kolumny ProductID,\n",
    "ProductName, SupplierID**\n",
    "4. W zmiennej prod_and_sup zapisz wynik złączenia (inner) z products do suppliers\n",
    "5. Wyświetl informację o ilości wierszy w trzech wyżej wymienionych zmiennych: suppliers, products i prod_and_sup\n",
    "6. Jeżeli wszystkie dane są spójne to liczba wierszy w products powinna być równa liczbie wierszy w prod_and_sup. Tutaj tak nie jest, więc podejrzewamy, że ktoś usunął jeden lub więcej wierszy w suppliers. Znajdź je!\n",
    "- w zmiennej prod_and_sup_outer zapisz wynik złączenia poleceniem merge dataframe products i suppliers (outer)\n",
    "- złączając dane dodaj parametr indicator, co pozwoli określić z której tabeli pochodzi dany wiersz\n",
    "- utwórz zmienną - serię wartości logicznych, która pozwoli zidentyfikować tylko wiersze, które znajdowały się po lewej stronie (left_only)\n",
    "- wyświetl informacje o tych produktach, dla których nie jest znany dostawca\n",
    "\n",
    "7. Podejrzewamy, że w suppliers mogą być dostawcy, którzy nie dostarczają żadnych produktów (kandydaci do\n",
    "usnięcia z tego obiektu). Znajdź ich\n",
    "- korzystaj ze zmiennej prod_and_sup_outer\n",
    "- utwórz zmienną - serię wartości logicznych, która pozwoli zidentyfikować tyle te wiersze, które znajdują się po prawej stronie (right_only)\n",
    "- wyświetl informacje o tych dostawcach, dla których nie udało się znaleźć żadnych produktów"
   ]
  },
  {
   "cell_type": "code",
   "execution_count": 2,
   "id": "06fafc4a-3cd8-4948-a61c-37e0b5a35c68",
   "metadata": {},
   "outputs": [],
   "source": [
    "import pandas as pd\n",
    "import numpy as np\n"
   ]
  },
  {
   "cell_type": "code",
   "execution_count": 3,
   "id": "0a7e1df1-f8dd-49c6-ad06-b4747d815235",
   "metadata": {},
   "outputs": [],
   "source": [
    "suppliers = pd.read_csv('../zasoby/nw/suppliers_del_1.csv', usecols=['SupplierID', 'CompanyName', 'City'])"
   ]
  },
  {
   "cell_type": "code",
   "execution_count": 4,
   "id": "6d294876-322c-45d4-b2df-a0015433bdaf",
   "metadata": {},
   "outputs": [],
   "source": [
    "products = pd.read_csv('../zasoby/nw/products_del_1.csv', usecols=['ProductID', 'ProductName', 'SupplierID'])"
   ]
  },
  {
   "cell_type": "code",
   "execution_count": 5,
   "id": "5565834e-92e1-4035-93e0-8739a63fcde8",
   "metadata": {},
   "outputs": [],
   "source": [
    "prod_and_sup = products.merge(suppliers, on='SupplierID')"
   ]
  },
  {
   "cell_type": "code",
   "execution_count": 6,
   "id": "6245cab9-63ed-429a-a508-8885eaa2c34b",
   "metadata": {},
   "outputs": [
    {
     "data": {
      "text/html": [
       "<div>\n",
       "<style scoped>\n",
       "    .dataframe tbody tr th:only-of-type {\n",
       "        vertical-align: middle;\n",
       "    }\n",
       "\n",
       "    .dataframe tbody tr th {\n",
       "        vertical-align: top;\n",
       "    }\n",
       "\n",
       "    .dataframe thead th {\n",
       "        text-align: right;\n",
       "    }\n",
       "</style>\n",
       "<table border=\"1\" class=\"dataframe\">\n",
       "  <thead>\n",
       "    <tr style=\"text-align: right;\">\n",
       "      <th></th>\n",
       "      <th>ProductID</th>\n",
       "      <th>ProductName</th>\n",
       "      <th>SupplierID</th>\n",
       "      <th>CompanyName</th>\n",
       "      <th>City</th>\n",
       "    </tr>\n",
       "  </thead>\n",
       "  <tbody>\n",
       "    <tr>\n",
       "      <th>0</th>\n",
       "      <td>1</td>\n",
       "      <td>Chai</td>\n",
       "      <td>1</td>\n",
       "      <td>Exotic Liquids</td>\n",
       "      <td>London</td>\n",
       "    </tr>\n",
       "    <tr>\n",
       "      <th>1</th>\n",
       "      <td>2</td>\n",
       "      <td>Chang</td>\n",
       "      <td>1</td>\n",
       "      <td>Exotic Liquids</td>\n",
       "      <td>London</td>\n",
       "    </tr>\n",
       "    <tr>\n",
       "      <th>2</th>\n",
       "      <td>3</td>\n",
       "      <td>Aniseed Syrup</td>\n",
       "      <td>1</td>\n",
       "      <td>Exotic Liquids</td>\n",
       "      <td>London</td>\n",
       "    </tr>\n",
       "    <tr>\n",
       "      <th>3</th>\n",
       "      <td>4</td>\n",
       "      <td>Chef Anton's Cajun Seasoning</td>\n",
       "      <td>2</td>\n",
       "      <td>New Orleans Cajun Delights</td>\n",
       "      <td>New Orleans</td>\n",
       "    </tr>\n",
       "    <tr>\n",
       "      <th>4</th>\n",
       "      <td>5</td>\n",
       "      <td>Chef Anton's Gumbo Mix</td>\n",
       "      <td>2</td>\n",
       "      <td>New Orleans Cajun Delights</td>\n",
       "      <td>New Orleans</td>\n",
       "    </tr>\n",
       "  </tbody>\n",
       "</table>\n",
       "</div>"
      ],
      "text/plain": [
       "   ProductID                   ProductName  SupplierID  \\\n",
       "0          1                          Chai           1   \n",
       "1          2                         Chang           1   \n",
       "2          3                 Aniseed Syrup           1   \n",
       "3          4  Chef Anton's Cajun Seasoning           2   \n",
       "4          5        Chef Anton's Gumbo Mix           2   \n",
       "\n",
       "                  CompanyName         City  \n",
       "0              Exotic Liquids       London  \n",
       "1              Exotic Liquids       London  \n",
       "2              Exotic Liquids       London  \n",
       "3  New Orleans Cajun Delights  New Orleans  \n",
       "4  New Orleans Cajun Delights  New Orleans  "
      ]
     },
     "execution_count": 6,
     "metadata": {},
     "output_type": "execute_result"
    }
   ],
   "source": [
    "prod_and_sup.head()"
   ]
  },
  {
   "cell_type": "code",
   "execution_count": 7,
   "id": "0d99899c-3640-4406-bc77-34d864654b77",
   "metadata": {},
   "outputs": [
    {
     "name": "stdout",
     "output_type": "stream",
     "text": [
      "27\n",
      "75\n",
      "70\n"
     ]
    }
   ],
   "source": [
    "print(len(suppliers))\n",
    "print(len(products))\n",
    "print(len(prod_and_sup))"
   ]
  },
  {
   "cell_type": "code",
   "execution_count": 10,
   "id": "b33454ad-4da7-4bc4-887d-c0a12d4c965b",
   "metadata": {},
   "outputs": [],
   "source": [
    "prod_and_sup_outer = products.merge(suppliers, on='SupplierID', how='outer', indicator=True)"
   ]
  },
  {
   "cell_type": "code",
   "execution_count": 11,
   "id": "820377ad-b387-4f36-88cf-f9d9f366e753",
   "metadata": {},
   "outputs": [],
   "source": [
    "prod_and_sup_outer_left_only = prod_and_sup_outer.loc[prod_and_sup_outer['_merge'] == 'left_only']"
   ]
  },
  {
   "cell_type": "code",
   "execution_count": 12,
   "id": "2dcc0db8-e760-48e0-98a7-fed56fa1ec8b",
   "metadata": {},
   "outputs": [
    {
     "data": {
      "text/html": [
       "<div>\n",
       "<style scoped>\n",
       "    .dataframe tbody tr th:only-of-type {\n",
       "        vertical-align: middle;\n",
       "    }\n",
       "\n",
       "    .dataframe tbody tr th {\n",
       "        vertical-align: top;\n",
       "    }\n",
       "\n",
       "    .dataframe thead th {\n",
       "        text-align: right;\n",
       "    }\n",
       "</style>\n",
       "<table border=\"1\" class=\"dataframe\">\n",
       "  <thead>\n",
       "    <tr style=\"text-align: right;\">\n",
       "      <th></th>\n",
       "      <th>ProductID</th>\n",
       "      <th>ProductName</th>\n",
       "      <th>SupplierID</th>\n",
       "      <th>CompanyName</th>\n",
       "      <th>City</th>\n",
       "      <th>_merge</th>\n",
       "    </tr>\n",
       "  </thead>\n",
       "  <tbody>\n",
       "    <tr>\n",
       "      <th>27</th>\n",
       "      <td>22.0</td>\n",
       "      <td>Gustaf's Knäckebröd</td>\n",
       "      <td>9</td>\n",
       "      <td>NaN</td>\n",
       "      <td>NaN</td>\n",
       "      <td>left_only</td>\n",
       "    </tr>\n",
       "    <tr>\n",
       "      <th>28</th>\n",
       "      <td>23.0</td>\n",
       "      <td>Tunnbröd</td>\n",
       "      <td>9</td>\n",
       "      <td>NaN</td>\n",
       "      <td>NaN</td>\n",
       "      <td>left_only</td>\n",
       "    </tr>\n",
       "    <tr>\n",
       "      <th>48</th>\n",
       "      <td>36.0</td>\n",
       "      <td>Inlagd Sill</td>\n",
       "      <td>17</td>\n",
       "      <td>NaN</td>\n",
       "      <td>NaN</td>\n",
       "      <td>left_only</td>\n",
       "    </tr>\n",
       "    <tr>\n",
       "      <th>49</th>\n",
       "      <td>37.0</td>\n",
       "      <td>Gravad lax</td>\n",
       "      <td>17</td>\n",
       "      <td>NaN</td>\n",
       "      <td>NaN</td>\n",
       "      <td>left_only</td>\n",
       "    </tr>\n",
       "    <tr>\n",
       "      <th>50</th>\n",
       "      <td>73.0</td>\n",
       "      <td>Röd Kaviar</td>\n",
       "      <td>17</td>\n",
       "      <td>NaN</td>\n",
       "      <td>NaN</td>\n",
       "      <td>left_only</td>\n",
       "    </tr>\n",
       "  </tbody>\n",
       "</table>\n",
       "</div>"
      ],
      "text/plain": [
       "    ProductID          ProductName  SupplierID CompanyName City     _merge\n",
       "27       22.0  Gustaf's Knäckebröd           9         NaN  NaN  left_only\n",
       "28       23.0             Tunnbröd           9         NaN  NaN  left_only\n",
       "48       36.0          Inlagd Sill          17         NaN  NaN  left_only\n",
       "49       37.0           Gravad lax          17         NaN  NaN  left_only\n",
       "50       73.0           Röd Kaviar          17         NaN  NaN  left_only"
      ]
     },
     "execution_count": 12,
     "metadata": {},
     "output_type": "execute_result"
    }
   ],
   "source": [
    "prod_and_sup_outer_left_only"
   ]
  },
  {
   "cell_type": "code",
   "execution_count": 14,
   "id": "d867a591-a9ca-4ecc-850c-178e97ed4d78",
   "metadata": {},
   "outputs": [],
   "source": [
    "prod_and_sup_outer_right_only = prod_and_sup_outer.loc[prod_and_sup_outer['_merge'] == 'right_only']"
   ]
  },
  {
   "cell_type": "code",
   "execution_count": 15,
   "id": "cea9e105-2a89-4251-b2ab-94f4bfa2b5ea",
   "metadata": {},
   "outputs": [
    {
     "data": {
      "text/html": [
       "<div>\n",
       "<style scoped>\n",
       "    .dataframe tbody tr th:only-of-type {\n",
       "        vertical-align: middle;\n",
       "    }\n",
       "\n",
       "    .dataframe tbody tr th {\n",
       "        vertical-align: top;\n",
       "    }\n",
       "\n",
       "    .dataframe thead th {\n",
       "        text-align: right;\n",
       "    }\n",
       "</style>\n",
       "<table border=\"1\" class=\"dataframe\">\n",
       "  <thead>\n",
       "    <tr style=\"text-align: right;\">\n",
       "      <th></th>\n",
       "      <th>ProductID</th>\n",
       "      <th>ProductName</th>\n",
       "      <th>SupplierID</th>\n",
       "      <th>CompanyName</th>\n",
       "      <th>City</th>\n",
       "      <th>_merge</th>\n",
       "    </tr>\n",
       "  </thead>\n",
       "  <tbody>\n",
       "    <tr>\n",
       "      <th>75</th>\n",
       "      <td>NaN</td>\n",
       "      <td>NaN</td>\n",
       "      <td>27</td>\n",
       "      <td>Escargots Nouveaux</td>\n",
       "      <td>Montceau</td>\n",
       "      <td>right_only</td>\n",
       "    </tr>\n",
       "  </tbody>\n",
       "</table>\n",
       "</div>"
      ],
      "text/plain": [
       "    ProductID ProductName  SupplierID         CompanyName      City  \\\n",
       "75        NaN         NaN          27  Escargots Nouveaux  Montceau   \n",
       "\n",
       "        _merge  \n",
       "75  right_only  "
      ]
     },
     "execution_count": 15,
     "metadata": {},
     "output_type": "execute_result"
    }
   ],
   "source": [
    "prod_and_sup_outer_right_only"
   ]
  },
  {
   "cell_type": "code",
   "execution_count": null,
   "id": "e1ac4738-1457-4cb9-9631-e69e71e333de",
   "metadata": {},
   "outputs": [],
   "source": []
  }
 ],
 "metadata": {
  "kernelspec": {
   "display_name": "Python 3 (ipykernel)",
   "language": "python",
   "name": "python3"
  },
  "language_info": {
   "codemirror_mode": {
    "name": "ipython",
    "version": 3
   },
   "file_extension": ".py",
   "mimetype": "text/x-python",
   "name": "python",
   "nbconvert_exporter": "python",
   "pygments_lexer": "ipython3",
   "version": "3.11.7"
  }
 },
 "nbformat": 4,
 "nbformat_minor": 5
}
