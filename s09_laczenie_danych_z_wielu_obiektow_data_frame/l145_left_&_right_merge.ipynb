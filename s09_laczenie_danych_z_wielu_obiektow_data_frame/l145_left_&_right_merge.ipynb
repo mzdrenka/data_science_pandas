{
 "cells": [
  {
   "cell_type": "markdown",
   "id": "3580da06-48da-48cb-90d0-c0ea10159603",
   "metadata": {},
   "source": [
    "## LAB - S07-L006 - left & right merge\n",
    "\n",
    "1. Zaimportuj moduł pandas i numpy nadaj im standardowe aliasy\n",
    "2. Do zmiennej suppliers zaimportuj zawartość pliku suppliers.csv. Pobierz tylko kolumny\n",
    "SupplierID, CompanyName, City\n",
    "3. Do zmiennej products zaimportuj zawartość pliku products_del_2.csv\". Pobierz tylko\n",
    "kolumny **ProductID, ProductName, SupplierID\n",
    "4. Należy odnaleźć tych dostawców z suppliers, którzy nie dostarczają żadnych produktów.\n",
    "W tym celu wykonuj kolejne kroki\n",
    "5. W zmiennej sup_prod zapisz wynik zwykłego złaczenia suppliers i products w oparciu o\n",
    "kolumnę SupplierID. Skorzystaj z parametru indicator.\n",
    "6. Wyświetl liczbę elementów w suppliers, products i sup_prod. Powinieneś uzyskać\n",
    "wyniki: 29/68/68\n",
    "7. W zmiennej sup_prod_left zapisz wynik złączenia typu left z suppliers do products w\n",
    "oparciu o kolumnę SupplierID. Skorzystaj z prarametru indicator\n",
    "8. Wyświetl liczbę elementów w suppliers, products i sup_prod_left. Powinieneś uzyskać\n",
    "wyniki: 29/68/70. Oznacza to, że \"idąc od suppliers do products\", dla 2 dostawców nie\n",
    "udało się znaleźć żadnych produktów, które byłyby przez nich dostarczane.\n",
    "9. Wyświetl te wiersze z sup_prod_left, które w kolumnie \"merged posiadają wartość\n",
    "left_only\n",
    "10. Jeżeli chcesz tak przekształć operacje 7-9, aby to samo zadanie zrealizować korzystając\n",
    "z right merge"
   ]
  },
  {
   "cell_type": "code",
   "execution_count": 1,
   "id": "b3792faf-3cef-46fe-9eeb-6862ef4bb0bd",
   "metadata": {},
   "outputs": [],
   "source": [
    "import pandas as pd\n",
    "import numpy as np\n"
   ]
  },
  {
   "cell_type": "code",
   "execution_count": 8,
   "id": "6f33b83c-75ae-40ee-96bf-cacb53492d87",
   "metadata": {},
   "outputs": [],
   "source": [
    "suppliers = pd.read_csv('../zasoby/nw/suppliers.csv', usecols=['SupplierID', 'CompanyName', 'City'])\n",
    "products = pd.read_csv('../zasoby/nw/products_del_2.csv', usecols=['ProductID', 'ProductName', 'SupplierID'])"
   ]
  },
  {
   "cell_type": "code",
   "execution_count": 10,
   "id": "99607c51-ad1b-4b0e-932d-99e72fea5b99",
   "metadata": {},
   "outputs": [
    {
     "data": {
      "text/html": [
       "<div>\n",
       "<style scoped>\n",
       "    .dataframe tbody tr th:only-of-type {\n",
       "        vertical-align: middle;\n",
       "    }\n",
       "\n",
       "    .dataframe tbody tr th {\n",
       "        vertical-align: top;\n",
       "    }\n",
       "\n",
       "    .dataframe thead th {\n",
       "        text-align: right;\n",
       "    }\n",
       "</style>\n",
       "<table border=\"1\" class=\"dataframe\">\n",
       "  <thead>\n",
       "    <tr style=\"text-align: right;\">\n",
       "      <th></th>\n",
       "      <th>SupplierID</th>\n",
       "      <th>CompanyName</th>\n",
       "      <th>City</th>\n",
       "    </tr>\n",
       "  </thead>\n",
       "  <tbody>\n",
       "    <tr>\n",
       "      <th>0</th>\n",
       "      <td>1</td>\n",
       "      <td>Exotic Liquids</td>\n",
       "      <td>London</td>\n",
       "    </tr>\n",
       "    <tr>\n",
       "      <th>1</th>\n",
       "      <td>2</td>\n",
       "      <td>New Orleans Cajun Delights</td>\n",
       "      <td>New Orleans</td>\n",
       "    </tr>\n",
       "    <tr>\n",
       "      <th>2</th>\n",
       "      <td>3</td>\n",
       "      <td>Grandma Kelly's Homestead</td>\n",
       "      <td>Ann Arbor</td>\n",
       "    </tr>\n",
       "    <tr>\n",
       "      <th>3</th>\n",
       "      <td>4</td>\n",
       "      <td>Tokyo Traders</td>\n",
       "      <td>Tokyo</td>\n",
       "    </tr>\n",
       "    <tr>\n",
       "      <th>4</th>\n",
       "      <td>5</td>\n",
       "      <td>Cooperativa de Quesos 'Las Cabras'</td>\n",
       "      <td>Oviedo</td>\n",
       "    </tr>\n",
       "  </tbody>\n",
       "</table>\n",
       "</div>"
      ],
      "text/plain": [
       "   SupplierID                         CompanyName         City\n",
       "0           1                      Exotic Liquids       London\n",
       "1           2          New Orleans Cajun Delights  New Orleans\n",
       "2           3           Grandma Kelly's Homestead    Ann Arbor\n",
       "3           4                       Tokyo Traders        Tokyo\n",
       "4           5  Cooperativa de Quesos 'Las Cabras'       Oviedo"
      ]
     },
     "execution_count": 10,
     "metadata": {},
     "output_type": "execute_result"
    }
   ],
   "source": [
    "suppliers.head()"
   ]
  },
  {
   "cell_type": "code",
   "execution_count": 11,
   "id": "84721ab6-c125-422c-8278-e568d2b7a6b8",
   "metadata": {},
   "outputs": [
    {
     "data": {
      "text/html": [
       "<div>\n",
       "<style scoped>\n",
       "    .dataframe tbody tr th:only-of-type {\n",
       "        vertical-align: middle;\n",
       "    }\n",
       "\n",
       "    .dataframe tbody tr th {\n",
       "        vertical-align: top;\n",
       "    }\n",
       "\n",
       "    .dataframe thead th {\n",
       "        text-align: right;\n",
       "    }\n",
       "</style>\n",
       "<table border=\"1\" class=\"dataframe\">\n",
       "  <thead>\n",
       "    <tr style=\"text-align: right;\">\n",
       "      <th></th>\n",
       "      <th>ProductID</th>\n",
       "      <th>ProductName</th>\n",
       "      <th>SupplierID</th>\n",
       "    </tr>\n",
       "  </thead>\n",
       "  <tbody>\n",
       "    <tr>\n",
       "      <th>0</th>\n",
       "      <td>1</td>\n",
       "      <td>Chai</td>\n",
       "      <td>1</td>\n",
       "    </tr>\n",
       "    <tr>\n",
       "      <th>1</th>\n",
       "      <td>2</td>\n",
       "      <td>Chang</td>\n",
       "      <td>1</td>\n",
       "    </tr>\n",
       "    <tr>\n",
       "      <th>2</th>\n",
       "      <td>6</td>\n",
       "      <td>Grandma's Boysenberry Spread</td>\n",
       "      <td>3</td>\n",
       "    </tr>\n",
       "    <tr>\n",
       "      <th>3</th>\n",
       "      <td>7</td>\n",
       "      <td>Uncle Bob's Organic Dried Pears</td>\n",
       "      <td>3</td>\n",
       "    </tr>\n",
       "    <tr>\n",
       "      <th>4</th>\n",
       "      <td>8</td>\n",
       "      <td>Northwoods Cranberry Sauce</td>\n",
       "      <td>3</td>\n",
       "    </tr>\n",
       "  </tbody>\n",
       "</table>\n",
       "</div>"
      ],
      "text/plain": [
       "   ProductID                      ProductName  SupplierID\n",
       "0          1                             Chai           1\n",
       "1          2                            Chang           1\n",
       "2          6     Grandma's Boysenberry Spread           3\n",
       "3          7  Uncle Bob's Organic Dried Pears           3\n",
       "4          8       Northwoods Cranberry Sauce           3"
      ]
     },
     "execution_count": 11,
     "metadata": {},
     "output_type": "execute_result"
    }
   ],
   "source": [
    "products.head()"
   ]
  },
  {
   "cell_type": "code",
   "execution_count": 13,
   "id": "8533f525-a97f-4437-af00-6a516146c4db",
   "metadata": {},
   "outputs": [],
   "source": [
    "sup_prod = suppliers.merge(products, on='SupplierID', how='inner')"
   ]
  },
  {
   "cell_type": "code",
   "execution_count": 14,
   "id": "4e9f0858-06a4-4daf-bbd8-9b7498fb0d55",
   "metadata": {},
   "outputs": [
    {
     "name": "stdout",
     "output_type": "stream",
     "text": [
      "29\n",
      "68\n",
      "68\n"
     ]
    }
   ],
   "source": [
    "print(len(suppliers))\n",
    "print(len(products))\n",
    "print(len(sup_prod))"
   ]
  },
  {
   "cell_type": "code",
   "execution_count": 15,
   "id": "08914f4b-493a-42c0-99b9-21b72b902990",
   "metadata": {},
   "outputs": [],
   "source": [
    "sup_prod_left = suppliers.merge(products, on='SupplierID', how='left', indicator=True)"
   ]
  },
  {
   "cell_type": "code",
   "execution_count": 16,
   "id": "ddc70cfe-6600-49f8-9833-32eeeda3ec75",
   "metadata": {},
   "outputs": [
    {
     "data": {
      "text/html": [
       "<div>\n",
       "<style scoped>\n",
       "    .dataframe tbody tr th:only-of-type {\n",
       "        vertical-align: middle;\n",
       "    }\n",
       "\n",
       "    .dataframe tbody tr th {\n",
       "        vertical-align: top;\n",
       "    }\n",
       "\n",
       "    .dataframe thead th {\n",
       "        text-align: right;\n",
       "    }\n",
       "</style>\n",
       "<table border=\"1\" class=\"dataframe\">\n",
       "  <thead>\n",
       "    <tr style=\"text-align: right;\">\n",
       "      <th></th>\n",
       "      <th>SupplierID</th>\n",
       "      <th>CompanyName</th>\n",
       "      <th>City</th>\n",
       "      <th>ProductID</th>\n",
       "      <th>ProductName</th>\n",
       "      <th>_merge</th>\n",
       "    </tr>\n",
       "  </thead>\n",
       "  <tbody>\n",
       "    <tr>\n",
       "      <th>0</th>\n",
       "      <td>1</td>\n",
       "      <td>Exotic Liquids</td>\n",
       "      <td>London</td>\n",
       "      <td>1.0</td>\n",
       "      <td>Chai</td>\n",
       "      <td>both</td>\n",
       "    </tr>\n",
       "    <tr>\n",
       "      <th>1</th>\n",
       "      <td>1</td>\n",
       "      <td>Exotic Liquids</td>\n",
       "      <td>London</td>\n",
       "      <td>2.0</td>\n",
       "      <td>Chang</td>\n",
       "      <td>both</td>\n",
       "    </tr>\n",
       "    <tr>\n",
       "      <th>2</th>\n",
       "      <td>2</td>\n",
       "      <td>New Orleans Cajun Delights</td>\n",
       "      <td>New Orleans</td>\n",
       "      <td>NaN</td>\n",
       "      <td>NaN</td>\n",
       "      <td>left_only</td>\n",
       "    </tr>\n",
       "    <tr>\n",
       "      <th>3</th>\n",
       "      <td>3</td>\n",
       "      <td>Grandma Kelly's Homestead</td>\n",
       "      <td>Ann Arbor</td>\n",
       "      <td>6.0</td>\n",
       "      <td>Grandma's Boysenberry Spread</td>\n",
       "      <td>both</td>\n",
       "    </tr>\n",
       "    <tr>\n",
       "      <th>4</th>\n",
       "      <td>3</td>\n",
       "      <td>Grandma Kelly's Homestead</td>\n",
       "      <td>Ann Arbor</td>\n",
       "      <td>7.0</td>\n",
       "      <td>Uncle Bob's Organic Dried Pears</td>\n",
       "      <td>both</td>\n",
       "    </tr>\n",
       "  </tbody>\n",
       "</table>\n",
       "</div>"
      ],
      "text/plain": [
       "   SupplierID                 CompanyName         City  ProductID  \\\n",
       "0           1              Exotic Liquids       London        1.0   \n",
       "1           1              Exotic Liquids       London        2.0   \n",
       "2           2  New Orleans Cajun Delights  New Orleans        NaN   \n",
       "3           3   Grandma Kelly's Homestead    Ann Arbor        6.0   \n",
       "4           3   Grandma Kelly's Homestead    Ann Arbor        7.0   \n",
       "\n",
       "                       ProductName     _merge  \n",
       "0                             Chai       both  \n",
       "1                            Chang       both  \n",
       "2                              NaN  left_only  \n",
       "3     Grandma's Boysenberry Spread       both  \n",
       "4  Uncle Bob's Organic Dried Pears       both  "
      ]
     },
     "execution_count": 16,
     "metadata": {},
     "output_type": "execute_result"
    }
   ],
   "source": [
    "sup_prod_left.head()"
   ]
  },
  {
   "cell_type": "code",
   "execution_count": 17,
   "id": "903e09f6-c9b3-405d-9fec-599e60441652",
   "metadata": {},
   "outputs": [
    {
     "name": "stdout",
     "output_type": "stream",
     "text": [
      "29\n",
      "68\n",
      "70\n"
     ]
    }
   ],
   "source": [
    "print(len(suppliers))\n",
    "print(len(products))\n",
    "print(len(sup_prod_left))"
   ]
  },
  {
   "cell_type": "code",
   "execution_count": 18,
   "id": "35a52456-49a1-4117-b6df-5102a290c5ab",
   "metadata": {},
   "outputs": [
    {
     "data": {
      "text/html": [
       "<div>\n",
       "<style scoped>\n",
       "    .dataframe tbody tr th:only-of-type {\n",
       "        vertical-align: middle;\n",
       "    }\n",
       "\n",
       "    .dataframe tbody tr th {\n",
       "        vertical-align: top;\n",
       "    }\n",
       "\n",
       "    .dataframe thead th {\n",
       "        text-align: right;\n",
       "    }\n",
       "</style>\n",
       "<table border=\"1\" class=\"dataframe\">\n",
       "  <thead>\n",
       "    <tr style=\"text-align: right;\">\n",
       "      <th></th>\n",
       "      <th>SupplierID</th>\n",
       "      <th>CompanyName</th>\n",
       "      <th>City</th>\n",
       "      <th>ProductID</th>\n",
       "      <th>ProductName</th>\n",
       "      <th>_merge</th>\n",
       "    </tr>\n",
       "  </thead>\n",
       "  <tbody>\n",
       "    <tr>\n",
       "      <th>2</th>\n",
       "      <td>2</td>\n",
       "      <td>New Orleans Cajun Delights</td>\n",
       "      <td>New Orleans</td>\n",
       "      <td>NaN</td>\n",
       "      <td>NaN</td>\n",
       "      <td>left_only</td>\n",
       "    </tr>\n",
       "    <tr>\n",
       "      <th>67</th>\n",
       "      <td>27</td>\n",
       "      <td>Escargots Nouveaux</td>\n",
       "      <td>Montceau</td>\n",
       "      <td>NaN</td>\n",
       "      <td>NaN</td>\n",
       "      <td>left_only</td>\n",
       "    </tr>\n",
       "  </tbody>\n",
       "</table>\n",
       "</div>"
      ],
      "text/plain": [
       "    SupplierID                 CompanyName         City  ProductID  \\\n",
       "2            2  New Orleans Cajun Delights  New Orleans        NaN   \n",
       "67          27          Escargots Nouveaux     Montceau        NaN   \n",
       "\n",
       "   ProductName     _merge  \n",
       "2          NaN  left_only  \n",
       "67         NaN  left_only  "
      ]
     },
     "execution_count": 18,
     "metadata": {},
     "output_type": "execute_result"
    }
   ],
   "source": [
    "sup_prod_left.loc[sup_prod_left['_merge'] == 'left_only']"
   ]
  },
  {
   "cell_type": "code",
   "execution_count": 19,
   "id": "5d480999-8def-4003-87e8-6ca32414f4eb",
   "metadata": {},
   "outputs": [],
   "source": [
    "sup_prod_right = suppliers.merge(products, on='SupplierID', how='right', indicator=True)"
   ]
  },
  {
   "cell_type": "code",
   "execution_count": 20,
   "id": "0d9953e4-6798-49b1-9814-91f06c1589ef",
   "metadata": {},
   "outputs": [
    {
     "name": "stdout",
     "output_type": "stream",
     "text": [
      "29\n",
      "68\n",
      "68\n"
     ]
    }
   ],
   "source": [
    "print(len(suppliers))\n",
    "print(len(products))\n",
    "print(len(sup_prod_right))"
   ]
  },
  {
   "cell_type": "code",
   "execution_count": 21,
   "id": "3d6c7ae5-cb55-499c-9757-6aa9cb8f4ba7",
   "metadata": {},
   "outputs": [
    {
     "data": {
      "text/html": [
       "<div>\n",
       "<style scoped>\n",
       "    .dataframe tbody tr th:only-of-type {\n",
       "        vertical-align: middle;\n",
       "    }\n",
       "\n",
       "    .dataframe tbody tr th {\n",
       "        vertical-align: top;\n",
       "    }\n",
       "\n",
       "    .dataframe thead th {\n",
       "        text-align: right;\n",
       "    }\n",
       "</style>\n",
       "<table border=\"1\" class=\"dataframe\">\n",
       "  <thead>\n",
       "    <tr style=\"text-align: right;\">\n",
       "      <th></th>\n",
       "      <th>SupplierID</th>\n",
       "      <th>CompanyName</th>\n",
       "      <th>City</th>\n",
       "      <th>ProductID</th>\n",
       "      <th>ProductName</th>\n",
       "      <th>_merge</th>\n",
       "    </tr>\n",
       "  </thead>\n",
       "  <tbody>\n",
       "  </tbody>\n",
       "</table>\n",
       "</div>"
      ],
      "text/plain": [
       "Empty DataFrame\n",
       "Columns: [SupplierID, CompanyName, City, ProductID, ProductName, _merge]\n",
       "Index: []"
      ]
     },
     "execution_count": 21,
     "metadata": {},
     "output_type": "execute_result"
    }
   ],
   "source": [
    "sup_prod_right.loc[sup_prod_right['_merge'] == 'right_only']"
   ]
  },
  {
   "cell_type": "code",
   "execution_count": null,
   "id": "4818a1c3-fc7f-41f2-a9f4-01d1c142c5dc",
   "metadata": {},
   "outputs": [],
   "source": []
  }
 ],
 "metadata": {
  "kernelspec": {
   "display_name": "Python 3 (ipykernel)",
   "language": "python",
   "name": "python3"
  },
  "language_info": {
   "codemirror_mode": {
    "name": "ipython",
    "version": 3
   },
   "file_extension": ".py",
   "mimetype": "text/x-python",
   "name": "python",
   "nbconvert_exporter": "python",
   "pygments_lexer": "ipython3",
   "version": "3.11.7"
  }
 },
 "nbformat": 4,
 "nbformat_minor": 5
}
