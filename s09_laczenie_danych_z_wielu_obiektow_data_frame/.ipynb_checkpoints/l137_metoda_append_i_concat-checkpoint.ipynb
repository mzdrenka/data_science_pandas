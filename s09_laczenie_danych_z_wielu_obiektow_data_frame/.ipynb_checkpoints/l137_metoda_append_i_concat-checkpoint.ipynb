{
 "cells": [
  {
   "cell_type": "markdown",
   "id": "96d79c6e-c180-44df-b3b8-3824cfc6d310",
   "metadata": {},
   "source": [
    "## LAB - S07-L002 - metody append i concat\n",
    "\n",
    "1. Zaimportuj moduł pandas i numpy nadaj im standardowe aliasy\n",
    "2. Do zmiennej mrbean zaimportuj zawartość pliku mrbean_facebook_statuses_join.csv. Pobierz tylko kolumny 'status_message_mrbean','status_type','num_likes'. To dane dotyczące statusów Jasia Fasoli (może znasz z TV ;))\n",
    "3. Do zmiennej nasa zaimportuj zawartość pliku nasa_facebook_statuses_join.csv. Pobierz tylko kolumny 'status_message_nasa','status_type','num_likes'. To dane dotyczące statusów NASA\n",
    "4. Wyświetl nagłówki obu zmiennych\n",
    "5. Do zmiennej fb zapisz wynik komendy append, która połączy dane z mrbean i z nasa (łącząc dane w tym i następnych poleceniach korzystaj z parametru sort=True)\n",
    "6. Wyświetl początkowe i ostatnie wiersze fb. Zwróć uwagę na kolumny status_message_mrbean i status_message_nasa\n",
    "7. Wyświetl wiersze fb, które mają indeks 0. (Powinieneś zobaczyć 2 wiersze)\n",
    "8. Zmień polecenie z kroku 5, tak aby obiekt fb miał wygenerowany nowy indeks\n",
    "9. Wyświetl wiersze fb, które mają indeks 0. Teraz powinien się znaleźć tylko jeden wiersz o indeksie 0\n",
    "10. Zmień nazwę kolumny status_message_mrbean w data frame mrbean na status_message. Podobnie w data frame nasa zmień nazwę kolumny status_message_nasa na status_message.\n",
    "11. Wykonaj ponownie połaczenie z kroku 8. Potem wyświetl zmienną fb. Zauważ, że istnieje już tylko jedna kolumna z status_message.\n",
    "12. Zmień poprzednie polecenie tak, aby korzystało z polecenia concat zamiast append"
   ]
  },
  {
   "cell_type": "code",
   "execution_count": 1,
   "id": "3f4b5091-cf6b-4da8-8a4f-384daa1aeeae",
   "metadata": {},
   "outputs": [],
   "source": [
    "import pandas as pd\n",
    "import numpy as np"
   ]
  },
  {
   "cell_type": "code",
   "execution_count": 2,
   "id": "20dfbfc2-8490-4c85-b300-b72c0e28993e",
   "metadata": {},
   "outputs": [],
   "source": [
    "mrbean = pd.read_csv('../zasoby/mrbean_facebook_statuses_join.csv', usecols=['status_message_mrbean','status_type','num_likes'])"
   ]
  },
  {
   "cell_type": "code",
   "execution_count": 4,
   "id": "5752e2c7-1905-42b6-b802-8835581d284f",
   "metadata": {},
   "outputs": [],
   "source": [
    "nasa = pd.read_csv('../zasoby/nasa_facebook_statuses_join.csv', usecols=['status_message_nasa','status_type','num_likes'])"
   ]
  },
  {
   "cell_type": "code",
   "execution_count": 5,
   "id": "ed4fea78-acc4-47d0-a582-4145cbc20904",
   "metadata": {},
   "outputs": [
    {
     "data": {
      "text/html": [
       "<div>\n",
       "<style scoped>\n",
       "    .dataframe tbody tr th:only-of-type {\n",
       "        vertical-align: middle;\n",
       "    }\n",
       "\n",
       "    .dataframe tbody tr th {\n",
       "        vertical-align: top;\n",
       "    }\n",
       "\n",
       "    .dataframe thead th {\n",
       "        text-align: right;\n",
       "    }\n",
       "</style>\n",
       "<table border=\"1\" class=\"dataframe\">\n",
       "  <thead>\n",
       "    <tr style=\"text-align: right;\">\n",
       "      <th></th>\n",
       "      <th>status_message_mrbean</th>\n",
       "      <th>status_type</th>\n",
       "      <th>num_likes</th>\n",
       "    </tr>\n",
       "  </thead>\n",
       "  <tbody>\n",
       "    <tr>\n",
       "      <th>0</th>\n",
       "      <td>It's time for Mr Bean and Teddy to get ready f...</td>\n",
       "      <td>video</td>\n",
       "      <td>16079</td>\n",
       "    </tr>\n",
       "    <tr>\n",
       "      <th>1</th>\n",
       "      <td>NaN</td>\n",
       "      <td>photo</td>\n",
       "      <td>114008</td>\n",
       "    </tr>\n",
       "    <tr>\n",
       "      <th>2</th>\n",
       "      <td>NaN</td>\n",
       "      <td>photo</td>\n",
       "      <td>218579</td>\n",
       "    </tr>\n",
       "    <tr>\n",
       "      <th>3</th>\n",
       "      <td>Mr Bean is ready to do some shopping but bewar...</td>\n",
       "      <td>video</td>\n",
       "      <td>20338</td>\n",
       "    </tr>\n",
       "    <tr>\n",
       "      <th>4</th>\n",
       "      <td>NaN</td>\n",
       "      <td>photo</td>\n",
       "      <td>215591</td>\n",
       "    </tr>\n",
       "  </tbody>\n",
       "</table>\n",
       "</div>"
      ],
      "text/plain": [
       "                               status_message_mrbean status_type  num_likes\n",
       "0  It's time for Mr Bean and Teddy to get ready f...       video      16079\n",
       "1                                                NaN       photo     114008\n",
       "2                                                NaN       photo     218579\n",
       "3  Mr Bean is ready to do some shopping but bewar...       video      20338\n",
       "4                                                NaN       photo     215591"
      ]
     },
     "execution_count": 5,
     "metadata": {},
     "output_type": "execute_result"
    }
   ],
   "source": [
    "mrbean.head()"
   ]
  },
  {
   "cell_type": "code",
   "execution_count": 6,
   "id": "33a2a4bc-2aec-45d7-864f-43eb68cc4d9e",
   "metadata": {},
   "outputs": [
    {
     "data": {
      "text/html": [
       "<div>\n",
       "<style scoped>\n",
       "    .dataframe tbody tr th:only-of-type {\n",
       "        vertical-align: middle;\n",
       "    }\n",
       "\n",
       "    .dataframe tbody tr th {\n",
       "        vertical-align: top;\n",
       "    }\n",
       "\n",
       "    .dataframe thead th {\n",
       "        text-align: right;\n",
       "    }\n",
       "</style>\n",
       "<table border=\"1\" class=\"dataframe\">\n",
       "  <thead>\n",
       "    <tr style=\"text-align: right;\">\n",
       "      <th></th>\n",
       "      <th>status_message_nasa</th>\n",
       "      <th>status_type</th>\n",
       "      <th>num_likes</th>\n",
       "    </tr>\n",
       "  </thead>\n",
       "  <tbody>\n",
       "    <tr>\n",
       "      <th>0</th>\n",
       "      <td>This morning, the #RockOn mission with student...</td>\n",
       "      <td>photo</td>\n",
       "      <td>5142</td>\n",
       "    </tr>\n",
       "    <tr>\n",
       "      <th>1</th>\n",
       "      <td>Pluto's largest moon, Charon, is home to an un...</td>\n",
       "      <td>photo</td>\n",
       "      <td>19074</td>\n",
       "    </tr>\n",
       "    <tr>\n",
       "      <th>2</th>\n",
       "      <td>Our Restore-L mission is an endeavor to launch...</td>\n",
       "      <td>photo</td>\n",
       "      <td>7551</td>\n",
       "    </tr>\n",
       "    <tr>\n",
       "      <th>3</th>\n",
       "      <td>A new dark vortex was discovered in the atmosp...</td>\n",
       "      <td>photo</td>\n",
       "      <td>24359</td>\n",
       "    </tr>\n",
       "    <tr>\n",
       "      <th>4</th>\n",
       "      <td>NaN</td>\n",
       "      <td>video</td>\n",
       "      <td>2731</td>\n",
       "    </tr>\n",
       "  </tbody>\n",
       "</table>\n",
       "</div>"
      ],
      "text/plain": [
       "                                 status_message_nasa status_type  num_likes\n",
       "0  This morning, the #RockOn mission with student...       photo       5142\n",
       "1  Pluto's largest moon, Charon, is home to an un...       photo      19074\n",
       "2  Our Restore-L mission is an endeavor to launch...       photo       7551\n",
       "3  A new dark vortex was discovered in the atmosp...       photo      24359\n",
       "4                                                NaN       video       2731"
      ]
     },
     "execution_count": 6,
     "metadata": {},
     "output_type": "execute_result"
    }
   ],
   "source": [
    "nasa.head()"
   ]
  },
  {
   "cell_type": "code",
   "execution_count": 8,
   "id": "ba40265a-8619-4a36-996c-234dc6ba5754",
   "metadata": {},
   "outputs": [],
   "source": [
    "fb = pd.concat(objs=[mrbean, nasa], sort=True)"
   ]
  },
  {
   "cell_type": "code",
   "execution_count": 9,
   "id": "ee166200-2ef4-4f51-ab31-c2e69f5f22d0",
   "metadata": {},
   "outputs": [
    {
     "data": {
      "text/html": [
       "<div>\n",
       "<style scoped>\n",
       "    .dataframe tbody tr th:only-of-type {\n",
       "        vertical-align: middle;\n",
       "    }\n",
       "\n",
       "    .dataframe tbody tr th {\n",
       "        vertical-align: top;\n",
       "    }\n",
       "\n",
       "    .dataframe thead th {\n",
       "        text-align: right;\n",
       "    }\n",
       "</style>\n",
       "<table border=\"1\" class=\"dataframe\">\n",
       "  <thead>\n",
       "    <tr style=\"text-align: right;\">\n",
       "      <th></th>\n",
       "      <th>status_message_mrbean</th>\n",
       "      <th>status_type</th>\n",
       "      <th>num_likes</th>\n",
       "      <th>status_message_nasa</th>\n",
       "    </tr>\n",
       "  </thead>\n",
       "  <tbody>\n",
       "    <tr>\n",
       "      <th>0</th>\n",
       "      <td>It's time for Mr Bean and Teddy to get ready f...</td>\n",
       "      <td>video</td>\n",
       "      <td>16079</td>\n",
       "      <td>NaN</td>\n",
       "    </tr>\n",
       "    <tr>\n",
       "      <th>1</th>\n",
       "      <td>NaN</td>\n",
       "      <td>photo</td>\n",
       "      <td>114008</td>\n",
       "      <td>NaN</td>\n",
       "    </tr>\n",
       "    <tr>\n",
       "      <th>2</th>\n",
       "      <td>NaN</td>\n",
       "      <td>photo</td>\n",
       "      <td>218579</td>\n",
       "      <td>NaN</td>\n",
       "    </tr>\n",
       "    <tr>\n",
       "      <th>3</th>\n",
       "      <td>Mr Bean is ready to do some shopping but bewar...</td>\n",
       "      <td>video</td>\n",
       "      <td>20338</td>\n",
       "      <td>NaN</td>\n",
       "    </tr>\n",
       "    <tr>\n",
       "      <th>4</th>\n",
       "      <td>NaN</td>\n",
       "      <td>photo</td>\n",
       "      <td>215591</td>\n",
       "      <td>NaN</td>\n",
       "    </tr>\n",
       "  </tbody>\n",
       "</table>\n",
       "</div>"
      ],
      "text/plain": [
       "                               status_message_mrbean status_type  num_likes  \\\n",
       "0  It's time for Mr Bean and Teddy to get ready f...       video      16079   \n",
       "1                                                NaN       photo     114008   \n",
       "2                                                NaN       photo     218579   \n",
       "3  Mr Bean is ready to do some shopping but bewar...       video      20338   \n",
       "4                                                NaN       photo     215591   \n",
       "\n",
       "  status_message_nasa  \n",
       "0                 NaN  \n",
       "1                 NaN  \n",
       "2                 NaN  \n",
       "3                 NaN  \n",
       "4                 NaN  "
      ]
     },
     "execution_count": 9,
     "metadata": {},
     "output_type": "execute_result"
    }
   ],
   "source": [
    "fb.head()"
   ]
  },
  {
   "cell_type": "code",
   "execution_count": 11,
   "id": "b4f8a8b3-72dd-44b2-a90a-940e02c71856",
   "metadata": {},
   "outputs": [
    {
     "data": {
      "text/html": [
       "<div>\n",
       "<style scoped>\n",
       "    .dataframe tbody tr th:only-of-type {\n",
       "        vertical-align: middle;\n",
       "    }\n",
       "\n",
       "    .dataframe tbody tr th {\n",
       "        vertical-align: top;\n",
       "    }\n",
       "\n",
       "    .dataframe thead th {\n",
       "        text-align: right;\n",
       "    }\n",
       "</style>\n",
       "<table border=\"1\" class=\"dataframe\">\n",
       "  <thead>\n",
       "    <tr style=\"text-align: right;\">\n",
       "      <th></th>\n",
       "      <th>status_message_mrbean</th>\n",
       "      <th>status_type</th>\n",
       "      <th>num_likes</th>\n",
       "      <th>status_message_nasa</th>\n",
       "    </tr>\n",
       "  </thead>\n",
       "  <tbody>\n",
       "    <tr>\n",
       "      <th>758</th>\n",
       "      <td>NaN</td>\n",
       "      <td>photo</td>\n",
       "      <td>39355</td>\n",
       "      <td>You've never seen Pluto like this before! New ...</td>\n",
       "    </tr>\n",
       "    <tr>\n",
       "      <th>759</th>\n",
       "      <td>NaN</td>\n",
       "      <td>photo</td>\n",
       "      <td>11835</td>\n",
       "      <td>Our cooperative field study in East Asia advan...</td>\n",
       "    </tr>\n",
       "    <tr>\n",
       "      <th>760</th>\n",
       "      <td>NaN</td>\n",
       "      <td>photo</td>\n",
       "      <td>15567</td>\n",
       "      <td>After spending a #YearInSpace, astronaut Scott...</td>\n",
       "    </tr>\n",
       "    <tr>\n",
       "      <th>761</th>\n",
       "      <td>NaN</td>\n",
       "      <td>photo</td>\n",
       "      <td>41584</td>\n",
       "      <td>Gravitational waves, predicted by Einstein and...</td>\n",
       "    </tr>\n",
       "    <tr>\n",
       "      <th>762</th>\n",
       "      <td>NaN</td>\n",
       "      <td>photo</td>\n",
       "      <td>12793</td>\n",
       "      <td>Have you ever used a GPS to help you get somew...</td>\n",
       "    </tr>\n",
       "  </tbody>\n",
       "</table>\n",
       "</div>"
      ],
      "text/plain": [
       "    status_message_mrbean status_type  num_likes  \\\n",
       "758                   NaN       photo      39355   \n",
       "759                   NaN       photo      11835   \n",
       "760                   NaN       photo      15567   \n",
       "761                   NaN       photo      41584   \n",
       "762                   NaN       photo      12793   \n",
       "\n",
       "                                   status_message_nasa  \n",
       "758  You've never seen Pluto like this before! New ...  \n",
       "759  Our cooperative field study in East Asia advan...  \n",
       "760  After spending a #YearInSpace, astronaut Scott...  \n",
       "761  Gravitational waves, predicted by Einstein and...  \n",
       "762  Have you ever used a GPS to help you get somew...  "
      ]
     },
     "execution_count": 11,
     "metadata": {},
     "output_type": "execute_result"
    }
   ],
   "source": [
    "fb.tail()"
   ]
  },
  {
   "cell_type": "code",
   "execution_count": 12,
   "id": "9a24aba4-a201-4352-8893-d80f2ee72419",
   "metadata": {},
   "outputs": [
    {
     "data": {
      "text/html": [
       "<div>\n",
       "<style scoped>\n",
       "    .dataframe tbody tr th:only-of-type {\n",
       "        vertical-align: middle;\n",
       "    }\n",
       "\n",
       "    .dataframe tbody tr th {\n",
       "        vertical-align: top;\n",
       "    }\n",
       "\n",
       "    .dataframe thead th {\n",
       "        text-align: right;\n",
       "    }\n",
       "</style>\n",
       "<table border=\"1\" class=\"dataframe\">\n",
       "  <thead>\n",
       "    <tr style=\"text-align: right;\">\n",
       "      <th></th>\n",
       "      <th>status_message_mrbean</th>\n",
       "      <th>status_type</th>\n",
       "      <th>num_likes</th>\n",
       "      <th>status_message_nasa</th>\n",
       "    </tr>\n",
       "  </thead>\n",
       "  <tbody>\n",
       "    <tr>\n",
       "      <th>0</th>\n",
       "      <td>It's time for Mr Bean and Teddy to get ready f...</td>\n",
       "      <td>video</td>\n",
       "      <td>16079</td>\n",
       "      <td>NaN</td>\n",
       "    </tr>\n",
       "    <tr>\n",
       "      <th>0</th>\n",
       "      <td>NaN</td>\n",
       "      <td>photo</td>\n",
       "      <td>5142</td>\n",
       "      <td>This morning, the #RockOn mission with student...</td>\n",
       "    </tr>\n",
       "  </tbody>\n",
       "</table>\n",
       "</div>"
      ],
      "text/plain": [
       "                               status_message_mrbean status_type  num_likes  \\\n",
       "0  It's time for Mr Bean and Teddy to get ready f...       video      16079   \n",
       "0                                                NaN       photo       5142   \n",
       "\n",
       "                                 status_message_nasa  \n",
       "0                                                NaN  \n",
       "0  This morning, the #RockOn mission with student...  "
      ]
     },
     "execution_count": 12,
     "metadata": {},
     "output_type": "execute_result"
    }
   ],
   "source": [
    "fb.loc[0]"
   ]
  },
  {
   "cell_type": "code",
   "execution_count": 13,
   "id": "27e6db91-c298-4a2c-b18a-6339bf91badf",
   "metadata": {},
   "outputs": [],
   "source": [
    "fb = pd.concat(objs=[mrbean, nasa], sort=True, ignore_index=True)"
   ]
  },
  {
   "cell_type": "code",
   "execution_count": 14,
   "id": "48fce215-1b4b-4e3a-808c-c765858bb6c5",
   "metadata": {},
   "outputs": [
    {
     "data": {
      "text/plain": [
       "num_likes                                                            16079\n",
       "status_message_mrbean    It's time for Mr Bean and Teddy to get ready f...\n",
       "status_message_nasa                                                    NaN\n",
       "status_type                                                          video\n",
       "Name: 0, dtype: object"
      ]
     },
     "execution_count": 14,
     "metadata": {},
     "output_type": "execute_result"
    }
   ],
   "source": [
    "fb.loc[0]"
   ]
  },
  {
   "cell_type": "code",
   "execution_count": 15,
   "id": "ba8f2f9e-3bff-42ef-b6b5-4421f1d79111",
   "metadata": {},
   "outputs": [],
   "source": [
    "mrbean.rename(columns={\"status_message_mrbean\": \"status_message\"}, inplace=True)"
   ]
  },
  {
   "cell_type": "code",
   "execution_count": 16,
   "id": "c032fdb2-4dc0-4ca5-b165-57b026b5c503",
   "metadata": {},
   "outputs": [],
   "source": [
    "nasa.rename(columns={\"status_message_nasa\": \"status_message\"}, inplace=True)"
   ]
  },
  {
   "cell_type": "code",
   "execution_count": 17,
   "id": "94f7028f-b0ea-470d-8b12-09dc4cbc1aff",
   "metadata": {},
   "outputs": [],
   "source": [
    "fb = pd.concat(objs=[mrbean, nasa], ignore_index=True, sort=True)"
   ]
  },
  {
   "cell_type": "code",
   "execution_count": 18,
   "id": "866a76ad-9e37-4190-8a73-ec96d5f1e749",
   "metadata": {},
   "outputs": [
    {
     "data": {
      "text/html": [
       "<div>\n",
       "<style scoped>\n",
       "    .dataframe tbody tr th:only-of-type {\n",
       "        vertical-align: middle;\n",
       "    }\n",
       "\n",
       "    .dataframe tbody tr th {\n",
       "        vertical-align: top;\n",
       "    }\n",
       "\n",
       "    .dataframe thead th {\n",
       "        text-align: right;\n",
       "    }\n",
       "</style>\n",
       "<table border=\"1\" class=\"dataframe\">\n",
       "  <thead>\n",
       "    <tr style=\"text-align: right;\">\n",
       "      <th></th>\n",
       "      <th>num_likes</th>\n",
       "      <th>status_message</th>\n",
       "      <th>status_type</th>\n",
       "    </tr>\n",
       "  </thead>\n",
       "  <tbody>\n",
       "    <tr>\n",
       "      <th>0</th>\n",
       "      <td>16079</td>\n",
       "      <td>It's time for Mr Bean and Teddy to get ready f...</td>\n",
       "      <td>video</td>\n",
       "    </tr>\n",
       "    <tr>\n",
       "      <th>1</th>\n",
       "      <td>114008</td>\n",
       "      <td>NaN</td>\n",
       "      <td>photo</td>\n",
       "    </tr>\n",
       "    <tr>\n",
       "      <th>2</th>\n",
       "      <td>218579</td>\n",
       "      <td>NaN</td>\n",
       "      <td>photo</td>\n",
       "    </tr>\n",
       "    <tr>\n",
       "      <th>3</th>\n",
       "      <td>20338</td>\n",
       "      <td>Mr Bean is ready to do some shopping but bewar...</td>\n",
       "      <td>video</td>\n",
       "    </tr>\n",
       "    <tr>\n",
       "      <th>4</th>\n",
       "      <td>215591</td>\n",
       "      <td>NaN</td>\n",
       "      <td>photo</td>\n",
       "    </tr>\n",
       "  </tbody>\n",
       "</table>\n",
       "</div>"
      ],
      "text/plain": [
       "   num_likes                                     status_message status_type\n",
       "0      16079  It's time for Mr Bean and Teddy to get ready f...       video\n",
       "1     114008                                                NaN       photo\n",
       "2     218579                                                NaN       photo\n",
       "3      20338  Mr Bean is ready to do some shopping but bewar...       video\n",
       "4     215591                                                NaN       photo"
      ]
     },
     "execution_count": 18,
     "metadata": {},
     "output_type": "execute_result"
    }
   ],
   "source": [
    "fb.head()"
   ]
  }
 ],
 "metadata": {
  "kernelspec": {
   "display_name": "Python 3 (ipykernel)",
   "language": "python",
   "name": "python3"
  },
  "language_info": {
   "codemirror_mode": {
    "name": "ipython",
    "version": 3
   },
   "file_extension": ".py",
   "mimetype": "text/x-python",
   "name": "python",
   "nbconvert_exporter": "python",
   "pygments_lexer": "ipython3",
   "version": "3.11.7"
  }
 },
 "nbformat": 4,
 "nbformat_minor": 5
}
