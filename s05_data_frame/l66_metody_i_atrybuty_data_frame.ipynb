{
 "cells": [
  {
   "cell_type": "markdown",
   "id": "ad297558-45eb-473b-8dd6-2561c61eafdc",
   "metadata": {},
   "source": [
    "## LAB - S03-L002 - Metody i atrybuty Data Frame\n",
    "\n",
    "1. Zaimportuj moduł pandas i nadaj mu standardowy alias. Do zmiennej fuel wczytaj zawartość pliku fuel.csv.Podczas wczytywania skorzystaj z dodatkowego argumentu low_memory=False, pobierz tylko następującekolumny: 'Vehicle ID','Year','Make','Model','Class','Fuel Type','Combined MPG (FT1)'. Wyświetl nagłówek tak utworzonego Data Frame\n",
    "2. Wyświetl podstawowe informacje o obiekcie korzystając z metody info()\n",
    "3. Wyświetl informację o typach każdej z poszczególnych kolumn\n",
    "4. Ile razy jest wykorzystywany każdy z typów? Odpowiadając na pytanie skorzystaj z dedykowanej do tego funkcji.\n",
    "5. Kolumna 'Make' zawiera informację o producentach samochodów. Wyświetl 10 producentów wraz z informacją o ilości samochodów tego producenta opisanych w obiekcie frame. Skorzystaj z dedykowanej dotego celu medody serii danych.\n",
    "6. Wyświetl informacje o indeksie obiektu fuel\n",
    "7. Wyświetl informacje o kolumnach obiektu fuel\n",
    "8. Wyświetl informacje o wartościach obiektu fuel\n",
    "9. Wyświetl informacje o \"osiach\" obiektu fuel\n",
    "10. Wyświetl informacje o \"kształcie\" obiektu fuel - ile ma wierszy i ile kolumn\n",
    "11. Porównaj co zwraca metoda count wywołana na rzecz frame, a...\n",
    "12. co zwraca funkcja len"
   ]
  },
  {
   "cell_type": "code",
   "execution_count": 2,
   "id": "7c44cad6-81dc-4898-84ca-48bdfa9f2512",
   "metadata": {},
   "outputs": [],
   "source": [
    "import pandas as pd"
   ]
  },
  {
   "cell_type": "code",
   "execution_count": 4,
   "id": "4edbf0ff-d2c5-4284-aa05-38b15e7ce396",
   "metadata": {},
   "outputs": [],
   "source": [
    "fuel = pd.read_csv('../zasoby/fuel.csv', low_memory=False, usecols=['Vehicle ID','Year','Make','Model','Class','Fuel Type','Combined MPG (FT1)'])"
   ]
  },
  {
   "cell_type": "code",
   "execution_count": 6,
   "id": "26f62108-8a81-4e51-96f7-dbbaa14761a6",
   "metadata": {},
   "outputs": [
    {
     "data": {
      "text/html": [
       "<div>\n",
       "<style scoped>\n",
       "    .dataframe tbody tr th:only-of-type {\n",
       "        vertical-align: middle;\n",
       "    }\n",
       "\n",
       "    .dataframe tbody tr th {\n",
       "        vertical-align: top;\n",
       "    }\n",
       "\n",
       "    .dataframe thead th {\n",
       "        text-align: right;\n",
       "    }\n",
       "</style>\n",
       "<table border=\"1\" class=\"dataframe\">\n",
       "  <thead>\n",
       "    <tr style=\"text-align: right;\">\n",
       "      <th></th>\n",
       "      <th>Vehicle ID</th>\n",
       "      <th>Year</th>\n",
       "      <th>Make</th>\n",
       "      <th>Model</th>\n",
       "      <th>Class</th>\n",
       "      <th>Fuel Type</th>\n",
       "      <th>Combined MPG (FT1)</th>\n",
       "    </tr>\n",
       "  </thead>\n",
       "  <tbody>\n",
       "    <tr>\n",
       "      <th>0</th>\n",
       "      <td>26587</td>\n",
       "      <td>1984</td>\n",
       "      <td>Alfa Romeo</td>\n",
       "      <td>GT V6 2.5</td>\n",
       "      <td>Minicompact Cars</td>\n",
       "      <td>Regular</td>\n",
       "      <td>20.0</td>\n",
       "    </tr>\n",
       "    <tr>\n",
       "      <th>1</th>\n",
       "      <td>27705</td>\n",
       "      <td>1984</td>\n",
       "      <td>Alfa Romeo</td>\n",
       "      <td>GT V6 2.5</td>\n",
       "      <td>Minicompact Cars</td>\n",
       "      <td>Regular</td>\n",
       "      <td>20.0</td>\n",
       "    </tr>\n",
       "    <tr>\n",
       "      <th>2</th>\n",
       "      <td>26561</td>\n",
       "      <td>1984</td>\n",
       "      <td>Alfa Romeo</td>\n",
       "      <td>Spider Veloce 2000</td>\n",
       "      <td>Two Seaters</td>\n",
       "      <td>Regular</td>\n",
       "      <td>21.0</td>\n",
       "    </tr>\n",
       "    <tr>\n",
       "      <th>3</th>\n",
       "      <td>27681</td>\n",
       "      <td>1984</td>\n",
       "      <td>Alfa Romeo</td>\n",
       "      <td>Spider Veloce 2000</td>\n",
       "      <td>Two Seaters</td>\n",
       "      <td>Regular</td>\n",
       "      <td>21.0</td>\n",
       "    </tr>\n",
       "    <tr>\n",
       "      <th>4</th>\n",
       "      <td>27550</td>\n",
       "      <td>1984</td>\n",
       "      <td>AM General</td>\n",
       "      <td>DJ Po Vehicle 2WD</td>\n",
       "      <td>Special Purpose Vehicle 2WD</td>\n",
       "      <td>Regular</td>\n",
       "      <td>17.0</td>\n",
       "    </tr>\n",
       "  </tbody>\n",
       "</table>\n",
       "</div>"
      ],
      "text/plain": [
       "   Vehicle ID  Year        Make               Model  \\\n",
       "0       26587  1984  Alfa Romeo           GT V6 2.5   \n",
       "1       27705  1984  Alfa Romeo           GT V6 2.5   \n",
       "2       26561  1984  Alfa Romeo  Spider Veloce 2000   \n",
       "3       27681  1984  Alfa Romeo  Spider Veloce 2000   \n",
       "4       27550  1984  AM General   DJ Po Vehicle 2WD   \n",
       "\n",
       "                         Class Fuel Type  Combined MPG (FT1)  \n",
       "0             Minicompact Cars   Regular                20.0  \n",
       "1             Minicompact Cars   Regular                20.0  \n",
       "2                  Two Seaters   Regular                21.0  \n",
       "3                  Two Seaters   Regular                21.0  \n",
       "4  Special Purpose Vehicle 2WD   Regular                17.0  "
      ]
     },
     "execution_count": 6,
     "metadata": {},
     "output_type": "execute_result"
    }
   ],
   "source": [
    "fuel.head()"
   ]
  },
  {
   "cell_type": "code",
   "execution_count": 7,
   "id": "ea5f8365-d7dc-49bf-bd62-667acebc139a",
   "metadata": {},
   "outputs": [
    {
     "name": "stdout",
     "output_type": "stream",
     "text": [
      "<class 'pandas.core.frame.DataFrame'>\n",
      "RangeIndex: 31684 entries, 0 to 31683\n",
      "Data columns (total 7 columns):\n",
      " #   Column              Non-Null Count  Dtype  \n",
      "---  ------              --------------  -----  \n",
      " 0   Vehicle ID          31684 non-null  int64  \n",
      " 1   Year                31684 non-null  int64  \n",
      " 2   Make                31684 non-null  object \n",
      " 3   Model               31683 non-null  object \n",
      " 4   Class               31683 non-null  object \n",
      " 5   Fuel Type           31683 non-null  object \n",
      " 6   Combined MPG (FT1)  31683 non-null  float64\n",
      "dtypes: float64(1), int64(2), object(4)\n",
      "memory usage: 1.7+ MB\n"
     ]
    }
   ],
   "source": [
    "fuel.info()"
   ]
  },
  {
   "cell_type": "code",
   "execution_count": 8,
   "id": "e985c4cc-a1d5-4475-a8f2-380b0cb8fd31",
   "metadata": {},
   "outputs": [
    {
     "data": {
      "text/plain": [
       "Vehicle ID              int64\n",
       "Year                    int64\n",
       "Make                   object\n",
       "Model                  object\n",
       "Class                  object\n",
       "Fuel Type              object\n",
       "Combined MPG (FT1)    float64\n",
       "dtype: object"
      ]
     },
     "execution_count": 8,
     "metadata": {},
     "output_type": "execute_result"
    }
   ],
   "source": [
    "fuel.dtypes"
   ]
  },
  {
   "cell_type": "code",
   "execution_count": 10,
   "id": "33e935ba-e29d-4b65-bdae-7fbaea6713b2",
   "metadata": {},
   "outputs": [
    {
     "data": {
      "text/plain": [
       "object     4\n",
       "int64      2\n",
       "float64    1\n",
       "Name: count, dtype: int64"
      ]
     },
     "execution_count": 10,
     "metadata": {},
     "output_type": "execute_result"
    }
   ],
   "source": [
    "fuel.dtypes.value_counts()"
   ]
  },
  {
   "cell_type": "code",
   "execution_count": 14,
   "id": "e77efbcf-07c9-4026-bb6c-cba62ef6c94d",
   "metadata": {},
   "outputs": [
    {
     "data": {
      "text/plain": [
       "Make\n",
       "Chevrolet    3389\n",
       "Ford         2721\n",
       "Dodge        2361\n",
       "GMC          2174\n",
       "Toyota       1599\n",
       "Name: count, dtype: int64"
      ]
     },
     "execution_count": 14,
     "metadata": {},
     "output_type": "execute_result"
    }
   ],
   "source": [
    "fuel['Make'].value_counts().head()"
   ]
  },
  {
   "cell_type": "code",
   "execution_count": 18,
   "id": "56ab8376-a959-4a0e-8e63-b91c4cee58e5",
   "metadata": {},
   "outputs": [
    {
     "data": {
      "text/plain": [
       "RangeIndex(start=0, stop=31684, step=1)"
      ]
     },
     "execution_count": 18,
     "metadata": {},
     "output_type": "execute_result"
    }
   ],
   "source": [
    "fuel.index"
   ]
  },
  {
   "cell_type": "code",
   "execution_count": 16,
   "id": "9e60c08b-83bc-4b32-a1b3-71f5844295b1",
   "metadata": {},
   "outputs": [
    {
     "data": {
      "text/plain": [
       "Index(['Vehicle ID', 'Year', 'Make', 'Model', 'Class', 'Fuel Type',\n",
       "       'Combined MPG (FT1)'],\n",
       "      dtype='object')"
      ]
     },
     "execution_count": 16,
     "metadata": {},
     "output_type": "execute_result"
    }
   ],
   "source": [
    "fuel.columns"
   ]
  },
  {
   "cell_type": "code",
   "execution_count": 19,
   "id": "cac6ac2b-b604-4134-8cc9-f145df2dee58",
   "metadata": {},
   "outputs": [
    {
     "data": {
      "text/plain": [
       "array([[26587, 1984, 'Alfa Romeo', ..., 'Minicompact Cars', 'Regular',\n",
       "        20.0],\n",
       "       [27705, 1984, 'Alfa Romeo', ..., 'Minicompact Cars', 'Regular',\n",
       "        20.0],\n",
       "       [26561, 1984, 'Alfa Romeo', ..., 'Two Seaters', 'Regular', 21.0],\n",
       "       ...,\n",
       "       [32065, 2012, 'Mitsubishi', ..., 'Compact Cars', 'Premium', 19.0],\n",
       "       [32064, 2012, 'Mitsubishi', ..., 'Compact Cars', 'Premium', 19.0],\n",
       "       [32106, 2012, 'Mitsubish', ..., nan, nan, nan]], dtype=object)"
      ]
     },
     "execution_count": 19,
     "metadata": {},
     "output_type": "execute_result"
    }
   ],
   "source": [
    "fuel.values"
   ]
  },
  {
   "cell_type": "code",
   "execution_count": 20,
   "id": "42c55904-19bd-4da7-a0ae-ef5c6fa0a26b",
   "metadata": {},
   "outputs": [
    {
     "data": {
      "text/plain": [
       "[RangeIndex(start=0, stop=31684, step=1),\n",
       " Index(['Vehicle ID', 'Year', 'Make', 'Model', 'Class', 'Fuel Type',\n",
       "        'Combined MPG (FT1)'],\n",
       "       dtype='object')]"
      ]
     },
     "execution_count": 20,
     "metadata": {},
     "output_type": "execute_result"
    }
   ],
   "source": [
    "fuel.axes"
   ]
  },
  {
   "cell_type": "code",
   "execution_count": 21,
   "id": "6f1d6b7f-c839-4e8f-96cb-e4d87b190b70",
   "metadata": {},
   "outputs": [
    {
     "data": {
      "text/plain": [
       "(31684, 7)"
      ]
     },
     "execution_count": 21,
     "metadata": {},
     "output_type": "execute_result"
    }
   ],
   "source": [
    "fuel.shape"
   ]
  },
  {
   "cell_type": "code",
   "execution_count": 26,
   "id": "b081bf8f-3b2f-48c6-851f-157569638bb1",
   "metadata": {},
   "outputs": [
    {
     "data": {
      "text/plain": [
       "Vehicle ID            31684\n",
       "Year                  31684\n",
       "Make                  31684\n",
       "Model                 31683\n",
       "Class                 31683\n",
       "Fuel Type             31683\n",
       "Combined MPG (FT1)    31683\n",
       "dtype: int64"
      ]
     },
     "execution_count": 26,
     "metadata": {},
     "output_type": "execute_result"
    }
   ],
   "source": [
    "fuel.count()"
   ]
  },
  {
   "cell_type": "code",
   "execution_count": 28,
   "id": "116d0133-b849-4ab6-9b38-800d08d66ae7",
   "metadata": {},
   "outputs": [
    {
     "data": {
      "text/plain": [
       "31684"
      ]
     },
     "execution_count": 28,
     "metadata": {},
     "output_type": "execute_result"
    }
   ],
   "source": [
    "len(fuel)"
   ]
  },
  {
   "cell_type": "code",
   "execution_count": null,
   "id": "fb1fd538-d5ed-4ad4-9567-4e73c04d2ff0",
   "metadata": {},
   "outputs": [],
   "source": []
  }
 ],
 "metadata": {
  "kernelspec": {
   "display_name": "Python 3 (ipykernel)",
   "language": "python",
   "name": "python3"
  },
  "language_info": {
   "codemirror_mode": {
    "name": "ipython",
    "version": 3
   },
   "file_extension": ".py",
   "mimetype": "text/x-python",
   "name": "python",
   "nbconvert_exporter": "python",
   "pygments_lexer": "ipython3",
   "version": "3.11.7"
  }
 },
 "nbformat": 4,
 "nbformat_minor": 5
}
