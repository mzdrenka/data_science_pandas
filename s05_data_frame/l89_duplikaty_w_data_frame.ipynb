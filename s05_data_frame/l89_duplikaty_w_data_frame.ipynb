{
 "cells": [
  {
   "cell_type": "markdown",
   "id": "0fd9b3e8-78aa-423d-a9f1-88e7fba886db",
   "metadata": {},
   "source": [
    "## LAB - S03-L013-LAB Duplikaty w data frame\n",
    "\n",
    "1. Zaimportuj moduł pandas oraz numpy i nadaj im standardowe aliasy. Do zmiennej surveys wczytaj zawartość pliku StackOverflowDeveloperSurvey2018.csv. Pobierz tylko następujące kolumny: 'Country','Gender','OperatingSystem'. Skorzystaj z parametru low_memory=False. Wyświetl nagłówek tak utworzonego Data Frame.\n",
    "2. Sprawdź czy kolumna Country zawiera wartości unikalne\n",
    "3. Wyznacz wszystkie kraje, z jakich pochodzą uczestnicy ankiety. (Wystarczy jak wyświetlisz pierwszych kilka)\n",
    "4. Policz ile tych krajów jest (raz pomijając wartość NaN a raz uwzględniając ją)\n",
    "5. Utwórz serię wartości True/False duplicatesKeepFirst zawierającą informacje o tym czy wystąpienie kraju w surveys jest pierwsze czy kolejne\n",
    "6. Wyświetl pierwszych kilka ankiet, które pochodzą z różnych krajów (skorzystaj z duplicatedKeepFirst)\n",
    "7. Ile krajów zostanie zwróconych w poprzednim punkcie? Nim uruchomisz odpowiednie polecenie, spróbuj przewidzieć tą wartość\n",
    "8. Usuń powtarzające się wiersze ze względu na wartości w kolumnach 'Country', 'OperatingSystem'\n",
    "9. Wyświetl pozostałe w dataframe surveys wiersze dotyczące Twojego kraju\n",
    "   \n"
   ]
  },
  {
   "cell_type": "code",
   "execution_count": 25,
   "id": "c7608105-df92-41fb-8441-c952c4d21671",
   "metadata": {},
   "outputs": [],
   "source": [
    "import pandas as pd\n",
    "import numpy as np"
   ]
  },
  {
   "cell_type": "code",
   "execution_count": 26,
   "id": "91e5fc93-5f45-4984-889b-af8d6aaaf757",
   "metadata": {},
   "outputs": [
    {
     "data": {
      "text/html": [
       "<div>\n",
       "<style scoped>\n",
       "    .dataframe tbody tr th:only-of-type {\n",
       "        vertical-align: middle;\n",
       "    }\n",
       "\n",
       "    .dataframe tbody tr th {\n",
       "        vertical-align: top;\n",
       "    }\n",
       "\n",
       "    .dataframe thead th {\n",
       "        text-align: right;\n",
       "    }\n",
       "</style>\n",
       "<table border=\"1\" class=\"dataframe\">\n",
       "  <thead>\n",
       "    <tr style=\"text-align: right;\">\n",
       "      <th></th>\n",
       "      <th>Country</th>\n",
       "      <th>OperatingSystem</th>\n",
       "      <th>Gender</th>\n",
       "    </tr>\n",
       "  </thead>\n",
       "  <tbody>\n",
       "    <tr>\n",
       "      <th>0</th>\n",
       "      <td>Kenya</td>\n",
       "      <td>Linux-based</td>\n",
       "      <td>Male</td>\n",
       "    </tr>\n",
       "    <tr>\n",
       "      <th>1</th>\n",
       "      <td>United Kingdom</td>\n",
       "      <td>Linux-based</td>\n",
       "      <td>Male</td>\n",
       "    </tr>\n",
       "    <tr>\n",
       "      <th>2</th>\n",
       "      <td>United States</td>\n",
       "      <td>NaN</td>\n",
       "      <td>NaN</td>\n",
       "    </tr>\n",
       "    <tr>\n",
       "      <th>3</th>\n",
       "      <td>United States</td>\n",
       "      <td>Windows</td>\n",
       "      <td>Male</td>\n",
       "    </tr>\n",
       "    <tr>\n",
       "      <th>4</th>\n",
       "      <td>South Africa</td>\n",
       "      <td>Windows</td>\n",
       "      <td>Male</td>\n",
       "    </tr>\n",
       "  </tbody>\n",
       "</table>\n",
       "</div>"
      ],
      "text/plain": [
       "          Country OperatingSystem Gender\n",
       "0           Kenya     Linux-based   Male\n",
       "1  United Kingdom     Linux-based   Male\n",
       "2   United States             NaN    NaN\n",
       "3   United States         Windows   Male\n",
       "4    South Africa         Windows   Male"
      ]
     },
     "execution_count": 26,
     "metadata": {},
     "output_type": "execute_result"
    }
   ],
   "source": [
    "surveys = pd.read_csv('../zasoby/StackOverflowDeveloperSurvey2018.csv', usecols=['Country','Gender','OperatingSystem'], low_memory=False)\n",
    "surveys.head()"
   ]
  },
  {
   "cell_type": "code",
   "execution_count": 27,
   "id": "acfd0970-e65e-4811-8f07-27d95c4c60e7",
   "metadata": {},
   "outputs": [
    {
     "data": {
      "text/plain": [
       "False"
      ]
     },
     "execution_count": 27,
     "metadata": {},
     "output_type": "execute_result"
    }
   ],
   "source": [
    "surveys['Country'].is_unique"
   ]
  },
  {
   "cell_type": "code",
   "execution_count": 37,
   "id": "02e1e50c-51ef-4df1-8044-629729cb729c",
   "metadata": {},
   "outputs": [],
   "source": [
    "unique_countries = pd.Series(surveys['Country'].unique())"
   ]
  },
  {
   "cell_type": "code",
   "execution_count": 38,
   "id": "a6cb326f-f621-486e-be67-b0612a76f89f",
   "metadata": {},
   "outputs": [
    {
     "data": {
      "text/plain": [
       "78     Afghanistan\n",
       "85         Albania\n",
       "27         Algeria\n",
       "150        Andorra\n",
       "108         Angola\n",
       "dtype: object"
      ]
     },
     "execution_count": 38,
     "metadata": {},
     "output_type": "execute_result"
    }
   ],
   "source": [
    "unique_countries.sort_values().head()"
   ]
  },
  {
   "cell_type": "code",
   "execution_count": 39,
   "id": "acb18380-d98d-4762-8780-234ea59012a0",
   "metadata": {},
   "outputs": [
    {
     "data": {
      "text/plain": [
       "184"
      ]
     },
     "execution_count": 39,
     "metadata": {},
     "output_type": "execute_result"
    }
   ],
   "source": [
    "len(unique_countries)"
   ]
  },
  {
   "cell_type": "code",
   "execution_count": 40,
   "id": "5c4a2c44-2a59-43ef-9449-3f78e85f601f",
   "metadata": {},
   "outputs": [
    {
     "data": {
      "text/plain": [
       "184"
      ]
     },
     "execution_count": 40,
     "metadata": {},
     "output_type": "execute_result"
    }
   ],
   "source": [
    "len(surveys['Country'].unique())"
   ]
  },
  {
   "cell_type": "code",
   "execution_count": 41,
   "id": "ccc50037-d68f-472a-b484-b5cd847f7af7",
   "metadata": {},
   "outputs": [
    {
     "data": {
      "text/plain": [
       "183"
      ]
     },
     "execution_count": 41,
     "metadata": {},
     "output_type": "execute_result"
    }
   ],
   "source": [
    "surveys.Country.nunique()"
   ]
  },
  {
   "cell_type": "code",
   "execution_count": 42,
   "id": "3492e1ef-2787-40fe-8280-6724fe172e79",
   "metadata": {},
   "outputs": [],
   "source": [
    "duplicatesKeepFirst = surveys.duplicated(subset=\"Country\")"
   ]
  },
  {
   "cell_type": "code",
   "execution_count": 43,
   "id": "4f80d4b5-dac9-4297-b4d1-6562d93d5064",
   "metadata": {},
   "outputs": [
    {
     "data": {
      "text/plain": [
       "0        False\n",
       "1        False\n",
       "2        False\n",
       "3         True\n",
       "4        False\n",
       "         ...  \n",
       "98850     True\n",
       "98851     True\n",
       "98852     True\n",
       "98853     True\n",
       "98854     True\n",
       "Length: 98855, dtype: bool"
      ]
     },
     "execution_count": 43,
     "metadata": {},
     "output_type": "execute_result"
    }
   ],
   "source": [
    "duplicatesKeepFirst"
   ]
  },
  {
   "cell_type": "code",
   "execution_count": 47,
   "id": "85024322-2172-4b9a-9a2a-8312c2ba1252",
   "metadata": {},
   "outputs": [
    {
     "data": {
      "text/html": [
       "<div>\n",
       "<style scoped>\n",
       "    .dataframe tbody tr th:only-of-type {\n",
       "        vertical-align: middle;\n",
       "    }\n",
       "\n",
       "    .dataframe tbody tr th {\n",
       "        vertical-align: top;\n",
       "    }\n",
       "\n",
       "    .dataframe thead th {\n",
       "        text-align: right;\n",
       "    }\n",
       "</style>\n",
       "<table border=\"1\" class=\"dataframe\">\n",
       "  <thead>\n",
       "    <tr style=\"text-align: right;\">\n",
       "      <th></th>\n",
       "      <th>Country</th>\n",
       "      <th>OperatingSystem</th>\n",
       "      <th>Gender</th>\n",
       "    </tr>\n",
       "  </thead>\n",
       "  <tbody>\n",
       "    <tr>\n",
       "      <th>0</th>\n",
       "      <td>Kenya</td>\n",
       "      <td>Linux-based</td>\n",
       "      <td>Male</td>\n",
       "    </tr>\n",
       "    <tr>\n",
       "      <th>1</th>\n",
       "      <td>United Kingdom</td>\n",
       "      <td>Linux-based</td>\n",
       "      <td>Male</td>\n",
       "    </tr>\n",
       "    <tr>\n",
       "      <th>2</th>\n",
       "      <td>United States</td>\n",
       "      <td>NaN</td>\n",
       "      <td>NaN</td>\n",
       "    </tr>\n",
       "    <tr>\n",
       "      <th>4</th>\n",
       "      <td>South Africa</td>\n",
       "      <td>Windows</td>\n",
       "      <td>Male</td>\n",
       "    </tr>\n",
       "    <tr>\n",
       "      <th>7</th>\n",
       "      <td>Nigeria</td>\n",
       "      <td>Windows</td>\n",
       "      <td>Female</td>\n",
       "    </tr>\n",
       "    <tr>\n",
       "      <th>...</th>\n",
       "      <td>...</td>\n",
       "      <td>...</td>\n",
       "      <td>...</td>\n",
       "    </tr>\n",
       "    <tr>\n",
       "      <th>86051</th>\n",
       "      <td>Eritrea</td>\n",
       "      <td>Linux-based</td>\n",
       "      <td>Male</td>\n",
       "    </tr>\n",
       "    <tr>\n",
       "      <th>89738</th>\n",
       "      <td>Democratic People's Republic of Korea</td>\n",
       "      <td>NaN</td>\n",
       "      <td>NaN</td>\n",
       "    </tr>\n",
       "    <tr>\n",
       "      <th>92028</th>\n",
       "      <td>Djibouti</td>\n",
       "      <td>NaN</td>\n",
       "      <td>NaN</td>\n",
       "    </tr>\n",
       "    <tr>\n",
       "      <th>93487</th>\n",
       "      <td>NaN</td>\n",
       "      <td>NaN</td>\n",
       "      <td>NaN</td>\n",
       "    </tr>\n",
       "    <tr>\n",
       "      <th>96975</th>\n",
       "      <td>Guinea-Bissau</td>\n",
       "      <td>NaN</td>\n",
       "      <td>NaN</td>\n",
       "    </tr>\n",
       "  </tbody>\n",
       "</table>\n",
       "<p>184 rows × 3 columns</p>\n",
       "</div>"
      ],
      "text/plain": [
       "                                     Country OperatingSystem  Gender\n",
       "0                                      Kenya     Linux-based    Male\n",
       "1                             United Kingdom     Linux-based    Male\n",
       "2                              United States             NaN     NaN\n",
       "4                               South Africa         Windows    Male\n",
       "7                                    Nigeria         Windows  Female\n",
       "...                                      ...             ...     ...\n",
       "86051                                Eritrea     Linux-based    Male\n",
       "89738  Democratic People's Republic of Korea             NaN     NaN\n",
       "92028                               Djibouti             NaN     NaN\n",
       "93487                                    NaN             NaN     NaN\n",
       "96975                          Guinea-Bissau             NaN     NaN\n",
       "\n",
       "[184 rows x 3 columns]"
      ]
     },
     "execution_count": 47,
     "metadata": {},
     "output_type": "execute_result"
    }
   ],
   "source": [
    "surveys[~duplicatesKeepFirst]"
   ]
  },
  {
   "cell_type": "code",
   "execution_count": 53,
   "id": "22d82a6f-5a6a-4205-9869-5e464d0ed162",
   "metadata": {},
   "outputs": [
    {
     "data": {
      "text/plain": [
       "184"
      ]
     },
     "execution_count": 53,
     "metadata": {},
     "output_type": "execute_result"
    }
   ],
   "source": [
    "len(surveys[~duplicatesKeepFirst])"
   ]
  },
  {
   "cell_type": "code",
   "execution_count": 55,
   "id": "e0cc5d2b-7ed3-41da-888f-2a22ca30c905",
   "metadata": {},
   "outputs": [],
   "source": [
    "surveys.drop_duplicates(subset=['Country', 'OperatingSystem'],inplace=True)"
   ]
  },
  {
   "cell_type": "code",
   "execution_count": 56,
   "id": "d8e276ae-b09a-42e3-928d-47189a5164a6",
   "metadata": {},
   "outputs": [
    {
     "data": {
      "text/html": [
       "<div>\n",
       "<style scoped>\n",
       "    .dataframe tbody tr th:only-of-type {\n",
       "        vertical-align: middle;\n",
       "    }\n",
       "\n",
       "    .dataframe tbody tr th {\n",
       "        vertical-align: top;\n",
       "    }\n",
       "\n",
       "    .dataframe thead th {\n",
       "        text-align: right;\n",
       "    }\n",
       "</style>\n",
       "<table border=\"1\" class=\"dataframe\">\n",
       "  <thead>\n",
       "    <tr style=\"text-align: right;\">\n",
       "      <th></th>\n",
       "      <th>Country</th>\n",
       "      <th>OperatingSystem</th>\n",
       "      <th>Gender</th>\n",
       "    </tr>\n",
       "  </thead>\n",
       "  <tbody>\n",
       "    <tr>\n",
       "      <th>30</th>\n",
       "      <td>Poland</td>\n",
       "      <td>Linux-based</td>\n",
       "      <td>Male</td>\n",
       "    </tr>\n",
       "    <tr>\n",
       "      <th>34</th>\n",
       "      <td>Poland</td>\n",
       "      <td>Windows</td>\n",
       "      <td>Male</td>\n",
       "    </tr>\n",
       "    <tr>\n",
       "      <th>232</th>\n",
       "      <td>Poland</td>\n",
       "      <td>NaN</td>\n",
       "      <td>NaN</td>\n",
       "    </tr>\n",
       "    <tr>\n",
       "      <th>854</th>\n",
       "      <td>Poland</td>\n",
       "      <td>MacOS</td>\n",
       "      <td>Male</td>\n",
       "    </tr>\n",
       "    <tr>\n",
       "      <th>72587</th>\n",
       "      <td>Poland</td>\n",
       "      <td>BSD/Unix</td>\n",
       "      <td>NaN</td>\n",
       "    </tr>\n",
       "  </tbody>\n",
       "</table>\n",
       "</div>"
      ],
      "text/plain": [
       "      Country OperatingSystem Gender\n",
       "30     Poland     Linux-based   Male\n",
       "34     Poland         Windows   Male\n",
       "232    Poland             NaN    NaN\n",
       "854    Poland           MacOS   Male\n",
       "72587  Poland        BSD/Unix    NaN"
      ]
     },
     "execution_count": 56,
     "metadata": {},
     "output_type": "execute_result"
    }
   ],
   "source": [
    "surveys.query(\"Country == 'Poland'\")"
   ]
  },
  {
   "cell_type": "code",
   "execution_count": null,
   "id": "2982cd53-dc8b-442d-8db9-a7d3c4f5c384",
   "metadata": {},
   "outputs": [],
   "source": []
  }
 ],
 "metadata": {
  "kernelspec": {
   "display_name": "Python 3 (ipykernel)",
   "language": "python",
   "name": "python3"
  },
  "language_info": {
   "codemirror_mode": {
    "name": "ipython",
    "version": 3
   },
   "file_extension": ".py",
   "mimetype": "text/x-python",
   "name": "python",
   "nbconvert_exporter": "python",
   "pygments_lexer": "ipython3",
   "version": "3.11.7"
  }
 },
 "nbformat": 4,
 "nbformat_minor": 5
}
