{
 "cells": [
  {
   "cell_type": "markdown",
   "id": "2bdac029-daec-4c28-ad20-b0ca62b69314",
   "metadata": {},
   "source": [
    "## LAB - S04-L006-Przygotowanie danych\n",
    "\n",
    "1. Zaimportuj moduł pandas i numpy, nadaj im standardowe aliasy. Do zmiennej fb wczytaj zawartość pliku mrbean_facebook_statuses_with_nulls.csv. Pobierz wszystkie kolumny. Wyświetl nagłówek obiektu data frame.\n",
    "2. Sprawdź jakie kolumny ma fb, jakiego typu te kolumny są i ile pamięci zajmuje obiekt.\n",
    "3. Ponownie wczytaj plik, ale teraz wybierz tylko kolumny: \"status_message\", \"status_type\", \"link_name\", \"num_reactions\", \"num_shares\", \"num_likes\"\n",
    "4.  Sprawdź jakie kolumny ma fb, jakiego typu te kolumny są i ile pamięci zajmuje obiekt.\n",
    "5.  Próbujemy optymalizować napisy:\n",
    "- Sprawdź ile wierszy ma fb\n",
    "- Sprawdź ile unikalnych wartości występuje w kolumnie status_type\n",
    "- Wyświetl te unikalne wartości wraz z informacją o ilości powtórzeń\n",
    "- Zmień typ na category\n",
    "- Sprawdź ile unikalnych wartości występuje w kolumnie link_name\n",
    "- Wyświetl te unikalne wartości wraz z informacją o ilości powtórzeń\n",
    "- Zmień typ na category\n",
    "\n",
    "6. Sprawdź jakie kolumny ma fb, jakiego typu te kolumny są i ile pamięci zajmuje obiekt.\n",
    "7. Próbujemy zoptymalizować liczby:\n",
    "- Zamień wartości NaN na 0 w kolumnach num_reactions i num_shares\n",
    "- Zmień typ w kolumnach num_reactions, num_shares i num_likes na int\n",
    "\n",
    "8. Sprawdź jakie kolumny ma fb, jakiego typu te kolumny są i ile pamięci zajmuje obiekt."
   ]
  },
  {
   "cell_type": "code",
   "execution_count": 1,
   "id": "edf79211-4e43-4806-aa1c-019eb64ab456",
   "metadata": {},
   "outputs": [],
   "source": [
    "import pandas as pd\n",
    "import numpy as np"
   ]
  },
  {
   "cell_type": "code",
   "execution_count": 2,
   "id": "9fdacf11-69a9-4aea-9df7-f65359b87751",
   "metadata": {},
   "outputs": [
    {
     "data": {
      "text/html": [
       "<div>\n",
       "<style scoped>\n",
       "    .dataframe tbody tr th:only-of-type {\n",
       "        vertical-align: middle;\n",
       "    }\n",
       "\n",
       "    .dataframe tbody tr th {\n",
       "        vertical-align: top;\n",
       "    }\n",
       "\n",
       "    .dataframe thead th {\n",
       "        text-align: right;\n",
       "    }\n",
       "</style>\n",
       "<table border=\"1\" class=\"dataframe\">\n",
       "  <thead>\n",
       "    <tr style=\"text-align: right;\">\n",
       "      <th></th>\n",
       "      <th>status_id</th>\n",
       "      <th>status_message</th>\n",
       "      <th>link_name</th>\n",
       "      <th>status_type</th>\n",
       "      <th>status_link</th>\n",
       "      <th>status_published</th>\n",
       "      <th>num_reactions</th>\n",
       "      <th>num_comments</th>\n",
       "      <th>num_shares</th>\n",
       "      <th>num_likes</th>\n",
       "      <th>num_loves</th>\n",
       "      <th>num_wows</th>\n",
       "      <th>num_hahas</th>\n",
       "      <th>num_sads</th>\n",
       "      <th>num_angrys</th>\n",
       "    </tr>\n",
       "  </thead>\n",
       "  <tbody>\n",
       "    <tr>\n",
       "      <th>0</th>\n",
       "      <td>17774451468_10154154735571469</td>\n",
       "      <td>It's time for Mr Bean and Teddy to get ready f...</td>\n",
       "      <td>Mr Bean - Preparing To Go Camping</td>\n",
       "      <td>video</td>\n",
       "      <td>https://youtu.be/fgURU75gTMQ</td>\n",
       "      <td>2016-06-23 11:35:48</td>\n",
       "      <td>16570.0</td>\n",
       "      <td>223.0</td>\n",
       "      <td>338.0</td>\n",
       "      <td>16079</td>\n",
       "      <td>166</td>\n",
       "      <td>6</td>\n",
       "      <td>320</td>\n",
       "      <td>0</td>\n",
       "      <td>0</td>\n",
       "    </tr>\n",
       "    <tr>\n",
       "      <th>1</th>\n",
       "      <td>17774451468_10154146584106469</td>\n",
       "      <td>NaN</td>\n",
       "      <td>Timeline Photos</td>\n",
       "      <td>photo</td>\n",
       "      <td>https://www.facebook.com/MrBean/photos/a.10150...</td>\n",
       "      <td>2016-06-21 10:00:01</td>\n",
       "      <td>119886.0</td>\n",
       "      <td>2171.0</td>\n",
       "      <td>1657.0</td>\n",
       "      <td>114008</td>\n",
       "      <td>946</td>\n",
       "      <td>104</td>\n",
       "      <td>4795</td>\n",
       "      <td>16</td>\n",
       "      <td>17</td>\n",
       "    </tr>\n",
       "    <tr>\n",
       "      <th>2</th>\n",
       "      <td>17774451468_10154135502911469</td>\n",
       "      <td>NaN</td>\n",
       "      <td>Timeline Photos</td>\n",
       "      <td>photo</td>\n",
       "      <td>https://www.facebook.com/MrBean/photos/a.10150...</td>\n",
       "      <td>2016-06-19 10:00:01</td>\n",
       "      <td>NaN</td>\n",
       "      <td>2395.0</td>\n",
       "      <td>10050.0</td>\n",
       "      <td>218579</td>\n",
       "      <td>2988</td>\n",
       "      <td>188</td>\n",
       "      <td>13992</td>\n",
       "      <td>52</td>\n",
       "      <td>53</td>\n",
       "    </tr>\n",
       "    <tr>\n",
       "      <th>3</th>\n",
       "      <td>17774451468_10154138120151469</td>\n",
       "      <td>Mr Bean is ready to do some shopping but bewar...</td>\n",
       "      <td>www.youtube.com</td>\n",
       "      <td>video</td>\n",
       "      <td>https://www.youtube.com/watch?v=58Z8J0PbLS8</td>\n",
       "      <td>2016-06-18 11:00:02</td>\n",
       "      <td>20913.0</td>\n",
       "      <td>214.0</td>\n",
       "      <td>257.0</td>\n",
       "      <td>20338</td>\n",
       "      <td>211</td>\n",
       "      <td>20</td>\n",
       "      <td>336</td>\n",
       "      <td>0</td>\n",
       "      <td>8</td>\n",
       "    </tr>\n",
       "    <tr>\n",
       "      <th>4</th>\n",
       "      <td>17774451468_10154135502476469</td>\n",
       "      <td>NaN</td>\n",
       "      <td>Timeline Photos</td>\n",
       "      <td>photo</td>\n",
       "      <td>https://www.facebook.com/MrBean/photos/a.10150...</td>\n",
       "      <td>2016-06-17 09:00:01</td>\n",
       "      <td>223602.0</td>\n",
       "      <td>880.0</td>\n",
       "      <td>2228.0</td>\n",
       "      <td>215591</td>\n",
       "      <td>2872</td>\n",
       "      <td>259</td>\n",
       "      <td>4814</td>\n",
       "      <td>27</td>\n",
       "      <td>39</td>\n",
       "    </tr>\n",
       "  </tbody>\n",
       "</table>\n",
       "</div>"
      ],
      "text/plain": [
       "                       status_id  \\\n",
       "0  17774451468_10154154735571469   \n",
       "1  17774451468_10154146584106469   \n",
       "2  17774451468_10154135502911469   \n",
       "3  17774451468_10154138120151469   \n",
       "4  17774451468_10154135502476469   \n",
       "\n",
       "                                      status_message  \\\n",
       "0  It's time for Mr Bean and Teddy to get ready f...   \n",
       "1                                                NaN   \n",
       "2                                                NaN   \n",
       "3  Mr Bean is ready to do some shopping but bewar...   \n",
       "4                                                NaN   \n",
       "\n",
       "                           link_name status_type  \\\n",
       "0  Mr Bean - Preparing To Go Camping       video   \n",
       "1                    Timeline Photos       photo   \n",
       "2                    Timeline Photos       photo   \n",
       "3                    www.youtube.com       video   \n",
       "4                    Timeline Photos       photo   \n",
       "\n",
       "                                         status_link     status_published  \\\n",
       "0                       https://youtu.be/fgURU75gTMQ  2016-06-23 11:35:48   \n",
       "1  https://www.facebook.com/MrBean/photos/a.10150...  2016-06-21 10:00:01   \n",
       "2  https://www.facebook.com/MrBean/photos/a.10150...  2016-06-19 10:00:01   \n",
       "3        https://www.youtube.com/watch?v=58Z8J0PbLS8  2016-06-18 11:00:02   \n",
       "4  https://www.facebook.com/MrBean/photos/a.10150...  2016-06-17 09:00:01   \n",
       "\n",
       "   num_reactions  num_comments  num_shares  num_likes  num_loves  num_wows  \\\n",
       "0        16570.0         223.0       338.0      16079        166         6   \n",
       "1       119886.0        2171.0      1657.0     114008        946       104   \n",
       "2            NaN        2395.0     10050.0     218579       2988       188   \n",
       "3        20913.0         214.0       257.0      20338        211        20   \n",
       "4       223602.0         880.0      2228.0     215591       2872       259   \n",
       "\n",
       "   num_hahas  num_sads  num_angrys  \n",
       "0        320         0           0  \n",
       "1       4795        16          17  \n",
       "2      13992        52          53  \n",
       "3        336         0           8  \n",
       "4       4814        27          39  "
      ]
     },
     "execution_count": 2,
     "metadata": {},
     "output_type": "execute_result"
    }
   ],
   "source": [
    "fb = pd.read_csv('../zasoby/mrbean_facebook_statuses_with_nulls.csv')\n",
    "fb.head()"
   ]
  },
  {
   "cell_type": "code",
   "execution_count": 3,
   "id": "31ce14e3-428c-4764-bc73-5cd1c2e7b131",
   "metadata": {},
   "outputs": [
    {
     "name": "stdout",
     "output_type": "stream",
     "text": [
      "<class 'pandas.core.frame.DataFrame'>\n",
      "RangeIndex: 56 entries, 0 to 55\n",
      "Data columns (total 15 columns):\n",
      " #   Column            Non-Null Count  Dtype  \n",
      "---  ------            --------------  -----  \n",
      " 0   status_id         56 non-null     object \n",
      " 1   status_message    40 non-null     object \n",
      " 2   link_name         56 non-null     object \n",
      " 3   status_type       56 non-null     object \n",
      " 4   status_link       56 non-null     object \n",
      " 5   status_published  56 non-null     object \n",
      " 6   num_reactions     54 non-null     float64\n",
      " 7   num_comments      55 non-null     float64\n",
      " 8   num_shares        56 non-null     float64\n",
      " 9   num_likes         56 non-null     int64  \n",
      " 10  num_loves         56 non-null     int64  \n",
      " 11  num_wows          56 non-null     int64  \n",
      " 12  num_hahas         56 non-null     int64  \n",
      " 13  num_sads          56 non-null     int64  \n",
      " 14  num_angrys        56 non-null     int64  \n",
      "dtypes: float64(3), int64(6), object(6)\n",
      "memory usage: 34.4 KB\n"
     ]
    }
   ],
   "source": [
    "fb.info(memory_usage='deep')"
   ]
  },
  {
   "cell_type": "code",
   "execution_count": 4,
   "id": "95250a1a-1cc6-415d-8c01-48a44cc01c85",
   "metadata": {},
   "outputs": [],
   "source": [
    "fb = pd.read_csv('../zasoby/mrbean_facebook_statuses_with_nulls.csv', usecols=[\"status_message\", \"status_type\", \"link_name\", \"num_reactions\", \"num_shares\", \"num_likes\"])\n"
   ]
  },
  {
   "cell_type": "code",
   "execution_count": 5,
   "id": "f4a939e8-109d-48d4-9075-92dd3aaf1fe9",
   "metadata": {},
   "outputs": [
    {
     "name": "stdout",
     "output_type": "stream",
     "text": [
      "<class 'pandas.core.frame.DataFrame'>\n",
      "RangeIndex: 56 entries, 0 to 55\n",
      "Data columns (total 6 columns):\n",
      " #   Column          Non-Null Count  Dtype  \n",
      "---  ------          --------------  -----  \n",
      " 0   status_message  40 non-null     object \n",
      " 1   link_name       56 non-null     object \n",
      " 2   status_type     56 non-null     object \n",
      " 3   num_reactions   54 non-null     float64\n",
      " 4   num_shares      56 non-null     float64\n",
      " 5   num_likes       56 non-null     int64  \n",
      "dtypes: float64(2), int64(1), object(3)\n",
      "memory usage: 16.1 KB\n"
     ]
    }
   ],
   "source": [
    "fb.info(memory_usage='deep')"
   ]
  },
  {
   "cell_type": "code",
   "execution_count": 6,
   "id": "c246739a-c0bb-4a8b-86bb-152e5d5664d1",
   "metadata": {},
   "outputs": [
    {
     "data": {
      "text/plain": [
       "56"
      ]
     },
     "execution_count": 6,
     "metadata": {},
     "output_type": "execute_result"
    }
   ],
   "source": [
    "len(fb)"
   ]
  },
  {
   "cell_type": "code",
   "execution_count": 8,
   "id": "81874dd4-cce1-45b2-90a2-3636522aa547",
   "metadata": {},
   "outputs": [
    {
     "data": {
      "text/plain": [
       "3"
      ]
     },
     "execution_count": 8,
     "metadata": {},
     "output_type": "execute_result"
    }
   ],
   "source": [
    "fb['status_type'].nunique()"
   ]
  },
  {
   "cell_type": "code",
   "execution_count": 9,
   "id": "2bccd9ae-51d4-43f8-ad8b-aededd3b10e1",
   "metadata": {},
   "outputs": [
    {
     "data": {
      "text/plain": [
       "status_type\n",
       "video    32\n",
       "photo    22\n",
       "link      2\n",
       "Name: count, dtype: int64"
      ]
     },
     "execution_count": 9,
     "metadata": {},
     "output_type": "execute_result"
    }
   ],
   "source": [
    "fb['status_type'].value_counts()"
   ]
  },
  {
   "cell_type": "code",
   "execution_count": 11,
   "id": "f5112de7-8b8e-405f-b963-cad79f5474c5",
   "metadata": {},
   "outputs": [],
   "source": [
    "fb['status_type'] = fb['status_type'].astype('category')"
   ]
  },
  {
   "cell_type": "code",
   "execution_count": 12,
   "id": "5f7f8fe9-8f3a-4e90-bc60-5d921563b7f7",
   "metadata": {},
   "outputs": [
    {
     "data": {
      "text/plain": [
       "32"
      ]
     },
     "execution_count": 12,
     "metadata": {},
     "output_type": "execute_result"
    }
   ],
   "source": [
    "fb['link_name'].nunique()"
   ]
  },
  {
   "cell_type": "code",
   "execution_count": 13,
   "id": "ecc6f55d-0ca9-4dfa-a4dc-7cda97177b8b",
   "metadata": {},
   "outputs": [
    {
     "data": {
      "text/plain": [
       "link_name\n",
       "Timeline Photos                                                               22\n",
       "www.youtube.com                                                                4\n",
       "Mr. Bean - Sneezing and Snoozing In Church                                     1\n",
       "Mr. Bean - Mystery creature                                                    1\n",
       "Mr. Bean - Saxophone Player                                                    1\n",
       "Mr. Bean - Elderly people on stairs                                            1\n",
       "Rowan Atkinson: I will never wave goodbye to Mr Bean                           1\n",
       "Mr. Bean's Happy Moments                                                       1\n",
       "Mr. Bean - At the Disco                                                        1\n",
       "Mr Bean - Preparing To Go Camping                                              1\n",
       "Mr. Bean - Shopping for Towels                                                 1\n",
       "Mr. Bean - Counting Sheep.                                                     1\n",
       "Mr. Bean - High Dive                                                           1\n",
       "Mr. Bean (NEW series) - The Lift                                               1\n",
       "Mr Bean - Country fete games -- Volksfest Spiele                               1\n",
       "Even in LEGO, Mr. Bean travels in comfort | The Brothers Brick | LEGO Blog     1\n",
       "Mr. Bean - Making A Sandwich                                                   1\n",
       "Mr. Bean (NEW series) - Ice Cream                                              1\n",
       "Mr Bean - Crazy Golf                                                           1\n",
       "Mr. Bean - Fixing Your Own Teeth                                               1\n",
       "Mr Bean - Restaurant Etiquette                                                 1\n",
       "Mr Bean (NEW series) - Litterbugs Clip                                         1\n",
       "Mr. Bean - Alarm Clock                                                         1\n",
       "Mr. Bean (NEW Series) - Dancing Bean                                           1\n",
       "Mr. Bean - Embarrassing Moments Compilation                                    1\n",
       "Mr. Bean - How to stop a baby from crying                                      1\n",
       "Mr Bean - Dinner for Two                                                       1\n",
       "Mr Bean - Chemistry experiment                                                 1\n",
       "Mr Bean - Sun Block                                                            1\n",
       "Mr Bean - Ray Of Sunshine                                                      1\n",
       "Mr Bean - Broken Tooth                                                         1\n",
       "Mr Bean - Prison Break                                                         1\n",
       "Name: count, dtype: int64"
      ]
     },
     "execution_count": 13,
     "metadata": {},
     "output_type": "execute_result"
    }
   ],
   "source": [
    "fb['link_name'].value_counts()"
   ]
  },
  {
   "cell_type": "code",
   "execution_count": 14,
   "id": "1a25f7d2-ba86-4d44-be3c-e8ac5b0235bf",
   "metadata": {},
   "outputs": [],
   "source": [
    "fb['link_name'] = fb['link_name'].astype('category')"
   ]
  },
  {
   "cell_type": "code",
   "execution_count": 15,
   "id": "b571c334-f7d1-4398-922f-2596a7547cb2",
   "metadata": {},
   "outputs": [
    {
     "name": "stdout",
     "output_type": "stream",
     "text": [
      "<class 'pandas.core.frame.DataFrame'>\n",
      "RangeIndex: 56 entries, 0 to 55\n",
      "Data columns (total 6 columns):\n",
      " #   Column          Non-Null Count  Dtype   \n",
      "---  ------          --------------  -----   \n",
      " 0   status_message  40 non-null     object  \n",
      " 1   link_name       56 non-null     category\n",
      " 2   status_type     56 non-null     category\n",
      " 3   num_reactions   54 non-null     float64 \n",
      " 4   num_shares      56 non-null     float64 \n",
      " 5   num_likes       56 non-null     int64   \n",
      "dtypes: category(2), float64(2), int64(1), object(1)\n",
      "memory usage: 12.4 KB\n"
     ]
    }
   ],
   "source": [
    "fb.info(memory_usage='deep')"
   ]
  },
  {
   "cell_type": "code",
   "execution_count": 17,
   "id": "6f932a12-a644-418d-bbd5-5f0c16f047c9",
   "metadata": {},
   "outputs": [],
   "source": [
    "fb['num_reactions'].fillna(0, inplace=True)\n",
    "fb['num_shares'].fillna(0, inplace=True)\n",
    "fb['num_reactions'] = fb['num_reactions'].astype('int32')\n",
    "fb['num_shares'] = fb['num_reactions'].astype('int32')"
   ]
  },
  {
   "cell_type": "code",
   "execution_count": 18,
   "id": "a68d2074-038c-4fe2-bc1d-8f8ded385ff3",
   "metadata": {},
   "outputs": [
    {
     "name": "stdout",
     "output_type": "stream",
     "text": [
      "<class 'pandas.core.frame.DataFrame'>\n",
      "RangeIndex: 56 entries, 0 to 55\n",
      "Data columns (total 6 columns):\n",
      " #   Column          Non-Null Count  Dtype   \n",
      "---  ------          --------------  -----   \n",
      " 0   status_message  40 non-null     object  \n",
      " 1   link_name       56 non-null     category\n",
      " 2   status_type     56 non-null     category\n",
      " 3   num_reactions   56 non-null     int32   \n",
      " 4   num_shares      56 non-null     int32   \n",
      " 5   num_likes       56 non-null     int64   \n",
      "dtypes: category(2), int32(2), int64(1), object(1)\n",
      "memory usage: 12.0 KB\n"
     ]
    }
   ],
   "source": [
    "fb.info(memory_usage='deep')"
   ]
  },
  {
   "cell_type": "code",
   "execution_count": null,
   "id": "64ccc17a-cafc-4777-a4c4-ac2ddb2eb6a8",
   "metadata": {},
   "outputs": [],
   "source": []
  }
 ],
 "metadata": {
  "kernelspec": {
   "display_name": "Python 3 (ipykernel)",
   "language": "python",
   "name": "python3"
  },
  "language_info": {
   "codemirror_mode": {
    "name": "ipython",
    "version": 3
   },
   "file_extension": ".py",
   "mimetype": "text/x-python",
   "name": "python",
   "nbconvert_exporter": "python",
   "pygments_lexer": "ipython3",
   "version": "3.11.7"
  }
 },
 "nbformat": 4,
 "nbformat_minor": 5
}
